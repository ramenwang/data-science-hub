{
 "cells": [
  {
   "cell_type": "code",
   "execution_count": 1,
   "metadata": {
    "colab": {
     "base_uri": "https://localhost:8080/",
     "height": 224
    },
    "colab_type": "code",
    "executionInfo": {
     "elapsed": 11414,
     "status": "ok",
     "timestamp": 1583470420292,
     "user": {
      "displayName": "Ramen Wang",
      "photoUrl": "https://lh3.googleusercontent.com/a-/AOh14GjbcBrssGQClYbi481zcERlUyBQvJ6LBQ_dx07fbg=s64",
      "userId": "15359170826065236531"
     },
     "user_tz": 360
    },
    "id": "tEWKCKxiFxlW",
    "outputId": "592a3718-51eb-465a-bd49-6ec3b13292c8"
   },
   "outputs": [
    {
     "name": "stdout",
     "output_type": "stream",
     "text": [
      "--2020-03-06 04:53:30--  https://s3-api.us-geo.objectstorage.softlayer.net/cf-courses-data/CognitiveClass/DL0321EN/data/concrete_data_week3.zip\n",
      "Resolving s3-api.us-geo.objectstorage.softlayer.net (s3-api.us-geo.objectstorage.softlayer.net)... 67.228.254.196\n",
      "Connecting to s3-api.us-geo.objectstorage.softlayer.net (s3-api.us-geo.objectstorage.softlayer.net)|67.228.254.196|:443... connected.\n",
      "HTTP request sent, awaiting response... 200 OK\n",
      "Length: 261482368 (249M) [application/zip]\n",
      "Saving to: ‘concrete_data_week3.zip’\n",
      "\n",
      "concrete_data_week3 100%[===================>] 249.37M  30.0MB/s    in 8.6s    \n",
      "\n",
      "2020-03-06 04:53:39 (29.0 MB/s) - ‘concrete_data_week3.zip’ saved [261482368/261482368]\n",
      "\n"
     ]
    }
   ],
   "source": [
    "## get the data\n",
    "!wget https://s3-api.us-geo.objectstorage.softlayer.net/cf-courses-data/CognitiveClass/DL0321EN/data/concrete_data_week3.zip"
   ]
  },
  {
   "cell_type": "code",
   "execution_count": 0,
   "metadata": {
    "colab": {},
    "colab_type": "code",
    "id": "WVLaPBiEF1Gz"
   },
   "outputs": [],
   "source": [
    "!unzip concrete_data_week3.zip"
   ]
  },
  {
   "cell_type": "code",
   "execution_count": 3,
   "metadata": {
    "colab": {
     "base_uri": "https://localhost:8080/",
     "height": 80
    },
    "colab_type": "code",
    "executionInfo": {
     "elapsed": 1562,
     "status": "ok",
     "timestamp": 1583470456962,
     "user": {
      "displayName": "Ramen Wang",
      "photoUrl": "https://lh3.googleusercontent.com/a-/AOh14GjbcBrssGQClYbi481zcERlUyBQvJ6LBQ_dx07fbg=s64",
      "userId": "15359170826065236531"
     },
     "user_tz": 360
    },
    "id": "UNRMVsrbF-XU",
    "outputId": "a62540ee-ff33-4d07-a373-7335f05d0aeb"
   },
   "outputs": [
    {
     "name": "stderr",
     "output_type": "stream",
     "text": [
      "Using TensorFlow backend.\n"
     ]
    },
    {
     "data": {
      "text/html": [
       "<p style=\"color: red;\">\n",
       "The default version of TensorFlow in Colab will soon switch to TensorFlow 2.x.<br>\n",
       "We recommend you <a href=\"https://www.tensorflow.org/guide/migrate\" target=\"_blank\">upgrade</a> now \n",
       "or ensure your notebook will continue to use TensorFlow 1.x via the <code>%tensorflow_version 1.x</code> magic:\n",
       "<a href=\"https://colab.research.google.com/notebooks/tensorflow_version.ipynb\" target=\"_blank\">more info</a>.</p>\n"
      ],
      "text/plain": [
       "<IPython.core.display.HTML object>"
      ]
     },
     "metadata": {
      "tags": []
     },
     "output_type": "display_data"
    }
   ],
   "source": [
    "from keras.preprocessing.image import ImageDataGenerator\n",
    "\n",
    "import keras\n",
    "from keras.models import Sequential\n",
    "from keras.layers import Dense"
   ]
  },
  {
   "cell_type": "code",
   "execution_count": 0,
   "metadata": {
    "colab": {},
    "colab_type": "code",
    "id": "9wlnn_08HMci"
   },
   "outputs": [],
   "source": [
    "from keras.applications import ResNet50\n",
    "from keras.applications.resnet50 import preprocess_input"
   ]
  },
  {
   "cell_type": "code",
   "execution_count": 0,
   "metadata": {
    "colab": {},
    "colab_type": "code",
    "id": "KB79II61HP-p"
   },
   "outputs": [],
   "source": [
    "num_classes = 2\n",
    "\n",
    "image_resize = 224\n",
    "\n",
    "batch_size_training = 100\n",
    "batch_size_validation = 100"
   ]
  },
  {
   "cell_type": "code",
   "execution_count": 0,
   "metadata": {
    "colab": {},
    "colab_type": "code",
    "id": "I7KqPn6iHSWo"
   },
   "outputs": [],
   "source": [
    "# using predefined preprocessing\n",
    "data_generator = ImageDataGenerator(\n",
    "    preprocessing_function=preprocess_input\n",
    ")"
   ]
  },
  {
   "cell_type": "code",
   "execution_count": 7,
   "metadata": {
    "colab": {
     "base_uri": "https://localhost:8080/",
     "height": 34
    },
    "colab_type": "code",
    "executionInfo": {
     "elapsed": 2027,
     "status": "ok",
     "timestamp": 1583470466085,
     "user": {
      "displayName": "Ramen Wang",
      "photoUrl": "https://lh3.googleusercontent.com/a-/AOh14GjbcBrssGQClYbi481zcERlUyBQvJ6LBQ_dx07fbg=s64",
      "userId": "15359170826065236531"
     },
     "user_tz": 360
    },
    "id": "wSIt8IoJHdF6",
    "outputId": "c10b3858-bca5-4dc3-9dc7-2819013b15cd"
   },
   "outputs": [
    {
     "name": "stdout",
     "output_type": "stream",
     "text": [
      "Found 30001 images belonging to 2 classes.\n"
     ]
    }
   ],
   "source": [
    "train_generator = data_generator.flow_from_directory(\n",
    "    'concrete_data_week3/train',\n",
    "    target_size=(image_resize, image_resize),\n",
    "    batch_size=batch_size_training,\n",
    "    class_mode='categorical')"
   ]
  },
  {
   "cell_type": "code",
   "execution_count": 8,
   "metadata": {
    "colab": {
     "base_uri": "https://localhost:8080/",
     "height": 34
    },
    "colab_type": "code",
    "executionInfo": {
     "elapsed": 484,
     "status": "ok",
     "timestamp": 1583470467457,
     "user": {
      "displayName": "Ramen Wang",
      "photoUrl": "https://lh3.googleusercontent.com/a-/AOh14GjbcBrssGQClYbi481zcERlUyBQvJ6LBQ_dx07fbg=s64",
      "userId": "15359170826065236531"
     },
     "user_tz": 360
    },
    "id": "cVcmmR9mHfH5",
    "outputId": "fb041a65-28fe-4c4f-bcc3-50b133ef4609"
   },
   "outputs": [
    {
     "name": "stdout",
     "output_type": "stream",
     "text": [
      "Found 10001 images belonging to 2 classes.\n"
     ]
    }
   ],
   "source": [
    "validation_generator = data_generator.flow_from_directory(\n",
    "    directory='concrete_data_week3/valid',\n",
    "    target_size=(image_resize, image_resize),\n",
    "    batch_size=batch_size_validation,\n",
    "    class_mode='categorical'\n",
    ")"
   ]
  },
  {
   "cell_type": "code",
   "execution_count": 9,
   "metadata": {
    "colab": {
     "base_uri": "https://localhost:8080/",
     "height": 479
    },
    "colab_type": "code",
    "executionInfo": {
     "elapsed": 22120,
     "status": "ok",
     "timestamp": 1583470491535,
     "user": {
      "displayName": "Ramen Wang",
      "photoUrl": "https://lh3.googleusercontent.com/a-/AOh14GjbcBrssGQClYbi481zcERlUyBQvJ6LBQ_dx07fbg=s64",
      "userId": "15359170826065236531"
     },
     "user_tz": 360
    },
    "id": "qR18hkgPJNwB",
    "outputId": "95f75b1b-ce3e-4989-8bef-427908ab0f29"
   },
   "outputs": [
    {
     "name": "stdout",
     "output_type": "stream",
     "text": [
      "WARNING:tensorflow:From /usr/local/lib/python3.6/dist-packages/keras/backend/tensorflow_backend.py:66: The name tf.get_default_graph is deprecated. Please use tf.compat.v1.get_default_graph instead.\n",
      "\n",
      "WARNING:tensorflow:From /usr/local/lib/python3.6/dist-packages/keras/backend/tensorflow_backend.py:541: The name tf.placeholder is deprecated. Please use tf.compat.v1.placeholder instead.\n",
      "\n",
      "WARNING:tensorflow:From /usr/local/lib/python3.6/dist-packages/keras/backend/tensorflow_backend.py:4479: The name tf.truncated_normal is deprecated. Please use tf.random.truncated_normal instead.\n",
      "\n",
      "WARNING:tensorflow:From /usr/local/lib/python3.6/dist-packages/keras/backend/tensorflow_backend.py:190: The name tf.get_default_session is deprecated. Please use tf.compat.v1.get_default_session instead.\n",
      "\n",
      "WARNING:tensorflow:From /usr/local/lib/python3.6/dist-packages/keras/backend/tensorflow_backend.py:197: The name tf.ConfigProto is deprecated. Please use tf.compat.v1.ConfigProto instead.\n",
      "\n",
      "WARNING:tensorflow:From /usr/local/lib/python3.6/dist-packages/keras/backend/tensorflow_backend.py:203: The name tf.Session is deprecated. Please use tf.compat.v1.Session instead.\n",
      "\n",
      "WARNING:tensorflow:From /usr/local/lib/python3.6/dist-packages/keras/backend/tensorflow_backend.py:207: The name tf.global_variables is deprecated. Please use tf.compat.v1.global_variables instead.\n",
      "\n",
      "WARNING:tensorflow:From /usr/local/lib/python3.6/dist-packages/keras/backend/tensorflow_backend.py:216: The name tf.is_variable_initialized is deprecated. Please use tf.compat.v1.is_variable_initialized instead.\n",
      "\n",
      "WARNING:tensorflow:From /usr/local/lib/python3.6/dist-packages/keras/backend/tensorflow_backend.py:223: The name tf.variables_initializer is deprecated. Please use tf.compat.v1.variables_initializer instead.\n",
      "\n",
      "WARNING:tensorflow:From /usr/local/lib/python3.6/dist-packages/keras/backend/tensorflow_backend.py:2041: The name tf.nn.fused_batch_norm is deprecated. Please use tf.compat.v1.nn.fused_batch_norm instead.\n",
      "\n",
      "WARNING:tensorflow:From /usr/local/lib/python3.6/dist-packages/keras/backend/tensorflow_backend.py:148: The name tf.placeholder_with_default is deprecated. Please use tf.compat.v1.placeholder_with_default instead.\n",
      "\n",
      "WARNING:tensorflow:From /usr/local/lib/python3.6/dist-packages/keras/backend/tensorflow_backend.py:4267: The name tf.nn.max_pool is deprecated. Please use tf.nn.max_pool2d instead.\n",
      "\n",
      "Downloading data from https://github.com/fchollet/deep-learning-models/releases/download/v0.2/resnet50_weights_tf_dim_ordering_tf_kernels_notop.h5\n",
      "94658560/94653016 [==============================] - 2s 0us/step\n"
     ]
    }
   ],
   "source": [
    "model = Sequential()\n",
    "\n",
    "model.add(ResNet50(\n",
    "    include_top=False,\n",
    "    pooling='avg',\n",
    "    weights='imagenet',\n",
    "    ))"
   ]
  },
  {
   "cell_type": "code",
   "execution_count": 10,
   "metadata": {
    "colab": {
     "base_uri": "https://localhost:8080/",
     "height": 71
    },
    "colab_type": "code",
    "executionInfo": {
     "elapsed": 409,
     "status": "ok",
     "timestamp": 1583470494237,
     "user": {
      "displayName": "Ramen Wang",
      "photoUrl": "https://lh3.googleusercontent.com/a-/AOh14GjbcBrssGQClYbi481zcERlUyBQvJ6LBQ_dx07fbg=s64",
      "userId": "15359170826065236531"
     },
     "user_tz": 360
    },
    "id": "iM64UlmUJbDz",
    "outputId": "d23291ed-ca2c-4586-d710-00b0f61a1dc4"
   },
   "outputs": [
    {
     "name": "stdout",
     "output_type": "stream",
     "text": [
      "WARNING:tensorflow:From /usr/local/lib/python3.6/dist-packages/keras/backend/tensorflow_backend.py:4432: The name tf.random_uniform is deprecated. Please use tf.random.uniform instead.\n",
      "\n"
     ]
    }
   ],
   "source": [
    "model.add(Dense(num_classes, activation='softmax'))"
   ]
  },
  {
   "cell_type": "code",
   "execution_count": 11,
   "metadata": {
    "colab": {
     "base_uri": "https://localhost:8080/",
     "height": 51
    },
    "colab_type": "code",
    "executionInfo": {
     "elapsed": 393,
     "status": "ok",
     "timestamp": 1583470497197,
     "user": {
      "displayName": "Ramen Wang",
      "photoUrl": "https://lh3.googleusercontent.com/a-/AOh14GjbcBrssGQClYbi481zcERlUyBQvJ6LBQ_dx07fbg=s64",
      "userId": "15359170826065236531"
     },
     "user_tz": 360
    },
    "id": "-k9M5-k2JqK_",
    "outputId": "d1b69dcf-cc5b-4679-f319-75061903a353"
   },
   "outputs": [
    {
     "data": {
      "text/plain": [
       "[<keras.engine.training.Model at 0x7efd70a0f940>,\n",
       " <keras.layers.core.Dense at 0x7efe20025ef0>]"
      ]
     },
     "execution_count": 11,
     "metadata": {
      "tags": []
     },
     "output_type": "execute_result"
    }
   ],
   "source": [
    "model.layers"
   ]
  },
  {
   "cell_type": "code",
   "execution_count": 12,
   "metadata": {
    "colab": {
     "base_uri": "https://localhost:8080/",
     "height": 1000
    },
    "colab_type": "code",
    "executionInfo": {
     "elapsed": 324,
     "status": "ok",
     "timestamp": 1583470498168,
     "user": {
      "displayName": "Ramen Wang",
      "photoUrl": "https://lh3.googleusercontent.com/a-/AOh14GjbcBrssGQClYbi481zcERlUyBQvJ6LBQ_dx07fbg=s64",
      "userId": "15359170826065236531"
     },
     "user_tz": 360
    },
    "id": "CsQM6CFIJsh5",
    "outputId": "2e7671be-0162-45dc-b18d-b7dc189861f3"
   },
   "outputs": [
    {
     "data": {
      "text/plain": [
       "[<keras.engine.input_layer.InputLayer at 0x7efde3c4d780>,\n",
       " <keras.layers.convolutional.ZeroPadding2D at 0x7efde3c670f0>,\n",
       " <keras.layers.convolutional.Conv2D at 0x7efde3c672b0>,\n",
       " <keras.layers.normalization.BatchNormalization at 0x7efde3c67978>,\n",
       " <keras.layers.core.Activation at 0x7efde3c679b0>,\n",
       " <keras.layers.convolutional.ZeroPadding2D at 0x7efde285f4a8>,\n",
       " <keras.layers.pooling.MaxPooling2D at 0x7efde25d10f0>,\n",
       " <keras.layers.convolutional.Conv2D at 0x7efde257ffd0>,\n",
       " <keras.layers.normalization.BatchNormalization at 0x7efde258b5c0>,\n",
       " <keras.layers.core.Activation at 0x7efde258beb8>,\n",
       " <keras.layers.convolutional.Conv2D at 0x7efde25936d8>,\n",
       " <keras.layers.normalization.BatchNormalization at 0x7efde254a5c0>,\n",
       " <keras.layers.core.Activation at 0x7efde2553f60>,\n",
       " <keras.layers.convolutional.Conv2D at 0x7efde25584e0>,\n",
       " <keras.layers.convolutional.Conv2D at 0x7efde2516f98>,\n",
       " <keras.layers.normalization.BatchNormalization at 0x7efde250f470>,\n",
       " <keras.layers.normalization.BatchNormalization at 0x7efde24d53c8>,\n",
       " <keras.layers.merge.Add at 0x7efde24d52e8>,\n",
       " <keras.layers.core.Activation at 0x7efde24e9a58>,\n",
       " <keras.layers.convolutional.Conv2D at 0x7efde2478860>,\n",
       " <keras.layers.normalization.BatchNormalization at 0x7efde249ac50>,\n",
       " <keras.layers.core.Activation at 0x7efde24a2dd8>,\n",
       " <keras.layers.convolutional.Conv2D at 0x7efde24aa550>,\n",
       " <keras.layers.normalization.BatchNormalization at 0x7efde142e518>,\n",
       " <keras.layers.core.Activation at 0x7efde1437e48>,\n",
       " <keras.layers.convolutional.Conv2D at 0x7efde143f5c0>,\n",
       " <keras.layers.normalization.BatchNormalization at 0x7efde13f3588>,\n",
       " <keras.layers.merge.Add at 0x7efde13fdfd0>,\n",
       " <keras.layers.core.Activation at 0x7efde1391fd0>,\n",
       " <keras.layers.convolutional.Conv2D at 0x7efde13ac6d8>,\n",
       " <keras.layers.normalization.BatchNormalization at 0x7efde13bafd0>,\n",
       " <keras.layers.core.Activation at 0x7efde13c2438>,\n",
       " <keras.layers.convolutional.Conv2D at 0x7efde1318d30>,\n",
       " <keras.layers.normalization.BatchNormalization at 0x7efde1337780>,\n",
       " <keras.layers.core.Activation at 0x7efde1337710>,\n",
       " <keras.layers.convolutional.Conv2D at 0x7efde12c52b0>,\n",
       " <keras.layers.normalization.BatchNormalization at 0x7efde12fd7f0>,\n",
       " <keras.layers.merge.Add at 0x7efde12fd780>,\n",
       " <keras.layers.core.Activation at 0x7efdd421dd30>,\n",
       " <keras.layers.convolutional.Conv2D at 0x7efdd4222e48>,\n",
       " <keras.layers.normalization.BatchNormalization at 0x7efdd41c7e48>,\n",
       " <keras.layers.core.Activation at 0x7efdd41cf6a0>,\n",
       " <keras.layers.convolutional.Conv2D at 0x7efdd41d72e8>,\n",
       " <keras.layers.normalization.BatchNormalization at 0x7efdd4190a20>,\n",
       " <keras.layers.core.Activation at 0x7efdd4190f98>,\n",
       " <keras.layers.convolutional.Conv2D at 0x7efdd419c358>,\n",
       " <keras.layers.convolutional.Conv2D at 0x7efdd415f0b8>,\n",
       " <keras.layers.normalization.BatchNormalization at 0x7efdd4157a90>,\n",
       " <keras.layers.normalization.BatchNormalization at 0x7efdd411fa90>,\n",
       " <keras.layers.merge.Add at 0x7efdd411fba8>,\n",
       " <keras.layers.core.Activation at 0x7efdd413ae10>,\n",
       " <keras.layers.convolutional.Conv2D at 0x7efdd4141f98>,\n",
       " <keras.layers.normalization.BatchNormalization at 0x7efdd40e4fd0>,\n",
       " <keras.layers.core.Activation at 0x7efdd40ed7f0>,\n",
       " <keras.layers.convolutional.Conv2D at 0x7efdd40f2400>,\n",
       " <keras.layers.normalization.BatchNormalization at 0x7efdd40aab38>,\n",
       " <keras.layers.core.Activation at 0x7efdd40b2080>,\n",
       " <keras.layers.convolutional.Conv2D at 0x7efdd40b8470>,\n",
       " <keras.layers.normalization.BatchNormalization at 0x7efdd4071ba8>,\n",
       " <keras.layers.merge.Add at 0x7efdd40790f0>,\n",
       " <keras.layers.core.Activation at 0x7efdd400e860>,\n",
       " <keras.layers.convolutional.Conv2D at 0x7efdd400eeb8>,\n",
       " <keras.layers.normalization.BatchNormalization at 0x7efdd40407f0>,\n",
       " <keras.layers.core.Activation at 0x7efdd4040b00>,\n",
       " <keras.layers.convolutional.Conv2D at 0x7efdd011d780>,\n",
       " <keras.layers.normalization.BatchNormalization at 0x7efdd0153e80>,\n",
       " <keras.layers.core.Activation at 0x7efdd015b3c8>,\n",
       " <keras.layers.convolutional.Conv2D at 0x7efdd00e47f0>,\n",
       " <keras.layers.normalization.BatchNormalization at 0x7efdd011aeb8>,\n",
       " <keras.layers.merge.Add at 0x7efdd00a2400>,\n",
       " <keras.layers.core.Activation at 0x7efdd00b8d68>,\n",
       " <keras.layers.convolutional.Conv2D at 0x7efdd00ce128>,\n",
       " <keras.layers.normalization.BatchNormalization at 0x7efdd0066b38>,\n",
       " <keras.layers.core.Activation at 0x7efdd0066e48>,\n",
       " <keras.layers.convolutional.Conv2D at 0x7efdd0073c88>,\n",
       " <keras.layers.normalization.BatchNormalization at 0x7efdd00972b0>,\n",
       " <keras.layers.core.Activation at 0x7efdd0097240>,\n",
       " <keras.layers.convolutional.Conv2D at 0x7efdd003acf8>,\n",
       " <keras.layers.normalization.BatchNormalization at 0x7efd712a3320>,\n",
       " <keras.layers.merge.Add at 0x7efd712a32b0>,\n",
       " <keras.layers.core.Activation at 0x7efd712bcb70>,\n",
       " <keras.layers.convolutional.Conv2D at 0x7efd7125e470>,\n",
       " <keras.layers.normalization.BatchNormalization at 0x7efd7126ae48>,\n",
       " <keras.layers.core.Activation at 0x7efd71275fd0>,\n",
       " <keras.layers.convolutional.Conv2D at 0x7efd7127a6a0>,\n",
       " <keras.layers.normalization.BatchNormalization at 0x7efd712335f8>,\n",
       " <keras.layers.core.Activation at 0x7efd7123de48>,\n",
       " <keras.layers.convolutional.Conv2D at 0x7efd71242668>,\n",
       " <keras.layers.convolutional.Conv2D at 0x7efd71201eb8>,\n",
       " <keras.layers.normalization.BatchNormalization at 0x7efd711fa668>,\n",
       " <keras.layers.normalization.BatchNormalization at 0x7efd711becc0>,\n",
       " <keras.layers.merge.Add at 0x7efd711bedd8>,\n",
       " <keras.layers.core.Activation at 0x7efd7115c710>,\n",
       " <keras.layers.convolutional.Conv2D at 0x7efd7115cfd0>,\n",
       " <keras.layers.normalization.BatchNormalization at 0x7efd7110dc88>,\n",
       " <keras.layers.core.Activation at 0x7efd71115dd8>,\n",
       " <keras.layers.convolutional.Conv2D at 0x7efd7111b550>,\n",
       " <keras.layers.normalization.BatchNormalization at 0x7efd710d3550>,\n",
       " <keras.layers.core.Activation at 0x7efd710dbdd8>,\n",
       " <keras.layers.convolutional.Conv2D at 0x7efd710e16a0>,\n",
       " <keras.layers.normalization.BatchNormalization at 0x7efd71097588>,\n",
       " <keras.layers.merge.Add at 0x7efd710a3dd8>,\n",
       " <keras.layers.core.Activation at 0x7efd710b7fd0>,\n",
       " <keras.layers.convolutional.Conv2D at 0x7efd710bec18>,\n",
       " <keras.layers.normalization.BatchNormalization at 0x7efd71068828>,\n",
       " <keras.layers.core.Activation at 0x7efd71068b38>,\n",
       " <keras.layers.convolutional.Conv2D at 0x7efd7107dcf8>,\n",
       " <keras.layers.normalization.BatchNormalization at 0x7efd71028f98>,\n",
       " <keras.layers.core.Activation at 0x7efd71028f28>,\n",
       " <keras.layers.convolutional.Conv2D at 0x7efd71037be0>,\n",
       " <keras.layers.normalization.BatchNormalization at 0x7efd70feffd0>,\n",
       " <keras.layers.merge.Add at 0x7efd70ff64a8>,\n",
       " <keras.layers.core.Activation at 0x7efd70f93fd0>,\n",
       " <keras.layers.convolutional.Conv2D at 0x7efd70fb0518>,\n",
       " <keras.layers.normalization.BatchNormalization at 0x7efd70fbdeb8>,\n",
       " <keras.layers.core.Activation at 0x7efd70fc55f8>,\n",
       " <keras.layers.convolutional.Conv2D at 0x7efd70f4e240>,\n",
       " <keras.layers.normalization.BatchNormalization at 0x7efd70f84a20>,\n",
       " <keras.layers.core.Activation at 0x7efd70f849b0>,\n",
       " <keras.layers.convolutional.Conv2D at 0x7efd70f142b0>,\n",
       " <keras.layers.normalization.BatchNormalization at 0x7efd70ec99e8>,\n",
       " <keras.layers.merge.Add at 0x7efd70ec9f60>,\n",
       " <keras.layers.core.Activation at 0x7efd70ee76a0>,\n",
       " <keras.layers.convolutional.Conv2D at 0x7efd70ee7f98>,\n",
       " <keras.layers.normalization.BatchNormalization at 0x7efd70e99cf8>,\n",
       " <keras.layers.core.Activation at 0x7efd70ea2f28>,\n",
       " <keras.layers.convolutional.Conv2D at 0x7efd70ea84e0>,\n",
       " <keras.layers.normalization.BatchNormalization at 0x7efd70e5f4a8>,\n",
       " <keras.layers.core.Activation at 0x7efd70e68dd8>,\n",
       " <keras.layers.convolutional.Conv2D at 0x7efd70e70550>,\n",
       " <keras.layers.normalization.BatchNormalization at 0x7efd70e25518>,\n",
       " <keras.layers.merge.Add at 0x7efd70e30e48>,\n",
       " <keras.layers.core.Activation at 0x7efd70e41f60>,\n",
       " <keras.layers.convolutional.Conv2D at 0x7efd70e48b70>,\n",
       " <keras.layers.normalization.BatchNormalization at 0x7efd70df57b8>,\n",
       " <keras.layers.core.Activation at 0x7efd70df5ac8>,\n",
       " <keras.layers.convolutional.Conv2D at 0x7efd70dfc748>,\n",
       " <keras.layers.normalization.BatchNormalization at 0x7efd70db5e10>,\n",
       " <keras.layers.core.Activation at 0x7efd70dba358>,\n",
       " <keras.layers.convolutional.Conv2D at 0x7efd70dc56d8>,\n",
       " <keras.layers.normalization.BatchNormalization at 0x7efd70d7ceb8>,\n",
       " <keras.layers.merge.Add at 0x7efd70d83400>,\n",
       " <keras.layers.core.Activation at 0x7efd70d18d30>,\n",
       " <keras.layers.convolutional.Conv2D at 0x7efd70d3b438>,\n",
       " <keras.layers.normalization.BatchNormalization at 0x7efd70d48da0>,\n",
       " <keras.layers.core.Activation at 0x7efd70cd2550>,\n",
       " <keras.layers.convolutional.Conv2D at 0x7efd70cd8198>,\n",
       " <keras.layers.normalization.BatchNormalization at 0x7efd70c8e978>,\n",
       " <keras.layers.core.Activation at 0x7efd70c8e908>,\n",
       " <keras.layers.convolutional.Conv2D at 0x7efd70ca1208>,\n",
       " <keras.layers.convolutional.Conv2D at 0x7efd70c59978>,\n",
       " <keras.layers.normalization.BatchNormalization at 0x7efd70c599e8>,\n",
       " <keras.layers.normalization.BatchNormalization at 0x7efd70c230b8>,\n",
       " <keras.layers.merge.Add at 0x7efd70c23080>,\n",
       " <keras.layers.core.Activation at 0x7efd70c38a90>,\n",
       " <keras.layers.convolutional.Conv2D at 0x7efd70c38c50>,\n",
       " <keras.layers.normalization.BatchNormalization at 0x7efd70be8cc0>,\n",
       " <keras.layers.core.Activation at 0x7efd70bf34e0>,\n",
       " <keras.layers.convolutional.Conv2D at 0x7efd70bf90f0>,\n",
       " <keras.layers.normalization.BatchNormalization at 0x7efd70baf8d0>,\n",
       " <keras.layers.core.Activation at 0x7efd70baf860>,\n",
       " <keras.layers.convolutional.Conv2D at 0x7efd70bc2160>,\n",
       " <keras.layers.normalization.BatchNormalization at 0x7efd70b78940>,\n",
       " <keras.layers.merge.Add at 0x7efd70b788d0>,\n",
       " <keras.layers.core.Activation at 0x7efd70b0be80>,\n",
       " <keras.layers.convolutional.Conv2D at 0x7efd70b11f98>,\n",
       " <keras.layers.normalization.BatchNormalization at 0x7efd70b3bbe0>,\n",
       " <keras.layers.core.Activation at 0x7efd70b3bef0>,\n",
       " <keras.layers.convolutional.Conv2D at 0x7efd70b44da0>,\n",
       " <keras.layers.normalization.BatchNormalization at 0x7efd70b00358>,\n",
       " <keras.layers.core.Activation at 0x7efd70b002e8>,\n",
       " <keras.layers.convolutional.Conv2D at 0x7efd70a8ceb8>,\n",
       " <keras.layers.normalization.BatchNormalization at 0x7efd70ac83c8>,\n",
       " <keras.layers.merge.Add at 0x7efd70ac8358>,\n",
       " <keras.layers.core.Activation at 0x7efd70a60f98>,\n",
       " <keras.layers.pooling.GlobalAveragePooling2D at 0x7efd70a6ea20>]"
      ]
     },
     "execution_count": 12,
     "metadata": {
      "tags": []
     },
     "output_type": "execute_result"
    }
   ],
   "source": [
    "model.layers[0].layers"
   ]
  },
  {
   "cell_type": "code",
   "execution_count": 0,
   "metadata": {
    "colab": {},
    "colab_type": "code",
    "id": "tmGs4ekQJ2iE"
   },
   "outputs": [],
   "source": [
    "# deactive weight for pretrained layer\n",
    "model.layers[0].trainable = False"
   ]
  },
  {
   "cell_type": "code",
   "execution_count": 14,
   "metadata": {
    "colab": {
     "base_uri": "https://localhost:8080/",
     "height": 221
    },
    "colab_type": "code",
    "executionInfo": {
     "elapsed": 409,
     "status": "ok",
     "timestamp": 1583470501216,
     "user": {
      "displayName": "Ramen Wang",
      "photoUrl": "https://lh3.googleusercontent.com/a-/AOh14GjbcBrssGQClYbi481zcERlUyBQvJ6LBQ_dx07fbg=s64",
      "userId": "15359170826065236531"
     },
     "user_tz": 360
    },
    "id": "vBcXI3NVKSUX",
    "outputId": "84fbfb16-4873-445c-b8b0-ad74f89c185e"
   },
   "outputs": [
    {
     "name": "stdout",
     "output_type": "stream",
     "text": [
      "Model: \"sequential_1\"\n",
      "_________________________________________________________________\n",
      "Layer (type)                 Output Shape              Param #   \n",
      "=================================================================\n",
      "resnet50 (Model)             (None, 2048)              23587712  \n",
      "_________________________________________________________________\n",
      "dense_1 (Dense)              (None, 2)                 4098      \n",
      "=================================================================\n",
      "Total params: 23,591,810\n",
      "Trainable params: 4,098\n",
      "Non-trainable params: 23,587,712\n",
      "_________________________________________________________________\n"
     ]
    }
   ],
   "source": [
    "model.summary()"
   ]
  },
  {
   "cell_type": "code",
   "execution_count": 15,
   "metadata": {
    "colab": {
     "base_uri": "https://localhost:8080/",
     "height": 105
    },
    "colab_type": "code",
    "executionInfo": {
     "elapsed": 482,
     "status": "ok",
     "timestamp": 1583470502756,
     "user": {
      "displayName": "Ramen Wang",
      "photoUrl": "https://lh3.googleusercontent.com/a-/AOh14GjbcBrssGQClYbi481zcERlUyBQvJ6LBQ_dx07fbg=s64",
      "userId": "15359170826065236531"
     },
     "user_tz": 360
    },
    "id": "vBmpDA3dKUqG",
    "outputId": "0b341854-784a-430f-8b52-31ee3c2ed4d0"
   },
   "outputs": [
    {
     "name": "stdout",
     "output_type": "stream",
     "text": [
      "WARNING:tensorflow:From /usr/local/lib/python3.6/dist-packages/keras/optimizers.py:793: The name tf.train.Optimizer is deprecated. Please use tf.compat.v1.train.Optimizer instead.\n",
      "\n",
      "WARNING:tensorflow:From /usr/local/lib/python3.6/dist-packages/keras/backend/tensorflow_backend.py:3576: The name tf.log is deprecated. Please use tf.math.log instead.\n",
      "\n"
     ]
    }
   ],
   "source": [
    "model.compile(optimizer='adam', loss='categorical_crossentropy', metrics=['accuracy'])"
   ]
  },
  {
   "cell_type": "code",
   "execution_count": 0,
   "metadata": {
    "colab": {},
    "colab_type": "code",
    "id": "eAo1tn8RKZ4J"
   },
   "outputs": [],
   "source": [
    "steps_per_epoch_training = len(train_generator)\n",
    "steps_per_epoch_validation = len(validation_generator)\n",
    "num_epochs = 2"
   ]
  },
  {
   "cell_type": "code",
   "execution_count": 17,
   "metadata": {
    "colab": {
     "base_uri": "https://localhost:8080/",
     "height": 224
    },
    "colab_type": "code",
    "executionInfo": {
     "elapsed": 205093,
     "status": "ok",
     "timestamp": 1583470713493,
     "user": {
      "displayName": "Ramen Wang",
      "photoUrl": "https://lh3.googleusercontent.com/a-/AOh14GjbcBrssGQClYbi481zcERlUyBQvJ6LBQ_dx07fbg=s64",
      "userId": "15359170826065236531"
     },
     "user_tz": 360
    },
    "id": "_4-3Qc1jKcWs",
    "outputId": "f12a54bf-cea6-4966-bbee-09a5fc8efa98"
   },
   "outputs": [
    {
     "name": "stdout",
     "output_type": "stream",
     "text": [
      "WARNING:tensorflow:From /usr/local/lib/python3.6/dist-packages/tensorflow_core/python/ops/math_grad.py:1424: where (from tensorflow.python.ops.array_ops) is deprecated and will be removed in a future version.\n",
      "Instructions for updating:\n",
      "Use tf.where in 2.0, which has the same broadcast rule as np.where\n",
      "WARNING:tensorflow:From /usr/local/lib/python3.6/dist-packages/keras/backend/tensorflow_backend.py:1033: The name tf.assign_add is deprecated. Please use tf.compat.v1.assign_add instead.\n",
      "\n",
      "WARNING:tensorflow:From /usr/local/lib/python3.6/dist-packages/keras/backend/tensorflow_backend.py:1020: The name tf.assign is deprecated. Please use tf.compat.v1.assign instead.\n",
      "\n",
      "Epoch 1/2\n",
      "301/301 [==============================] - 109s 362ms/step - loss: 0.0552 - acc: 0.9820 - val_loss: 0.2052 - val_acc: 0.9140\n",
      "Epoch 2/2\n",
      "301/301 [==============================] - 95s 316ms/step - loss: 0.0135 - acc: 0.9964 - val_loss: 0.2123 - val_acc: 0.9175\n"
     ]
    }
   ],
   "source": [
    "fit_history = model.fit_generator(\n",
    "    generator=train_generator,\n",
    "    steps_per_epoch=steps_per_epoch_training,\n",
    "    epochs=num_epochs,\n",
    "    validation_data=validation_generator,\n",
    "    validation_steps=steps_per_epoch_validation,\n",
    "    verbose=1\n",
    ")"
   ]
  },
  {
   "cell_type": "code",
   "execution_count": 0,
   "metadata": {
    "colab": {},
    "colab_type": "code",
    "id": "rKxivxgAK02D"
   },
   "outputs": [],
   "source": [
    "model.save('classifier_resnet_model.h5')"
   ]
  },
  {
   "cell_type": "code",
   "execution_count": 0,
   "metadata": {
    "colab": {},
    "colab_type": "code",
    "id": "0YyObao-Njyp"
   },
   "outputs": [],
   "source": []
  },
  {
   "cell_type": "code",
   "execution_count": 0,
   "metadata": {
    "colab": {},
    "colab_type": "code",
    "id": "8oz8jWg3Nbh1"
   },
   "outputs": [],
   "source": []
  }
 ],
 "metadata": {
  "accelerator": "GPU",
  "colab": {
   "authorship_tag": "ABX9TyN9/GKsaxVDZMjvfJTOGrHm",
   "name": "AI_Engineering_Capstone.ipynb",
   "provenance": [],
   "toc_visible": true
  },
  "kernelspec": {
   "display_name": "Python 3",
   "language": "python",
   "name": "python3"
  },
  "language_info": {
   "codemirror_mode": {
    "name": "ipython",
    "version": 3
   },
   "file_extension": ".py",
   "mimetype": "text/x-python",
   "name": "python",
   "nbconvert_exporter": "python",
   "pygments_lexer": "ipython3",
   "version": "3.7.5"
  }
 },
 "nbformat": 4,
 "nbformat_minor": 1
}
