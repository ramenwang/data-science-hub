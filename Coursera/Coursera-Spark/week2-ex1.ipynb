{
    "cells": [
        {
            "cell_type": "code",
            "execution_count": 1,
            "metadata": {},
            "outputs": [
                {
                    "name": "stdout",
                    "output_type": "stream",
                    "text": "Waiting for a Spark session to start...\nSpark Initialization Done! ApplicationId = app-20200212183002-0000\nKERNEL_ID = 089f771a-5e23-4e60-a189-e335a9309aa1\n--2020-02-12 18:30:05--  https://github.com/IBM/coursera/raw/master/hmp.parquet\nResolving github.com (github.com)... 140.82.113.4\nConnecting to github.com (github.com)|140.82.113.4|:443... connected.\nHTTP request sent, awaiting response... 302 Found\nLocation: https://raw.githubusercontent.com/IBM/coursera/master/hmp.parquet [following]\n--2020-02-12 18:30:05--  https://raw.githubusercontent.com/IBM/coursera/master/hmp.parquet\nResolving raw.githubusercontent.com (raw.githubusercontent.com)... 199.232.8.133\nConnecting to raw.githubusercontent.com (raw.githubusercontent.com)|199.232.8.133|:443... connected.\nHTTP request sent, awaiting response... 200 OK\nLength: 932997 (911K) [application/octet-stream]\nSaving to: 'hmp.parquet'\n\n100%[======================================>] 932,997     --.-K/s   in 0.04s   \n\n2020-02-12 18:30:06 (21.3 MB/s) - 'hmp.parquet' saved [932997/932997]\n\n"
                }
            ],
            "source": "# reading data in order to perform statistical inferences\n# the data is saved as Apache Parquet, a columnar storage format\n\n! wget https://github.com/IBM/coursera/raw/master/hmp.parquet\n\n# create a spark dataframe\ndf = spark.read.parquet('hmp.parquet')\n\n# register a query table\ndf.createOrReplaceTempView('df')"
        },
        {
            "cell_type": "code",
            "execution_count": 6,
            "metadata": {},
            "outputs": [
                {
                    "name": "stdout",
                    "output_type": "stream",
                    "text": "+---+---+---+--------------------+-----------+\n|  x|  y|  z|              source|      class|\n+---+---+---+--------------------+-----------+\n| 22| 49| 35|Accelerometer-201...|Brush_teeth|\n| 22| 49| 35|Accelerometer-201...|Brush_teeth|\n| 22| 52| 35|Accelerometer-201...|Brush_teeth|\n| 22| 52| 35|Accelerometer-201...|Brush_teeth|\n| 21| 52| 34|Accelerometer-201...|Brush_teeth|\n+---+---+---+--------------------+-----------+\nonly showing top 5 rows\n\n"
                }
            ],
            "source": "df.show(5)"
        },
        {
            "cell_type": "code",
            "execution_count": 8,
            "metadata": {},
            "outputs": [
                {
                    "name": "stdout",
                    "output_type": "stream",
                    "text": "root\n |-- x: integer (nullable = true)\n |-- y: integer (nullable = true)\n |-- z: integer (nullable = true)\n |-- source: string (nullable = true)\n |-- class: string (nullable = true)\n\n"
                }
            ],
            "source": "df.printSchema()"
        },
        {
            "cell_type": "code",
            "execution_count": 11,
            "metadata": {},
            "outputs": [
                {
                    "name": "stdout",
                    "output_type": "stream",
                    "text": "+--------------+-----+\n|         class|count|\n+--------------+-----+\n| Use_telephone|15225|\n| Standup_chair|25417|\n|      Eat_meat|31236|\n|     Getup_bed|45801|\n|   Drink_glass|42792|\n|    Pour_water|41673|\n|     Comb_hair|23504|\n|          Walk|92254|\n|  Climb_stairs|40258|\n| Sitdown_chair|25036|\n|   Liedown_bed|11446|\n|Descend_stairs|15375|\n|   Brush_teeth|29829|\n|      Eat_soup| 6683|\n+--------------+-----+\n\n"
                }
            ],
            "source": "# check if the target vairable class is balanced or not\nspark.sql('select class, count(*) as count from df group by class').show()"
        },
        {
            "cell_type": "code",
            "execution_count": 12,
            "metadata": {},
            "outputs": [
                {
                    "name": "stdout",
                    "output_type": "stream",
                    "text": "+--------------+-----+\n|         class|count|\n+--------------+-----+\n| Use_telephone|15225|\n| Standup_chair|25417|\n|      Eat_meat|31236|\n|     Getup_bed|45801|\n|   Drink_glass|42792|\n|    Pour_water|41673|\n|     Comb_hair|23504|\n|          Walk|92254|\n|  Climb_stairs|40258|\n| Sitdown_chair|25036|\n|   Liedown_bed|11446|\n|Descend_stairs|15375|\n|   Brush_teeth|29829|\n|      Eat_soup| 6683|\n+--------------+-----+\n\n"
                }
            ],
            "source": "# let's check the class by using dataFrame api\ndf.groupby('class').count().show()"
        },
        {
            "cell_type": "code",
            "execution_count": 25,
            "metadata": {},
            "outputs": [],
            "source": "import seaborn as sns\nimport matplotlib.pyplot as plt\nimport pandas as pd"
        },
        {
            "cell_type": "code",
            "execution_count": 27,
            "metadata": {},
            "outputs": [
                {
                    "data": {
                        "text/html": "<div>\n<style scoped>\n    .dataframe tbody tr th:only-of-type {\n        vertical-align: middle;\n    }\n\n    .dataframe tbody tr th {\n        vertical-align: top;\n    }\n\n    .dataframe thead th {\n        text-align: right;\n    }\n</style>\n<table border=\"1\" class=\"dataframe\">\n  <thead>\n    <tr style=\"text-align: right;\">\n      <th></th>\n      <th>class</th>\n      <th>count</th>\n    </tr>\n  </thead>\n  <tbody>\n    <tr>\n      <th>0</th>\n      <td>Eat_soup</td>\n      <td>6683</td>\n    </tr>\n    <tr>\n      <th>1</th>\n      <td>Liedown_bed</td>\n      <td>11446</td>\n    </tr>\n    <tr>\n      <th>2</th>\n      <td>Use_telephone</td>\n      <td>15225</td>\n    </tr>\n    <tr>\n      <th>3</th>\n      <td>Descend_stairs</td>\n      <td>15375</td>\n    </tr>\n    <tr>\n      <th>4</th>\n      <td>Comb_hair</td>\n      <td>23504</td>\n    </tr>\n  </tbody>\n</table>\n</div>",
                        "text/plain": "            class  count\n0        Eat_soup   6683\n1     Liedown_bed  11446\n2   Use_telephone  15225\n3  Descend_stairs  15375\n4       Comb_hair  23504"
                    },
                    "execution_count": 27,
                    "metadata": {},
                    "output_type": "execute_result"
                }
            ],
            "source": "counts = df.groupby('class').count().orderBy('count').toPandas()\ncounts.head()"
        },
        {
            "cell_type": "code",
            "execution_count": 32,
            "metadata": {},
            "outputs": [
                {
                    "data": {
                        "image/png": "[encoded data removed]",
                        "text/plain": "<Figure size 1400x800 with 1 Axes>"
                    },
                    "metadata": {
                        "needs_background": "light"
                    },
                    "output_type": "display_data"
                }
            ],
            "source": "plt.figure(figsize=(14,8), dpi=100)\nsns.barplot(x='class', y='count',  data=counts)\nplt.show()"
        },
        {
            "cell_type": "code",
            "execution_count": 33,
            "metadata": {},
            "outputs": [
                {
                    "name": "stdout",
                    "output_type": "stream",
                    "text": "+----+-----+------------------+------------------+-----------------+\n| min|  max|              mean|            stddev|     maxmin_ratio|\n+----+-----+------------------+------------------+-----------------+\n|6683|92254|31894.928571428572|21284.893716741157|13.80427951518779|\n+----+-----+------------------+------------------+-----------------+\n\n"
                }
            ],
            "source": "# let's obtain some statistics from spark.sql\n\nspark.sql(\"\"\"\n    select\n    *,\n    max/min as maxmin_ratio\n    from (\n        select\n        min(count) as min,\n        max(count) as max,\n        mean(count) as mean,\n        stddev(count) as stddev\n        from (\n            select\n            count(*) as count\n            from\n            df\n            group by\n            class\n            )\n        )\n          \"\"\").show()"
        },
        {
            "cell_type": "code",
            "execution_count": 38,
            "metadata": {},
            "outputs": [
                {
                    "name": "stdout",
                    "output_type": "stream",
                    "text": "+----+-----+------------------+------------------+-----------------+\n| min|  max|              mean|            stddev|     maxmin_ratio|\n+----+-----+------------------+------------------+-----------------+\n|6683|92254|31894.928571428572|21284.893716741157|13.80427951518779|\n+----+-----+------------------+------------------+-----------------+\n\n"
                }
            ],
            "source": "from pyspark.sql.functions import col, min, max, mean, stddev\n\n# do same thing based on dataframe api\ndf.groupBy('class').count() \\\n    .select([\n        min(col('count')).alias('min'),\n        max(col('count')).alias('max'),\n        mean(col('count')).alias('mean'),\n        stddev(col('count')).alias('stddev')\n    ]) \\\n    .select([\n        col('*'),\n        (col('max') / col('min')).alias('maxmin_ratio')\n    ]).show()"
        },
        {
            "cell_type": "code",
            "execution_count": 40,
            "metadata": {},
            "outputs": [
                {
                    "name": "stdout",
                    "output_type": "stream",
                    "text": "+--------------+-----+\n|         class|count|\n+--------------+-----+\n|      Eat_soup| 6683|\n|   Liedown_bed|11446|\n| Use_telephone|15225|\n|Descend_stairs|15375|\n|     Comb_hair|23504|\n| Sitdown_chair|25036|\n| Standup_chair|25417|\n|   Brush_teeth|29829|\n|      Eat_meat|31236|\n|  Climb_stairs|40258|\n|    Pour_water|41673|\n|   Drink_glass|42792|\n|     Getup_bed|45801|\n|          Walk|92254|\n+--------------+-----+\n\n"
                }
            ],
            "source": "# create a table of all classes with their counts, and ordered by counts, ascending\nspark.sql(\"\"\"\n    select\n    *\n    from (\n        select\n        class,\n        count(*) as count\n        from\n        df\n        group by\n        class\n    )\n    order by\n    count asc\n\"\"\").show()"
        },
        {
            "cell_type": "code",
            "execution_count": 41,
            "metadata": {},
            "outputs": [
                {
                    "name": "stdout",
                    "output_type": "stream",
                    "text": "+--------------+-----+\n|         class|count|\n+--------------+-----+\n|      Eat_soup| 6683|\n|   Liedown_bed|11446|\n| Use_telephone|15225|\n|Descend_stairs|15375|\n|     Comb_hair|23504|\n| Sitdown_chair|25036|\n| Standup_chair|25417|\n|   Brush_teeth|29829|\n|      Eat_meat|31236|\n|  Climb_stairs|40258|\n|    Pour_water|41673|\n|   Drink_glass|42792|\n|     Getup_bed|45801|\n|          Walk|92254|\n+--------------+-----+\n\n"
                }
            ],
            "source": "# do the same operation based on dataframe api\ndf.groupBy('class').count().orderBy('count').show()"
        },
        {
            "cell_type": "markdown",
            "metadata": {},
            "source": "Imbalanced data can cause pain in machine learning. Therefore, let's do rebalance. In the following we limit the number of elements per class to the amont of least represented class. This is called undersampling. Other ways of rebalancing can be found here:\n\nhttp://machinelearningmastery.com/tactics-to-combat-imbalanced-classes-in-your-machine-learning-dataset/"
        },
        {
            "cell_type": "code",
            "execution_count": 42,
            "metadata": {},
            "outputs": [],
            "source": "# create a lots of distinct dataset from df\n# get the data as a list\nclasses = [row[0] for row in df.select('class').distinct().collect()]"
        },
        {
            "cell_type": "code",
            "execution_count": 43,
            "metadata": {},
            "outputs": [
                {
                    "name": "stdout",
                    "output_type": "stream",
                    "text": "6683\n"
                }
            ],
            "source": "# compute the counts of the smallest the group\nminimum = df.groupBy('class').count().select(min(col('count'))).first()[0]\nprint(minimum)"
        },
        {
            "cell_type": "code",
            "execution_count": 44,
            "metadata": {},
            "outputs": [
                {
                    "data": {
                        "text/plain": "['Use_telephone',\n 'Standup_chair',\n 'Eat_meat',\n 'Getup_bed',\n 'Drink_glass',\n 'Pour_water',\n 'Comb_hair',\n 'Walk',\n 'Climb_stairs',\n 'Sitdown_chair',\n 'Liedown_bed',\n 'Descend_stairs',\n 'Brush_teeth',\n 'Eat_soup']"
                    },
                    "execution_count": 44,
                    "metadata": {},
                    "output_type": "execute_result"
                }
            ],
            "source": "classes"
        },
        {
            "cell_type": "code",
            "execution_count": 49,
            "metadata": {},
            "outputs": [],
            "source": "# create a balanced dataframe\n\ndf_balanced = None\n\nfor cls in classes:\n    \n    df_temp = df.filter(f'class = \"{cls}\"').sample(False, 1.0).limit(minimum)\n    \n    if df_balanced == None:\n        df_balanced = df_temp\n    else:\n        df_balanced = df_balanced.union(df_temp)\n"
        },
        {
            "cell_type": "code",
            "execution_count": 51,
            "metadata": {},
            "outputs": [
                {
                    "name": "stdout",
                    "output_type": "stream",
                    "text": "+--------------+--------+\n|         class|count(1)|\n+--------------+--------+\n| Use_telephone|    6683|\n| Standup_chair|    6683|\n|      Eat_meat|    6683|\n|     Getup_bed|    6683|\n|   Drink_glass|    6683|\n|    Pour_water|    6683|\n|     Comb_hair|    6683|\n|          Walk|    6683|\n|  Climb_stairs|    6683|\n| Sitdown_chair|    6683|\n|   Liedown_bed|    6683|\n|Descend_stairs|    6683|\n|   Brush_teeth|    6683|\n|      Eat_soup|    6683|\n+--------------+--------+\n\n"
                }
            ],
            "source": "df_balanced.createOrReplaceTempView('df_balanced')\nspark.sql(\"\"\"\n    select\n    class,\n    count(*)\n    from\n    df_balanced\n    group by\n    class\n\"\"\").show()"
        },
        {
            "cell_type": "code",
            "execution_count": null,
            "metadata": {},
            "outputs": [],
            "source": ""
        }
    ],
    "metadata": {
        "kernelspec": {
            "display_name": "Python 3.6 with Spark",
            "language": "python3",
            "name": "python36"
        },
        "language_info": {
            "codemirror_mode": {
                "name": "ipython",
                "version": 3
            },
            "file_extension": ".py",
            "mimetype": "text/x-python",
            "name": "python",
            "nbconvert_exporter": "python",
            "pygments_lexer": "ipython3",
            "version": "3.6.8"
        }
    },
    "nbformat": 4,
    "nbformat_minor": 1
}