{
    "cells": [
        {
            "cell_type": "code",
            "execution_count": 1,
            "metadata": {},
            "outputs": [
                {
                    "name": "stdout",
                    "output_type": "stream",
                    "text": "Waiting for a Spark session to start...\nSpark Initialization Done! ApplicationId = app-20200213033745-0000\nKERNEL_ID = 1c8189d2-a097-48ba-8018-f588d0f12eae\n--2020-02-13 03:37:48--  https://github.com/IBM/coursera/raw/master/hmp.parquet\nResolving github.com (github.com)... 192.30.253.113\nConnecting to github.com (github.com)|192.30.253.113|:443... connected.\nHTTP request sent, awaiting response... 302 Found\nLocation: https://raw.githubusercontent.com/IBM/coursera/master/hmp.parquet [following]\n--2020-02-13 03:37:48--  https://raw.githubusercontent.com/IBM/coursera/master/hmp.parquet\nResolving raw.githubusercontent.com (raw.githubusercontent.com)... 151.101.48.133\nConnecting to raw.githubusercontent.com (raw.githubusercontent.com)|151.101.48.133|:443... connected.\nHTTP request sent, awaiting response... 200 OK\nLength: 932997 (911K) [application/octet-stream]\nSaving to: 'hmp.parquet'\n\n100%[======================================>] 932,997     --.-K/s   in 0.04s   \n\n2020-02-13 03:37:49 (25.1 MB/s) - 'hmp.parquet' saved [932997/932997]\n\n+---+---+---+--------------------+-----------+\n|  x|  y|  z|              source|      class|\n+---+---+---+--------------------+-----------+\n| 22| 49| 35|Accelerometer-201...|Brush_teeth|\n| 22| 49| 35|Accelerometer-201...|Brush_teeth|\n| 22| 52| 35|Accelerometer-201...|Brush_teeth|\n| 22| 52| 35|Accelerometer-201...|Brush_teeth|\n| 21| 52| 34|Accelerometer-201...|Brush_teeth|\n| 22| 51| 34|Accelerometer-201...|Brush_teeth|\n| 20| 50| 35|Accelerometer-201...|Brush_teeth|\n| 22| 52| 34|Accelerometer-201...|Brush_teeth|\n| 22| 50| 34|Accelerometer-201...|Brush_teeth|\n| 22| 51| 35|Accelerometer-201...|Brush_teeth|\n+---+---+---+--------------------+-----------+\nonly showing top 10 rows\n\n"
                }
            ],
            "source": "# get parquet data\n\n!wget https://github.com/IBM/coursera/raw/master/hmp.parquet\n    \ndf = spark.read.parquet('hmp.parquet')\n\ndf.show(10)"
        },
        {
            "cell_type": "code",
            "execution_count": 2,
            "metadata": {},
            "outputs": [],
            "source": "df.createOrReplaceTempView('df')"
        },
        {
            "cell_type": "code",
            "execution_count": 3,
            "metadata": {},
            "outputs": [
                {
                    "name": "stdout",
                    "output_type": "stream",
                    "text": "+---+---+---+--------------------+-----------+-----------+--------------+----------------+--------------------+\n|  x|  y|  z|              source|      class|class_index| class_encoded|        features|     feature_rescale|\n+---+---+---+--------------------+-----------+-----------+--------------+----------------+--------------------+\n| 22| 49| 35|Accelerometer-201...|Brush_teeth|        6.0|(13,[6],[1.0])|[22.0,49.0,35.0]|[0.34920634920634...|\n| 22| 49| 35|Accelerometer-201...|Brush_teeth|        6.0|(13,[6],[1.0])|[22.0,49.0,35.0]|[0.34920634920634...|\n| 22| 52| 35|Accelerometer-201...|Brush_teeth|        6.0|(13,[6],[1.0])|[22.0,52.0,35.0]|[0.34920634920634...|\n| 22| 52| 35|Accelerometer-201...|Brush_teeth|        6.0|(13,[6],[1.0])|[22.0,52.0,35.0]|[0.34920634920634...|\n| 21| 52| 34|Accelerometer-201...|Brush_teeth|        6.0|(13,[6],[1.0])|[21.0,52.0,34.0]|[0.33333333333333...|\n| 22| 51| 34|Accelerometer-201...|Brush_teeth|        6.0|(13,[6],[1.0])|[22.0,51.0,34.0]|[0.34920634920634...|\n| 20| 50| 35|Accelerometer-201...|Brush_teeth|        6.0|(13,[6],[1.0])|[20.0,50.0,35.0]|[0.31746031746031...|\n| 22| 52| 34|Accelerometer-201...|Brush_teeth|        6.0|(13,[6],[1.0])|[22.0,52.0,34.0]|[0.34920634920634...|\n| 22| 50| 34|Accelerometer-201...|Brush_teeth|        6.0|(13,[6],[1.0])|[22.0,50.0,34.0]|[0.34920634920634...|\n| 22| 51| 35|Accelerometer-201...|Brush_teeth|        6.0|(13,[6],[1.0])|[22.0,51.0,35.0]|[0.34920634920634...|\n+---+---+---+--------------------+-----------+-----------+--------------+----------------+--------------------+\nonly showing top 10 rows\n\n"
                }
            ],
            "source": "from pyspark.ml.feature import StringIndexer, OneHotEncoder, VectorAssembler, MinMaxScaler\nfrom pyspark.ml import Pipeline\n\nindexer = StringIndexer(inputCol='class', outputCol='class_index')\nencoder = OneHotEncoder(inputCol='class_index', outputCol='class_encoded')\n\nvectorAssembler = VectorAssembler(inputCols=['x','y','z'], outputCol='features')\nrescaler = MinMaxScaler(inputCol='features', outputCol='feature_rescale')\n\n# create pipeline\npreprocessing = Pipeline(stages=[indexer, encoder, vectorAssembler, rescaler])\nprocessed_df = preprocessing.fit(df).transform(df)\n\nprocessed_df.show(10)"
        },
        {
            "cell_type": "code",
            "execution_count": null,
            "metadata": {},
            "outputs": [],
            "source": "from pyspark.ml.clustering import KMeans\nfrom pyspark.ml.evaluation import ClusteringEvaluator\n\nkmeans = KMeans(featureCol='feature_rescale').setK(14).setSeed(2020)\npipeline = Pipeline(stages=[preprocessing, kmeans])\nmodel = pipeline.fit(df)\n\n"
        }
    ],
    "metadata": {
        "kernelspec": {
            "display_name": "Python 3.6 with Spark",
            "language": "python3",
            "name": "python36"
        },
        "language_info": {
            "codemirror_mode": {
                "name": "ipython",
                "version": 3
            },
            "file_extension": ".py",
            "mimetype": "text/x-python",
            "name": "python",
            "nbconvert_exporter": "python",
            "pygments_lexer": "ipython3",
            "version": "3.6.8"
        }
    },
    "nbformat": 4,
    "nbformat_minor": 1
}