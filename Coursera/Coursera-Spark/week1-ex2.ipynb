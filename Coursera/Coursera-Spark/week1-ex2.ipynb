{
    "cells": [
        {
            "cell_type": "code",
            "execution_count": 1,
            "metadata": {},
            "outputs": [
                {
                    "name": "stdout",
                    "output_type": "stream",
                    "text": "Waiting for a Spark session to start...\nSpark Initialization Done! ApplicationId = app-20200211235427-0000\nKERNEL_ID = 43b577b8-50d5-4d94-a3e6-7ba5a73baebc\n"
                },
                {
                    "data": {
                        "text/plain": "'2.3.3'"
                    },
                    "execution_count": 1,
                    "metadata": {},
                    "output_type": "execute_result"
                }
            ],
            "source": "sc.version"
        },
        {
            "cell_type": "code",
            "execution_count": 2,
            "metadata": {},
            "outputs": [],
            "source": "def gt50(x):\n    if x >=50:\n        return True\n    else:\n        return False"
        },
        {
            "cell_type": "code",
            "execution_count": 3,
            "metadata": {},
            "outputs": [],
            "source": "def gt50(x):\n    return x>= 50"
        },
        {
            "cell_type": "code",
            "execution_count": 5,
            "metadata": {},
            "outputs": [
                {
                    "name": "stdout",
                    "output_type": "stream",
                    "text": "[95, 90, 22, 31, 37, 41, 100, 19, 62, 75]\n"
                }
            ],
            "source": "from random import shuffle\n\nl = list(range(101))\nshuffle(l)\nprint(l[:10])"
        },
        {
            "cell_type": "code",
            "execution_count": 7,
            "metadata": {},
            "outputs": [],
            "source": "rdd = sc.parallelize(l)"
        },
        {
            "cell_type": "code",
            "execution_count": 8,
            "metadata": {},
            "outputs": [
                {
                    "data": {
                        "text/plain": "[95,\n 90,\n 100,\n 62,\n 75,\n 69,\n 65,\n 98,\n 67,\n 84,\n 76,\n 87,\n 63,\n 64,\n 70,\n 71,\n 81,\n 72,\n 80,\n 82,\n 57,\n 97,\n 85,\n 61,\n 55,\n 54,\n 93,\n 83,\n 99,\n 78,\n 52,\n 79,\n 73,\n 59,\n 91,\n 51,\n 77,\n 60,\n 94,\n 58,\n 74,\n 96,\n 92,\n 56,\n 53,\n 88,\n 68,\n 89,\n 66,\n 86]"
                    },
                    "execution_count": 8,
                    "metadata": {},
                    "output_type": "execute_result"
                }
            ],
            "source": "rdd.filter(lambda x: x>50).collect()"
        },
        {
            "cell_type": "code",
            "execution_count": 9,
            "metadata": {},
            "outputs": [
                {
                    "data": {
                        "text/plain": "1500"
                    },
                    "execution_count": 9,
                    "metadata": {},
                    "output_type": "execute_result"
                }
            ],
            "source": "rdd.filter(lambda x: (x>50) and (x<75)).sum()"
        },
        {
            "cell_type": "code",
            "execution_count": 10,
            "metadata": {},
            "outputs": [
                {
                    "data": {
                        "text/plain": "1500"
                    },
                    "execution_count": 10,
                    "metadata": {},
                    "output_type": "execute_result"
                }
            ],
            "source": "rdd.filter(lambda x: (x>50) and (x<75)).reduce(lambda a,b: a+b)"
        },
        {
            "cell_type": "code",
            "execution_count": null,
            "metadata": {},
            "outputs": [],
            "source": ""
        }
    ],
    "metadata": {
        "kernelspec": {
            "display_name": "Python 3.6 with Spark",
            "language": "python3",
            "name": "python36"
        },
        "language_info": {
            "codemirror_mode": {
                "name": "ipython",
                "version": 3
            },
            "file_extension": ".py",
            "mimetype": "text/x-python",
            "name": "python",
            "nbconvert_exporter": "python",
            "pygments_lexer": "ipython3",
            "version": "3.6.8"
        }
    },
    "nbformat": 4,
    "nbformat_minor": 1
}