{
    "cells": [
        {
            "cell_type": "code",
            "execution_count": 1,
            "metadata": {},
            "outputs": [
                {
                    "name": "stdout",
                    "output_type": "stream",
                    "text": "Waiting for a Spark session to start...\nSpark Initialization Done! ApplicationId = app-20200213031336-0000\nKERNEL_ID = 137bc8da-c0ac-435b-a1ef-be91da6bbd28\n--2020-02-13 03:13:39--  https://github.com/IBM/coursera/raw/master/hmp.parquet\nResolving github.com (github.com)... 192.30.253.112\nConnecting to github.com (github.com)|192.30.253.112|:443... connected.\nHTTP request sent, awaiting response... 302 Found\nLocation: https://raw.githubusercontent.com/IBM/coursera/master/hmp.parquet [following]\n--2020-02-13 03:13:39--  https://raw.githubusercontent.com/IBM/coursera/master/hmp.parquet\nResolving raw.githubusercontent.com (raw.githubusercontent.com)... 199.232.8.133\nConnecting to raw.githubusercontent.com (raw.githubusercontent.com)|199.232.8.133|:443... connected.\nHTTP request sent, awaiting response... 200 OK\nLength: 932997 (911K) [application/octet-stream]\nSaving to: 'hmp.parquet'\n\n100%[======================================>] 932,997     --.-K/s   in 0.03s   \n\n2020-02-13 03:13:39 (27.5 MB/s) - 'hmp.parquet' saved [932997/932997]\n\n+---+---+---+--------------------+-----------+\n|  x|  y|  z|              source|      class|\n+---+---+---+--------------------+-----------+\n| 22| 49| 35|Accelerometer-201...|Brush_teeth|\n| 22| 49| 35|Accelerometer-201...|Brush_teeth|\n| 22| 52| 35|Accelerometer-201...|Brush_teeth|\n| 22| 52| 35|Accelerometer-201...|Brush_teeth|\n| 21| 52| 34|Accelerometer-201...|Brush_teeth|\n| 22| 51| 34|Accelerometer-201...|Brush_teeth|\n| 20| 50| 35|Accelerometer-201...|Brush_teeth|\n| 22| 52| 34|Accelerometer-201...|Brush_teeth|\n| 22| 50| 34|Accelerometer-201...|Brush_teeth|\n| 22| 51| 35|Accelerometer-201...|Brush_teeth|\n+---+---+---+--------------------+-----------+\nonly showing top 10 rows\n\n"
                }
            ],
            "source": "# get parquet data\n\n!wget https://github.com/IBM/coursera/raw/master/hmp.parquet\n    \ndf = spark.read.parquet('hmp.parquet')\n\ndf.show(10)"
        },
        {
            "cell_type": "code",
            "execution_count": 2,
            "metadata": {},
            "outputs": [],
            "source": "# register sql structure\ndf.createOrReplaceTempView('df')"
        },
        {
            "cell_type": "code",
            "execution_count": 6,
            "metadata": {},
            "outputs": [
                {
                    "name": "stdout",
                    "output_type": "stream",
                    "text": "+---+---+---+--------------------+-----------+-----------+--------------+----------------+--------------------+\n|  x|  y|  z|              source|      class|class_index|  class_onehot|        features|    feature_rescaled|\n+---+---+---+--------------------+-----------+-----------+--------------+----------------+--------------------+\n| 22| 49| 35|Accelerometer-201...|Brush_teeth|        6.0|(13,[6],[1.0])|[22.0,49.0,35.0]|[0.34920634920634...|\n| 22| 49| 35|Accelerometer-201...|Brush_teeth|        6.0|(13,[6],[1.0])|[22.0,49.0,35.0]|[0.34920634920634...|\n| 22| 52| 35|Accelerometer-201...|Brush_teeth|        6.0|(13,[6],[1.0])|[22.0,52.0,35.0]|[0.34920634920634...|\n| 22| 52| 35|Accelerometer-201...|Brush_teeth|        6.0|(13,[6],[1.0])|[22.0,52.0,35.0]|[0.34920634920634...|\n| 21| 52| 34|Accelerometer-201...|Brush_teeth|        6.0|(13,[6],[1.0])|[21.0,52.0,34.0]|[0.33333333333333...|\n| 22| 51| 34|Accelerometer-201...|Brush_teeth|        6.0|(13,[6],[1.0])|[22.0,51.0,34.0]|[0.34920634920634...|\n| 20| 50| 35|Accelerometer-201...|Brush_teeth|        6.0|(13,[6],[1.0])|[20.0,50.0,35.0]|[0.31746031746031...|\n| 22| 52| 34|Accelerometer-201...|Brush_teeth|        6.0|(13,[6],[1.0])|[22.0,52.0,34.0]|[0.34920634920634...|\n| 22| 50| 34|Accelerometer-201...|Brush_teeth|        6.0|(13,[6],[1.0])|[22.0,50.0,34.0]|[0.34920634920634...|\n| 22| 51| 35|Accelerometer-201...|Brush_teeth|        6.0|(13,[6],[1.0])|[22.0,51.0,35.0]|[0.34920634920634...|\n+---+---+---+--------------------+-----------+-----------+--------------+----------------+--------------------+\nonly showing top 10 rows\n\n"
                }
            ],
            "source": "from pyspark.ml.feature import StringIndexer, MinMaxScaler, VectorAssembler, OneHotEncoder\nfrom pyspark.ml import Pipeline\n\nindexer = StringIndexer(inputCol='class', outputCol='class_index')\nencoder = OneHotEncoder(inputCol='class_index', outputCol='class_onehot')\nvectorAssembler = VectorAssembler(inputCols=['x','y','z'], outputCol='features')\nrescaler = MinMaxScaler(inputCol='features', outputCol='feature_rescaled')\n\npipeline = Pipeline(stages=[indexer, encoder, vectorAssembler, rescaler])\n\npreprocessed_df = pipeline.fit(df).transform(df)\npreprocessed_df.show(10)"
        },
        {
            "cell_type": "code",
            "execution_count": 10,
            "metadata": {},
            "outputs": [],
            "source": "# let's do some k-mean\nfrom pyspark.ml.clustering import KMeans\n\nkmeans = KMeans().setK(13).setSeed(2020)\n\nmain_pipeline = Pipeline(stages=[pipeline, kmeans])\nmodel = main_pipeline.fit(df)"
        },
        {
            "cell_type": "code",
            "execution_count": 12,
            "metadata": {},
            "outputs": [
                {
                    "name": "stdout",
                    "output_type": "stream",
                    "text": "34.77824525276347\n"
                }
            ],
            "source": "loss = model.stages[1].computeCost(pipeline.fit(df).transform(df)) / df.count()\nprint(loss)"
        },
        {
            "cell_type": "code",
            "execution_count": 15,
            "metadata": {},
            "outputs": [
                {
                    "name": "stdout",
                    "output_type": "stream",
                    "text": "134.4947776790293\n"
                }
            ],
            "source": "# try with two classes\ndf2 = spark.sql(\"select * from df where class = 'Brush_teeth' or class = 'Climb_stairs'\")\nkmeans = KMeans().setK(2).setSeed(2020)\nmodel = Pipeline(stages=[pipeline, kmeans]).fit(df2)\nloss = model.stages[1].computeCost(pipeline.fit(df2).transform(df2)) / df2.count()\nprint(loss)"
        },
        {
            "cell_type": "code",
            "execution_count": null,
            "metadata": {},
            "outputs": [],
            "source": ""
        }
    ],
    "metadata": {
        "kernelspec": {
            "display_name": "Python 3.6 with Spark",
            "language": "python3",
            "name": "python36"
        },
        "language_info": {
            "codemirror_mode": {
                "name": "ipython",
                "version": 3
            },
            "file_extension": ".py",
            "mimetype": "text/x-python",
            "name": "python",
            "nbconvert_exporter": "python",
            "pygments_lexer": "ipython3",
            "version": "3.6.8"
        }
    },
    "nbformat": 4,
    "nbformat_minor": 1
}