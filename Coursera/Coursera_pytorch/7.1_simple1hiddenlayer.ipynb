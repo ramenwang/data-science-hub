{
 "cells": [
  {
   "cell_type": "markdown",
   "metadata": {},
   "source": [
    "<a href=\"http://cocl.us/pytorch_link_top\">\n",
    "    <img src=\"https://s3-api.us-geo.objectstorage.softlayer.net/cf-courses-data/CognitiveClass/DL0110EN/notebook_images%20/Pytochtop.png\" width=\"750\" alt=\"IBM Product \" />\n",
    "</a> "
   ]
  },
  {
   "cell_type": "markdown",
   "metadata": {},
   "source": [
    "<img src=\"https://s3-api.us-geo.objectstorage.softlayer.net/cf-courses-data/CognitiveClass/DL0110EN/notebook_images%20/cc-logo-square.png\" width=\"200\" alt=\"cognitiveclass.ai logo\" />"
   ]
  },
  {
   "cell_type": "markdown",
   "metadata": {},
   "source": [
    "<h1>Simple One Hidden Layer Neural Network</h1>"
   ]
  },
  {
   "cell_type": "markdown",
   "metadata": {},
   "source": [
    "<h2>Table of Contents</h2>\n",
    "<p>In this lab, you will use a single-layer neural network to classify non linearly seprable data in 1-Ddatabase.</p>\n",
    "\n",
    "<ul>\n",
    "    <li><a href=\"#Model\">Neural Network Module and Training Function</a></li>\n",
    "    <li><a href=\"#Makeup_Data\">Make Some Data</a></li>\n",
    "    <li><a href=\"#Train\">Define the Neural Network, Criterion Function, Optimizer, and Train the Model</a></li>\n",
    "</ul>\n",
    "<p>Estimated Time Needed: <strong>25 min</strong></p>\n",
    "\n",
    "<hr>"
   ]
  },
  {
   "cell_type": "markdown",
   "metadata": {},
   "source": [
    "<h2>Preparation</h2>"
   ]
  },
  {
   "cell_type": "markdown",
   "metadata": {},
   "source": [
    "We'll need the following libraries"
   ]
  },
  {
   "cell_type": "code",
   "execution_count": 3,
   "metadata": {},
   "outputs": [
    {
     "data": {
      "text/plain": [
       "<torch._C.Generator at 0x7f2340297110>"
      ]
     },
     "execution_count": 3,
     "metadata": {},
     "output_type": "execute_result"
    }
   ],
   "source": [
    "# Import the libraries we need for this lab\n",
    "\n",
    "import torch \n",
    "import torch.nn as nn\n",
    "from torch import sigmoid\n",
    "import matplotlib.pylab as plt\n",
    "import numpy as np\n",
    "torch.manual_seed(0)"
   ]
  },
  {
   "cell_type": "code",
   "execution_count": 2,
   "metadata": {},
   "outputs": [
    {
     "data": {
      "text/plain": [
       "<torch._C.Generator at 0x7f2340297110>"
      ]
     },
     "execution_count": 2,
     "metadata": {},
     "output_type": "execute_result"
    }
   ],
   "source": [
    "import torch\n",
    "import torch.nn as nn\n",
    "from torch import sigmoid\n",
    "import numpy as np\n",
    "\n",
    "torch.manual_seed(0)"
   ]
  },
  {
   "cell_type": "markdown",
   "metadata": {},
   "source": [
    "Used for plotting the model"
   ]
  },
  {
   "cell_type": "code",
   "execution_count": 4,
   "metadata": {},
   "outputs": [],
   "source": [
    "# The function for plotting the model\n",
    "\n",
    "def PlotStuff(X, Y, model, epoch, leg=True):\n",
    "    \n",
    "    plt.plot(X.numpy(), model(X).detach().numpy(), label=('epoch ' + str(epoch)))\n",
    "    plt.plot(X.numpy(), Y.numpy(), 'r')\n",
    "    plt.xlabel('x')\n",
    "    if leg == True:\n",
    "        plt.legend()\n",
    "    else:\n",
    "        pass"
   ]
  },
  {
   "cell_type": "markdown",
   "metadata": {},
   "source": [
    "<!--Empty Space for separating topics-->"
   ]
  },
  {
   "cell_type": "markdown",
   "metadata": {},
   "source": [
    "<h2 id=\"Model\">Neural Network Module and Training Function</h2> "
   ]
  },
  {
   "cell_type": "markdown",
   "metadata": {},
   "source": [
    "Define the activations and the output of the first linear layer as an attribute. Note that this is not good practice. "
   ]
  },
  {
   "cell_type": "code",
   "execution_count": 19,
   "metadata": {},
   "outputs": [],
   "source": [
    "# Define the class Net\n",
    "\n",
    "class Net(nn.Module):\n",
    "    \n",
    "    # Constructor\n",
    "    def __init__(self, D_in, H, D_out):\n",
    "        super(Net, self).__init__()\n",
    "        # hidden layer \n",
    "        self.linear1 = nn.Linear(D_in, H)\n",
    "        self.linear2 = nn.Linear(H, D_out)\n",
    "        # Define the first linear layer as an attribute, this is not good practice\n",
    "        self.a1 = None\n",
    "        self.l1 = None\n",
    "        self.l2=None\n",
    "    \n",
    "    # Prediction\n",
    "    def forward(self, x):\n",
    "        self.l1 = self.linear1(x)\n",
    "        self.a1 = sigmoid(self.l1)\n",
    "        self.l2=self.linear2(self.a1)\n",
    "        yhat = sigmoid(self.linear2(self.a1))\n",
    "        return yhat"
   ]
  },
  {
   "cell_type": "code",
   "execution_count": 12,
   "metadata": {},
   "outputs": [],
   "source": [
    "class Net(nn.Module):\n",
    "    \n",
    "    def __init__(self, input_size, hiden_size, output_size):\n",
    "        super(Net, self).__init__()\n",
    "        self.linear1 = nn.Linear(input_size, hiden_size)\n",
    "        self.linear2 = nn.Linear(hiden_size, output_size)\n",
    "        \n",
    "    def forward(self, x):\n",
    "        x = sigmoid(self.linear1(x))\n",
    "        x = sigmoid(self.linear2(x))\n",
    "        return x"
   ]
  },
  {
   "cell_type": "code",
   "execution_count": 22,
   "metadata": {},
   "outputs": [],
   "source": [
    "def train(Y, X, model, optimizer, criterion, epochs=1000):\n",
    "    \n",
    "    cost=[]\n",
    "    total_loss=0\n",
    "    \n",
    "    for epoch in range(epochs):\n",
    "        for x, y in zip(X, Y):\n",
    "            yhat = model(x)\n",
    "            loss = criterion(yhat, y)\n",
    "            total_loss += loss.item()\n",
    "            loss.backward()\n",
    "            optimizer.step()\n",
    "            optimizer.zero_grad()\n",
    "\n",
    "        cost.append(total_loss)\n",
    "\n",
    "        if epoch % 300 == 0:    \n",
    "                PlotStuff(X, Y, model, epoch, leg=True)\n",
    "                plt.show()\n",
    "                model(X)\n",
    "                plt.scatter(model.a1.detach().numpy()[:, 0], model.a1.detach().numpy()[:, 1], c=Y.numpy().reshape(-1))\n",
    "                plt.title('activations')\n",
    "                plt.show()\n",
    "    \n",
    "    return cost"
   ]
  },
  {
   "cell_type": "markdown",
   "metadata": {},
   "source": [
    "Define the training function:"
   ]
  },
  {
   "cell_type": "code",
   "execution_count": 16,
   "metadata": {},
   "outputs": [],
   "source": [
    "# Define the training function\n",
    "\n",
    "def train(Y, X, model, optimizer, criterion, epochs=1000):\n",
    "    cost = []\n",
    "    total=0\n",
    "    for epoch in range(epochs):\n",
    "        total=0\n",
    "        for y, x in zip(Y, X):\n",
    "            yhat = model(x)\n",
    "            loss = criterion(yhat, y)\n",
    "            loss.backward()\n",
    "            optimizer.step()\n",
    "            optimizer.zero_grad()\n",
    "            #cumulative loss \n",
    "            total+=loss.item() \n",
    "            \n",
    "        cost.append(total)\n",
    "        if epoch % 300 == 0:    \n",
    "            PlotStuff(X, Y, model, epoch, leg=True)\n",
    "            plt.show()\n",
    "            model(X)\n",
    "            plt.scatter(model.a1.detach().numpy()[:, 0], model.a1.detach().numpy()[:, 1], c=Y.numpy().reshape(-1))\n",
    "            plt.title('activations')\n",
    "            plt.show()\n",
    "    return cost"
   ]
  },
  {
   "cell_type": "markdown",
   "metadata": {},
   "source": [
    "<!--Empty Space for separating topics-->"
   ]
  },
  {
   "cell_type": "markdown",
   "metadata": {},
   "source": [
    "<h2 id=\"Makeup_Data\">Make Some Data</h2>"
   ]
  },
  {
   "cell_type": "code",
   "execution_count": null,
   "metadata": {},
   "outputs": [],
   "source": [
    "# Make some data\n",
    "\n",
    "X = torch.arange(-20, 20, 1).view(-1, 1).type(torch.FloatTensor)\n",
    "Y = torch.zeros(X.shape[0])\n",
    "Y[(X[:, 0] > -4) & (X[:, 0] < 4)] = 1.0"
   ]
  },
  {
   "cell_type": "code",
   "execution_count": 25,
   "metadata": {},
   "outputs": [],
   "source": [
    "X = torch.arange(-20, 20, 1).view(-1,1).type(torch.FloatTensor)\n",
    "Y = torch.zeros(X.shape[0])\n",
    "Y[(X[:, 0] > -4) & (X[:, 0] < 4)] = 1.0\n"
   ]
  },
  {
   "cell_type": "markdown",
   "metadata": {},
   "source": [
    "<!--Empty Space for separating topics-->"
   ]
  },
  {
   "cell_type": "markdown",
   "metadata": {},
   "source": [
    "<h2 id=\"Train\">Define the Neural Network, Criterion Function, Optimizer and Train the Model</h2>"
   ]
  },
  {
   "cell_type": "markdown",
   "metadata": {},
   "source": [
    "Create the Cross-Entropy loss function: "
   ]
  },
  {
   "cell_type": "code",
   "execution_count": 26,
   "metadata": {},
   "outputs": [],
   "source": [
    "# The loss function\n",
    "\n",
    "def criterion_cross(outputs, labels):\n",
    "    out = -1 * torch.mean(labels * torch.log(outputs) + (1 - labels) * torch.log(1 - outputs))\n",
    "    return out"
   ]
  },
  {
   "cell_type": "code",
   "execution_count": 27,
   "metadata": {},
   "outputs": [],
   "source": [
    "\n",
    "# define binary cross entropy\n",
    "\n",
    "def criterion_cross(outputs, labels):\n",
    "    return -1 * torch.mean(labels * torch.log(outputs) + (1-labels) * torch.log(1-outputs))"
   ]
  },
  {
   "cell_type": "markdown",
   "metadata": {},
   "source": [
    "Define the Neural Network, Optimizer, and Train the Model:"
   ]
  },
  {
   "cell_type": "code",
   "execution_count": null,
   "metadata": {},
   "outputs": [],
   "source": [
    "# Train the model\n",
    "# size of input \n",
    "D_in = 1\n",
    "# size of hidden layer \n",
    "H = 2\n",
    "# number of outputs \n",
    "D_out = 1\n",
    "# learning rate \n",
    "learning_rate = 0.1\n",
    "# create the model \n",
    "model = Net(D_in, H, D_out)\n",
    "#optimizer \n",
    "optimizer = torch.optim.SGD(model.parameters(), lr=learning_rate)\n",
    "#train the model usein\n",
    "cost_cross = train(Y, X, model, optimizer, criterion_cross, epochs=1000)\n",
    "#plot the loss\n",
    "plt.plot(cost_cross)\n",
    "plt.xlabel('epoch')\n",
    "plt.title('cross entropy loss')"
   ]
  },
  {
   "cell_type": "code",
   "execution_count": 28,
   "metadata": {},
   "outputs": [
    {
     "data": {
      "image/png": "[encoded data removed]",
      "text/plain": [
       "<Figure size 432x288 with 1 Axes>"
      ]
     },
     "metadata": {
      "needs_background": "light"
     },
     "output_type": "display_data"
    },
    {
     "data": {
      "image/png": "[encoded data removed]",
      "text/plain": [
       "<Figure size 432x288 with 1 Axes>"
      ]
     },
     "metadata": {
      "needs_background": "light"
     },
     "output_type": "display_data"
    },
    {
     "data": {
      "image/png": "[encoded data removed]",
      "text/plain": [
       "<Figure size 432x288 with 1 Axes>"
      ]
     },
     "metadata": {
      "needs_background": "light"
     },
     "output_type": "display_data"
    },
    {
     "data": {
      "image/png": "[encoded data removed]",
      "text/plain": [
       "<Figure size 432x288 with 1 Axes>"
      ]
     },
     "metadata": {
      "needs_background": "light"
     },
     "output_type": "display_data"
    },
    {
     "data": {
      "image/png": "[encoded data removed]",
      "text/plain": [
       "<Figure size 432x288 with 1 Axes>"
      ]
     },
     "metadata": {
      "needs_background": "light"
     },
     "output_type": "display_data"
    },
    {
     "data": {
      "image/png": "[encoded data removed]",
      "text/plain": [
       "<Figure size 432x288 with 1 Axes>"
      ]
     },
     "metadata": {
      "needs_background": "light"
     },
     "output_type": "display_data"
    },
    {
     "data": {
      "image/png": "[encoded data removed]",
      "text/plain": [
       "<Figure size 432x288 with 1 Axes>"
      ]
     },
     "metadata": {
      "needs_background": "light"
     },
     "output_type": "display_data"
    },
    {
     "data": {
      "image/png": "[encoded data removed]",
      "text/plain": [
       "<Figure size 432x288 with 1 Axes>"
      ]
     },
     "metadata": {
      "needs_background": "light"
     },
     "output_type": "display_data"
    },
    {
     "data": {
      "text/plain": [
       "Text(0.5, 1.0, 'cross entropy loss')"
      ]
     },
     "execution_count": 28,
     "metadata": {},
     "output_type": "execute_result"
    },
    {
     "data": {
      "image/png": "[encoded data removed]",
      "text/plain": [
       "<Figure size 432x288 with 1 Axes>"
      ]
     },
     "metadata": {
      "needs_background": "light"
     },
     "output_type": "display_data"
    }
   ],
   "source": [
    "model = Net(1, 2, 1)\n",
    "optimizer = torch.optim.SGD(model.parameters(), lr=0.1)\n",
    "\n",
    "cost_cross = train(Y, X, model, optimizer, criterion_cross,  epochs=1000)\n",
    "#plot the loss\n",
    "plt.plot(cost_cross)\n",
    "plt.xlabel('epoch')\n",
    "plt.title('cross entropy loss')"
   ]
  },
  {
   "cell_type": "markdown",
   "metadata": {},
   "source": [
    "By examining the output of the  activation, you see by the 600th epoch that the data has been mapped to a linearly separable space."
   ]
  },
  {
   "cell_type": "markdown",
   "metadata": {},
   "source": [
    "we can make a prediction for a arbitrary one tensors "
   ]
  },
  {
   "cell_type": "code",
   "execution_count": 29,
   "metadata": {},
   "outputs": [
    {
     "data": {
      "text/plain": [
       "tensor([0.9980], grad_fn=<SigmoidBackward>)"
      ]
     },
     "execution_count": 29,
     "metadata": {},
     "output_type": "execute_result"
    }
   ],
   "source": [
    "x=torch.tensor([0.0])\n",
    "yhat=model(x)\n",
    "yhat"
   ]
  },
  {
   "cell_type": "markdown",
   "metadata": {},
   "source": [
    "we can make a prediction for some arbitrary one tensors  "
   ]
  },
  {
   "cell_type": "code",
   "execution_count": 30,
   "metadata": {},
   "outputs": [
    {
     "data": {
      "text/plain": [
       "tensor([[0.9980],\n",
       "        [0.9975],\n",
       "        [0.9707]], grad_fn=<SigmoidBackward>)"
      ]
     },
     "execution_count": 30,
     "metadata": {},
     "output_type": "execute_result"
    }
   ],
   "source": [
    "X_=torch.tensor([[0.0],[2.0],[3.0]])\n",
    "Yhat=model(X_)\n",
    "Yhat"
   ]
  },
  {
   "cell_type": "markdown",
   "metadata": {},
   "source": [
    "we  can threshold the predication"
   ]
  },
  {
   "cell_type": "code",
   "execution_count": 31,
   "metadata": {},
   "outputs": [
    {
     "data": {
      "text/plain": [
       "tensor([[True],\n",
       "        [True],\n",
       "        [True]])"
      ]
     },
     "execution_count": 31,
     "metadata": {},
     "output_type": "execute_result"
    }
   ],
   "source": [
    "Yhat=Yhat>0.5\n",
    "Yhat"
   ]
  },
  {
   "cell_type": "markdown",
   "metadata": {},
   "source": [
    "<h3>Practice</h3>"
   ]
  },
  {
   "cell_type": "markdown",
   "metadata": {},
   "source": [
    "Repeat the previous steps above by using the MSE cost or total loss: \n"
   ]
  },
  {
   "cell_type": "code",
   "execution_count": 34,
   "metadata": {},
   "outputs": [
    {
     "data": {
      "image/png": "[encoded data removed]",
      "text/plain": [
       "<Figure size 432x288 with 1 Axes>"
      ]
     },
     "metadata": {
      "needs_background": "light"
     },
     "output_type": "display_data"
    },
    {
     "data": {
      "image/png": "[encoded data removed]",
      "text/plain": [
       "<Figure size 432x288 with 1 Axes>"
      ]
     },
     "metadata": {
      "needs_background": "light"
     },
     "output_type": "display_data"
    },
    {
     "data": {
      "image/png": "[encoded data removed]",
      "text/plain": [
       "<Figure size 432x288 with 1 Axes>"
      ]
     },
     "metadata": {
      "needs_background": "light"
     },
     "output_type": "display_data"
    },
    {
     "data": {
      "image/png": "[encoded data removed]",
      "text/plain": [
       "<Figure size 432x288 with 1 Axes>"
      ]
     },
     "metadata": {
      "needs_background": "light"
     },
     "output_type": "display_data"
    },
    {
     "data": {
      "image/png": "[encoded data removed]",
      "text/plain": [
       "<Figure size 432x288 with 1 Axes>"
      ]
     },
     "metadata": {
      "needs_background": "light"
     },
     "output_type": "display_data"
    },
    {
     "data": {
      "image/png": "[encoded data removed]",
      "text/plain": [
       "<Figure size 432x288 with 1 Axes>"
      ]
     },
     "metadata": {
      "needs_background": "light"
     },
     "output_type": "display_data"
    },
    {
     "data": {
      "image/png": "[encoded data removed]",
      "text/plain": [
       "<Figure size 432x288 with 1 Axes>"
      ]
     },
     "metadata": {
      "needs_background": "light"
     },
     "output_type": "display_data"
    },
    {
     "data": {
      "image/png": "[encoded data removed]",
      "text/plain": [
       "<Figure size 432x288 with 1 Axes>"
      ]
     },
     "metadata": {
      "needs_background": "light"
     },
     "output_type": "display_data"
    },
    {
     "data": {
      "text/plain": [
       "[22.563747853040695,\n",
       " 41.87194161117077,\n",
       " 60.70842805504799,\n",
       " 79.4559296965599,\n",
       " 98.1826037466526,\n",
       " 116.90358926355839,\n",
       " 135.62226748466492,\n",
       " 154.33875384181738,\n",
       " 173.05206494778395,\n",
       " 191.7607687264681,\n",
       " 210.46319045126438,\n",
       " 229.1574646383524,\n",
       " 247.84153621643782,\n",
       " 266.51314257085323,\n",
       " 285.16980067640543,\n",
       " 303.8088141530752,\n",
       " 322.4273097515106,\n",
       " 341.0223124474287,\n",
       " 359.59084882587194,\n",
       " 378.1300763487816,\n",
       " 396.6374153867364,\n",
       " 415.11066730320454,\n",
       " 433.5480899140239,\n",
       " 451.9483729302883,\n",
       " 470.3104860410094,\n",
       " 488.63341395556927,\n",
       " 506.91585271060467,\n",
       " 525.1560279801488,\n",
       " 543.3516864478588,\n",
       " 561.5002251341939,\n",
       " 579.5988456681371,\n",
       " 597.6446576192975,\n",
       " 615.634728744626,\n",
       " 633.5660823658109,\n",
       " 651.4356857687235,\n",
       " 669.2404246255755,\n",
       " 686.9770680516958,\n",
       " 704.64222638309,\n",
       " 722.2322883307934,\n",
       " 739.7433352768421,\n",
       " 757.1710228994489,\n",
       " 774.5104268416762,\n",
       " 791.7558393403888,\n",
       " 808.9005282074213,\n",
       " 825.9364635050297,\n",
       " 842.8540340438485,\n",
       " 859.6417855024338,\n",
       " 876.286222666502,\n",
       " 892.771743953228,\n",
       " 909.0807428210974,\n",
       " 925.1938887387514,\n",
       " 941.0905349552631,\n",
       " 956.7491500899196,\n",
       " 972.1476557776332,\n",
       " 987.2635898664594,\n",
       " 1002.0741614252329,\n",
       " 1016.5563682466745,\n",
       " 1030.687456227839,\n",
       " 1044.4459806159139,\n",
       " 1057.8134966865182,\n",
       " 1070.776441924274,\n",
       " 1083.3274379521608,\n",
       " 1095.4654987305403,\n",
       " 1107.1952386721969,\n",
       " 1118.5256306752563,\n",
       " 1129.4687930941582,\n",
       " 1140.0389980077744,\n",
       " 1150.2518791481853,\n",
       " 1160.1238221377134,\n",
       " 1169.6714773774147,\n",
       " 1178.9114046245813,\n",
       " 1187.8598039112985,\n",
       " 1196.5323345772922,\n",
       " 1204.9439951330423,\n",
       " 1213.10905078426,\n",
       " 1221.0410065986216,\n",
       " 1228.7525925412774,\n",
       " 1236.255777746439,\n",
       " 1243.5617870762944,\n",
       " 1250.6811391673982,\n",
       " 1257.6236728169024,\n",
       " 1264.398589786142,\n",
       " 1271.0144886672497,\n",
       " 1277.479402475059,\n",
       " 1283.8008349090815,\n",
       " 1289.985801089555,\n",
       " 1296.040851470083,\n",
       " 1301.9721141047776,\n",
       " 1307.7853160612285,\n",
       " 1313.4858174324036,\n",
       " 1319.0786330066621,\n",
       " 1324.568461470306,\n",
       " 1329.9597036875784,\n",
       " 1335.2564859837294,\n",
       " 1340.4626787938178,\n",
       " 1345.5819135308266,\n",
       " 1350.6176030896604,\n",
       " 1355.5729543156922,\n",
       " 1360.4509841240942,\n",
       " 1365.254530524835,\n",
       " 1369.986263398081,\n",
       " 1374.6487034223974,\n",
       " 1379.2442249823362,\n",
       " 1383.775064241141,\n",
       " 1388.2433364707977,\n",
       " 1392.6510377638042,\n",
       " 1397.000053619966,\n",
       " 1401.2921686246991,\n",
       " 1405.5290687568486,\n",
       " 1409.7123494204134,\n",
       " 1413.84352527,\n",
       " 1417.9240251630545,\n",
       " 1421.955208586529,\n",
       " 1425.938364090398,\n",
       " 1429.8747124467045,\n",
       " 1433.7654116023332,\n",
       " 1437.6115616634488,\n",
       " 1441.4142116513103,\n",
       " 1445.1743553671986,\n",
       " 1448.892938297242,\n",
       " 1452.5708588957787,\n",
       " 1456.208975519985,\n",
       " 1459.8081034496427,\n",
       " 1463.369019748643,\n",
       " 1466.8924650922418,\n",
       " 1470.3791469968855,\n",
       " 1473.8297387510538,\n",
       " 1477.2448843810707,\n",
       " 1480.6251974273473,\n",
       " 1483.971268158406,\n",
       " 1487.2836586609483,\n",
       " 1490.5629088263959,\n",
       " 1493.8095322400331,\n",
       " 1497.0240258611739,\n",
       " 1500.2068634796888,\n",
       " 1503.3585023861378,\n",
       " 1506.479375258088,\n",
       " 1509.5699104946107,\n",
       " 1512.6305093038827,\n",
       " 1515.6615633610636,\n",
       " 1518.6634492408484,\n",
       " 1521.636532774195,\n",
       " 1524.5811631400138,\n",
       " 1527.4976807758212,\n",
       " 1530.3864187989384,\n",
       " 1533.2476946869865,\n",
       " 1536.08181956131,\n",
       " 1538.8890942940488,\n",
       " 1541.6698155906051,\n",
       " 1544.4242657143623,\n",
       " 1547.1527263568714,\n",
       " 1549.8554718904197,\n",
       " 1552.5327675445005,\n",
       " 1555.1848771004006,\n",
       " 1557.812053446658,\n",
       " 1560.4145499514416,\n",
       " 1562.992613089271,\n",
       " 1565.5464866524562,\n",
       " 1568.0764078991488,\n",
       " 1570.5826150570065,\n",
       " 1573.0653413971886,\n",
       " 1575.5248157614842,\n",
       " 1577.9612674862146,\n",
       " 1580.374921261333,\n",
       " 1582.7659996217117,\n",
       " 1585.134725141339,\n",
       " 1587.4813153911382,\n",
       " 1589.8059889245778,\n",
       " 1592.1089615579695,\n",
       " 1594.390447281301,\n",
       " 1596.6506616687402,\n",
       " 1598.8898171978071,\n",
       " 1601.1081238975748,\n",
       " 1603.3057920653373,\n",
       " 1605.4830304710194,\n",
       " 1607.6400511804968,\n",
       " 1609.7770594870672,\n",
       " 1611.894264540635,\n",
       " 1613.9918707748875,\n",
       " 1616.0700832027942,\n",
       " 1618.1291090967134,\n",
       " 1620.1691510919482,\n",
       " 1622.1904123006389,\n",
       " 1624.1930948039517,\n",
       " 1626.1774028912187,\n",
       " 1628.143535525538,\n",
       " 1630.0916931200773,\n",
       " 1632.0220782179385,\n",
       " 1633.934887160547,\n",
       " 1635.8303181072697,\n",
       " 1637.7085672775283,\n",
       " 1639.569829871878,\n",
       " 1641.4143012855202,\n",
       " 1643.242175959982,\n",
       " 1645.053648415953,\n",
       " 1646.848906641826,\n",
       " 1648.6281440919265,\n",
       " 1650.3915469795465,\n",
       " 1652.139304999262,\n",
       " 1653.8716059904546,\n",
       " 1655.588634560816,\n",
       " 1657.2905719913542,\n",
       " 1658.977602521889,\n",
       " 1660.6499061454087,\n",
       " 1662.3076629126444,\n",
       " 1663.9510496361181,\n",
       " 1665.580243980512,\n",
       " 1667.195419145748,\n",
       " 1668.7967471070588,\n",
       " 1670.3844018541276,\n",
       " 1671.958550747484,\n",
       " 1673.519362126477,\n",
       " 1675.067000940442,\n",
       " 1676.6016326537356,\n",
       " 1678.123419699259,\n",
       " 1679.6325230477378,\n",
       " 1681.1291018826887,\n",
       " 1682.6133116651326,\n",
       " 1684.0853072367609,\n",
       " 1685.5452441321686,\n",
       " 1686.9932719878852,\n",
       " 1688.429542383179,\n",
       " 1689.8542023007758,\n",
       " 1691.2673974083737,\n",
       " 1692.6692706053145,\n",
       " 1694.0599663211033,\n",
       " 1695.4396238932386,\n",
       " 1696.8083824869245,\n",
       " 1698.1663782880642,\n",
       " 1699.513746611774,\n",
       " 1700.8506210329942,\n",
       " 1702.17713182047,\n",
       " 1703.4934085793793,\n",
       " 1704.7995789148845,\n",
       " 1706.0957699758,\n",
       " 1707.3821038720198,\n",
       " 1708.6587056173012,\n",
       " 1709.9256933452561,\n",
       " 1711.1831878731027,\n",
       " 1712.4313055803068,\n",
       " 1713.6701621939428,\n",
       " 1714.8998717195354,\n",
       " 1716.1205467423424,\n",
       " 1717.3322976231575,\n",
       " 1718.5352324657142,\n",
       " 1719.7294602268375,\n",
       " 1720.9150866884738,\n",
       " 1722.0922156441957,\n",
       " 1723.2609486887231,\n",
       " 1724.421386897564,\n",
       " 1725.5736320312135,\n",
       " 1726.7177819148637,\n",
       " 1727.8539317543618,\n",
       " 1728.982178634964,\n",
       " 1730.102615414653,\n",
       " 1731.2153356214985,\n",
       " 1732.3204299588688,\n",
       " 1733.4179871892557,\n",
       " 1734.5080973212607,\n",
       " 1735.5908463234082,\n",
       " 1736.6663196538575,\n",
       " 1737.7346036131494,\n",
       " 1738.79578087572,\n",
       " 1739.8499330556951,\n",
       " 1740.897141279187,\n",
       " 1741.937484911643,\n",
       " 1742.9710426768288,\n",
       " 1743.997890798375,\n",
       " 1745.0181067581289,\n",
       " 1746.031764373649,\n",
       " 1747.0389386531897,\n",
       " 1748.0397023204714,\n",
       " 1749.0341264633462,\n",
       " 1750.0222819405608,\n",
       " 1751.0042381351814,\n",
       " 1751.9800651627593,\n",
       " 1752.9498292682692,\n",
       " 1753.91359732626,\n",
       " 1754.8714350066148,\n",
       " 1755.8234058949165,\n",
       " 1756.7695745178498,\n",
       " 1757.7100041066296,\n",
       " 1758.6447570607997,\n",
       " 1759.5738925412297,\n",
       " 1760.4974715667777,\n",
       " 1761.4155539162457,\n",
       " 1762.3281970946118,\n",
       " 1763.235458817333,\n",
       " 1764.1373961493373,\n",
       " 1765.034064673353,\n",
       " 1765.9255198934115,\n",
       " 1766.8118170485832,\n",
       " 1767.6930088880472,\n",
       " 1768.5691476613283,\n",
       " 1769.4402859504335,\n",
       " 1770.3064751271158,\n",
       " 1771.1677652788348,\n",
       " 1772.0242069358937,\n",
       " 1772.8758489117026,\n",
       " 1773.7227405905724,\n",
       " 1774.5649281968363,\n",
       " 1775.4024597322568,\n",
       " 1776.2353808311746,\n",
       " 1777.0637385030277,\n",
       " 1777.8875771025196,\n",
       " 1778.7069425112568,\n",
       " 1779.5218781027943,\n",
       " 1780.3324268683791,\n",
       " 1781.1386326770298,\n",
       " 1781.9405364342965,\n",
       " 1782.7381805884652,\n",
       " 1783.5316065438092,\n",
       " 1784.320854420308,\n",
       " 1785.1059641754255,\n",
       " 1785.886975387577,\n",
       " 1786.6639273855835,\n",
       " 1787.4368587895297,\n",
       " 1788.2058068672195,\n",
       " 1788.9708086261526,\n",
       " 1789.7319015902467,\n",
       " 1790.4891227474436,\n",
       " 1791.2425068924204,\n",
       " 1791.992090776097,\n",
       " 1792.7379086711444,\n",
       " 1793.4799956283532,\n",
       " 1794.2183857257478,\n",
       " 1794.9531126110815,\n",
       " 1795.6842098757625,\n",
       " 1796.4117097486742,\n",
       " 1797.1356445462443,\n",
       " 1797.8560467553325,\n",
       " 1798.5729482374154,\n",
       " 1799.2863799342886,\n",
       " 1799.996372404974,\n",
       " 1800.7029559533112,\n",
       " 1801.4061617837287,\n",
       " 1802.1060182708316,\n",
       " 1802.8025553724729,\n",
       " 1803.4958012583666,\n",
       " 1804.185785149224,\n",
       " 1804.8725354317576,\n",
       " 1805.5560795892961,\n",
       " 1806.2364459964447,\n",
       " 1806.91366145527,\n",
       " 1807.5877532626037,\n",
       " 1808.2587472724263,\n",
       " 1808.926669799257,\n",
       " 1809.591547507327,\n",
       " 1810.2534058103338,\n",
       " 1810.9122697785497,\n",
       " 1811.5681647169404,\n",
       " 1812.2211147081107,\n",
       " 1812.8711447389796,\n",
       " 1813.5182788872626,\n",
       " 1814.1625412052963,\n",
       " 1814.803954689065,\n",
       " 1815.4425426376984,\n",
       " 1816.078328727046,\n",
       " 1816.7113352476154,\n",
       " 1817.3415843043476,\n",
       " 1817.9690986727364,\n",
       " 1818.5939006218687,\n",
       " 1819.2160119158216,\n",
       " 1819.8354529286735,\n",
       " 1820.4522461646702,\n",
       " 1821.0664124649484,\n",
       " 1821.67797189462,\n",
       " 1822.2869449595455,\n",
       " 1822.8933523264714,\n",
       " 1823.4972141087055,\n",
       " 1824.0985502784606,\n",
       " 1824.6973800845444,\n",
       " 1825.2937230207026,\n",
       " 1825.887598684989,\n",
       " 1826.479025562061,\n",
       " 1827.0680227859411,\n",
       " 1827.654608349083,\n",
       " 1828.238800701918,\n",
       " 1828.8206193647347,\n",
       " 1829.4000809181016,\n",
       " 1829.977203821065,\n",
       " 1830.5520048241597,\n",
       " 1831.1245016439352,\n",
       " 1831.6947116560768,\n",
       " 1832.26265185792,\n",
       " 1832.8283385799732,\n",
       " 1833.3917894088663,\n",
       " 1833.9530202287715,\n",
       " 1834.512047514785,\n",
       " 1835.068887411151,\n",
       " 1835.6235560632776,\n",
       " 1836.1760688456707,\n",
       " 1836.7264416962862,\n",
       " 1837.274689432932,\n",
       " 1837.8208285840228,\n",
       " 1838.3648735892493,\n",
       " 1838.9068394710775,\n",
       " 1839.4467405576725,\n",
       " 1839.9845916670747,\n",
       " 1840.5204078517854,\n",
       " 1841.0542031829245,\n",
       " 1841.5859925569966,\n",
       " 1842.1157895238139,\n",
       " 1842.6436080229469,\n",
       " 1843.1694620531052,\n",
       " 1843.693365267245,\n",
       " 1844.2153306652326,\n",
       " 1844.73537218594,\n",
       " 1845.2535023239907,\n",
       " 1845.7697355770506,\n",
       " 1846.284084199695,\n",
       " 1846.7965605668724,\n",
       " 1847.3071782996412,\n",
       " 1847.8159494111314,\n",
       " 1848.322886175476,\n",
       " 1848.828001739923,\n",
       " 1849.3313080538064,\n",
       " 1849.8328172292095,\n",
       " 1850.3325410501566,\n",
       " 1850.8304916138295,\n",
       " 1851.3266808844637,\n",
       " 1851.8211203585379,\n",
       " 1852.3138220882975,\n",
       " 1852.8047969143372,\n",
       " 1853.2940561159048,\n",
       " 1853.7816117415205,\n",
       " 1854.2674736755434,\n",
       " 1854.7516538107302,\n",
       " 1855.234163393965,\n",
       " 1855.7150126579218,\n",
       " 1856.1942118213046,\n",
       " 1856.6717728963122,\n",
       " 1857.1477057067677,\n",
       " 1857.6220203181729,\n",
       " 1858.0947274570353,\n",
       " 1858.5658375066705,\n",
       " 1859.0353598997463,\n",
       " 1859.503304565791,\n",
       " 1859.9696823211852,\n",
       " 1860.4345028982498,\n",
       " 1860.8977755752858,\n",
       " 1861.359510621056,\n",
       " 1861.8197171720676,\n",
       " 1862.2784046977758,\n",
       " 1862.7355829440057,\n",
       " 1863.19126059697,\n",
       " 1863.6454478676897,\n",
       " 1864.0981528684497,\n",
       " 1864.5493856389076,\n",
       " 1864.9991544119548,\n",
       " 1865.4474686116446,\n",
       " 1865.8943371472415,\n",
       " 1866.3397684860975,\n",
       " 1866.7837714252528,\n",
       " 1867.2263548902702,\n",
       " 1867.667526895646,\n",
       " 1868.1072960325982,\n",
       " 1868.545670931926,\n",
       " 1868.9826601680834,\n",
       " 1869.418271450093,\n",
       " 1869.852513374295,\n",
       " 1870.285393604543,\n",
       " 1870.7169206023682,\n",
       " 1871.1471019771416,\n",
       " 1871.5759458409157,\n",
       " 1872.0034596577752,\n",
       " 1872.4296513791196,\n",
       " 1872.8545290997718,\n",
       " 1873.278100125026,\n",
       " 1873.700372040039,\n",
       " 1874.1213530406822,\n",
       " 1874.5410493509844,\n",
       " 1874.959469447378,\n",
       " 1875.3766198500525,\n",
       " 1875.7925081432331,\n",
       " 1876.2071417144034,\n",
       " 1876.6205272714142,\n",
       " 1877.0326720301528,\n",
       " 1877.4435830551665,\n",
       " 1877.8532675933093,\n",
       " 1878.2617321535945,\n",
       " 1878.6689837542363,\n",
       " 1879.0750289026182,\n",
       " 1879.479874691926,\n",
       " 1879.8835275524762,\n",
       " 1880.2859947022516,\n",
       " 1880.6872823892627,\n",
       " 1881.0873968920205,\n",
       " 1881.4863445116207,\n",
       " 1881.8841321165673,\n",
       " 1882.2807658207603,\n",
       " 1882.676252386067,\n",
       " 1883.0705973873846,\n",
       " 1883.4638077416457,\n",
       " 1883.8558890551794,\n",
       " 1884.2468477187213,\n",
       " 1884.6366895991378,\n",
       " 1885.0254204478115,\n",
       " 1885.41304668691,\n",
       " 1885.7995742172934,\n",
       " 1886.1850091125816,\n",
       " 1886.5693572645541,\n",
       " 1886.9526243109722,\n",
       " 1887.3348156067077,\n",
       " 1887.7159369857982,\n",
       " 1888.0959939535242,\n",
       " 1888.4749927478842,\n",
       " 1888.8529382392298,\n",
       " 1889.2298363568261,\n",
       " 1889.6056925377343,\n",
       " 1889.9805124034174,\n",
       " 1890.3543012451846,\n",
       " 1890.7270646193065,\n",
       " 1891.098807586357,\n",
       " 1891.469535115175,\n",
       " 1891.8392531857826,\n",
       " 1892.2079664671328,\n",
       " 1892.575680672191,\n",
       " 1892.9424001167063,\n",
       " 1893.3081300908234,\n",
       " 1893.6728758728132,\n",
       " 1894.0366426866967,\n",
       " 1894.399435296189,\n",
       " 1894.7612583700102,\n",
       " 1895.122117238585,\n",
       " 1895.4820163196418,\n",
       " 1895.8409607128706,\n",
       " 1896.1989553638268,\n",
       " 1896.5560051572975,\n",
       " 1896.9121140202042,\n",
       " 1897.2672872077674,\n",
       " 1897.6215293528512,\n",
       " 1897.9748450519983,\n",
       " 1898.3272392118815,\n",
       " 1898.6787158038933,\n",
       " 1899.0292797458824,\n",
       " 1899.3789351114538,\n",
       " 1899.727686902741,\n",
       " 1900.0755392091814,\n",
       " 1900.4224965667818,\n",
       " 1900.7685627772007,\n",
       " 1901.1137431252282,\n",
       " 1901.458041328704,\n",
       " 1901.8014615699649,\n",
       " 1902.144008344505,\n",
       " 1902.485685591353,\n",
       " 1902.8264981852844,\n",
       " 1903.1664498772006,\n",
       " 1903.505544316722,\n",
       " 1903.8437860934064,\n",
       " 1904.1811790296342,\n",
       " 1904.5177272760775,\n",
       " 1904.853434667457,\n",
       " 1905.18830550462,\n",
       " 1905.5223435773514,\n",
       " 1905.8555526416749,\n",
       " 1906.1879366859794,\n",
       " 1906.5194997636136,\n",
       " 1906.8502456662245,\n",
       " 1907.1801780157257,\n",
       " 1907.509300566977,\n",
       " 1907.8376172797289,\n",
       " 1908.1651322706603,\n",
       " 1908.4918489642441,\n",
       " 1908.8177709621377,\n",
       " 1909.142901883577,\n",
       " 1909.467245682259,\n",
       " 1909.790805624798,\n",
       " 1910.113585235551,\n",
       " 1910.4355882965028,\n",
       " 1910.756818236434,\n",
       " 1911.0772786522284,\n",
       " 1911.3969732670812,\n",
       " 1911.7159048874164,\n",
       " 1912.0340772287454,\n",
       " 1912.3514942992479,\n",
       " 1912.6681592817185,\n",
       " 1912.9840749810683,\n",
       " 1913.2992452728795,\n",
       " 1913.6136732785963,\n",
       " 1913.927362524555,\n",
       " 1914.2403163471026,\n",
       " 1914.552537779673,\n",
       " 1914.8640297484817,\n",
       " 1915.174796079984,\n",
       " 1915.4848393702414,\n",
       " 1915.794163644081,\n",
       " 1916.1027714536758,\n",
       " 1916.4106662870618,\n",
       " 1916.7178511371603,\n",
       " 1917.0243296214612,\n",
       " 1917.3301037524361,\n",
       " 1917.6351771401241,\n",
       " 1917.9395530854817,\n",
       " 1918.2432339271763,\n",
       " 1918.546223611338,\n",
       " 1918.8485245964257,\n",
       " 1919.150139616453,\n",
       " 1919.4510722347768,\n",
       " 1919.7513250454795,\n",
       " 1920.0509008194786,\n",
       " 1920.3498025164008,\n",
       " 1920.6480329119368,\n",
       " 1920.9455955133308,\n",
       " 1921.2424927761313,\n",
       " 1921.5387272973312,\n",
       " 1921.8343021499459,\n",
       " 1922.1292201633332,\n",
       " 1922.4234838100383,\n",
       " 1922.717096203356,\n",
       " 1923.0100597566925,\n",
       " 1923.3023769735591,\n",
       " 1923.594051062013,\n",
       " 1923.8850845376728,\n",
       " 1924.1754802812357,\n",
       " 1924.4652403884102,\n",
       " 1924.754368101363,\n",
       " 1925.042865890311,\n",
       " 1925.3307362558553,\n",
       " 1925.617981600226,\n",
       " 1925.9046048587188,\n",
       " 1926.1906083036447,\n",
       " 1926.475994700566,\n",
       " 1926.7607669777935,\n",
       " 1927.0449269213714,\n",
       " 1927.3284772298066,\n",
       " 1927.6114201637683,\n",
       " 1927.8937590812566,\n",
       " 1928.1754956464283,\n",
       " 1928.4566323626786,\n",
       " 1928.7371719158255,\n",
       " 1929.0171167562949,\n",
       " 1929.2964689021464,\n",
       " 1929.5752307350049,\n",
       " 1929.8534050638555,\n",
       " 1930.1309939103667,\n",
       " 1930.407999953255,\n",
       " 1930.6844249829883,\n",
       " 1930.9602719066897,\n",
       " 1931.2355427491711,\n",
       " 1931.5102397645824,\n",
       " 1931.7843654555036,\n",
       " 1932.057921828702,\n",
       " 1932.3309115670854,\n",
       " 1932.6033363754395,\n",
       " 1932.87519900396,\n",
       " 1933.1465008994564,\n",
       " 1933.417244508746,\n",
       " 1933.6874320674688,\n",
       " 1933.957065854338,\n",
       " 1934.2261482311878,\n",
       " 1934.4946812052513,\n",
       " 1934.762666539289,\n",
       " 1935.030106291175,\n",
       " 1935.2970029623248,\n",
       " 1935.5633585464675,\n",
       " 1935.829175127321,\n",
       " 1936.0944547085091,\n",
       " 1936.3591998353368,\n",
       " 1936.6234122642782,\n",
       " 1936.8870935130399,\n",
       " 1937.1502463801298,\n",
       " 1937.412872920977,\n",
       " 1937.6749739850638,\n",
       " 1937.9365530279465,\n",
       " 1938.1976113881683,\n",
       " 1938.458150573424,\n",
       " 1938.7181731271558,\n",
       " 1938.9776808031602,\n",
       " 1939.2366756639676,\n",
       " 1939.4951598286862,\n",
       " 1939.7531354867388,\n",
       " 1940.010603470495,\n",
       " 1940.2675665019779,\n",
       " 1940.5240260371938,\n",
       " 1940.7799841273809,\n",
       " 1941.0354425298283,\n",
       " 1941.2904033594532,\n",
       " 1941.544868674362,\n",
       " 1941.7988397259032,\n",
       " 1942.0523186386563,\n",
       " 1942.305307103321,\n",
       " 1942.5578070485499,\n",
       " 1942.8098201493267,\n",
       " 1943.0613485311624,\n",
       " 1943.3123932804447,\n",
       " 1943.5629564370029,\n",
       " 1943.8130402980605,\n",
       " 1944.0626460685162,\n",
       " 1944.3117754911073,\n",
       " 1944.5604303001892,\n",
       " 1944.8086122021778,\n",
       " 1945.0563228613464,\n",
       " 1945.3035642183386,\n",
       " 1945.5503380680457,\n",
       " 1945.796645792434,\n",
       " 1946.042489754036,\n",
       " 1946.2878705895273,\n",
       " 1946.532790410216,\n",
       " 1946.7772507794434,\n",
       " 1947.0212534995517,\n",
       " 1947.2648003095528,\n",
       " 1947.507892720052,\n",
       " 1947.750532041071,\n",
       " 1947.9927207293222,\n",
       " 1948.2344593247399,\n",
       " 1948.4757500496926,\n",
       " 1948.716594467056,\n",
       " 1948.9569946038537,\n",
       " 1949.1969507528702,\n",
       " 1949.4364652580116,\n",
       " 1949.675539546297,\n",
       " 1949.9141749435803,\n",
       " 1950.1523733182112,\n",
       " 1950.3901359649608,\n",
       " 1950.6274641340133,\n",
       " 1950.8643600556534,\n",
       " 1951.1008250435116,\n",
       " 1951.336860406329,\n",
       " 1951.5724678196711,\n",
       " 1951.8076487140497,\n",
       " 1952.0424041581573,\n",
       " 1952.2767360096332,\n",
       " 1952.5106458836235,\n",
       " 1952.7441350213485,\n",
       " 1952.9772044323618,\n",
       " 1953.2098561608,\n",
       " 1953.4420917420648,\n",
       " 1953.6739118996775,\n",
       " 1953.905318412464,\n",
       " 1954.1363124062773,\n",
       " 1954.3668958607595,\n",
       " 1954.5970702121267,\n",
       " 1954.8268363390816,\n",
       " 1955.0561956019374,\n",
       " 1955.2851496747462,\n",
       " 1955.51369967137,\n",
       " 1955.7418475211598,\n",
       " 1955.9695936762728,\n",
       " 1956.196940356982,\n",
       " 1956.4238883153303,\n",
       " 1956.6504393453943,\n",
       " 1956.8765943793114,\n",
       " 1957.1023548485246,\n",
       " 1957.3277222968172,\n",
       " 1957.5526975648245,\n",
       " 1957.7772823517444,\n",
       " 1958.0014778462937,\n",
       " 1958.2252853674581,\n",
       " 1958.4487061490072,\n",
       " 1958.6717414861778,\n",
       " 1958.894392809365,\n",
       " 1959.1166613007663,\n",
       " 1959.3385480802972,\n",
       " 1959.5600542124594,\n",
       " 1959.7811813517474,\n",
       " 1960.001930505503,\n",
       " 1960.2223028541775,\n",
       " 1960.4422998762457,\n",
       " 1960.6619226271287,\n",
       " 1960.8811724155676,\n",
       " 1961.1000501146773,\n",
       " 1961.318557080347,\n",
       " 1961.5366946778959,\n",
       " 1961.754464333295,\n",
       " 1961.9718667365378,\n",
       " 1962.1889031260507,\n",
       " 1962.4055750436382,\n",
       " 1962.6218832316808,\n",
       " 1962.8378292433918,\n",
       " 1963.0534135927446,\n",
       " 1963.2686379387742,\n",
       " 1963.4835035088472,\n",
       " 1963.6980113700265,\n",
       " 1963.912162750843,\n",
       " 1964.1259586559609,\n",
       " 1964.339399824501,\n",
       " 1964.552487869747,\n",
       " 1964.7652237155708,\n",
       " 1964.9776084817713,\n",
       " 1965.1896432874491,\n",
       " 1965.4013291161973,\n",
       " 1965.612667509471,\n",
       " 1965.823659289279,\n",
       " 1966.0343052682001,\n",
       " 1966.2446069164434,\n",
       " 1966.454564921325,\n",
       " 1966.6641811769223,\n",
       " 1966.873456325382,\n",
       " 1967.082391295815,\n",
       " 1967.290986721171,\n",
       " 1967.4992441823706,\n",
       " 1967.7071646860568,\n",
       " 1967.9147493984783,\n",
       " 1968.1219989524689,\n",
       " 1968.328914460726,\n",
       " 1968.5354974515503,\n",
       " 1968.7417483184254,\n",
       " 1968.947668413166,\n",
       " 1969.1532583617372,\n",
       " 1969.3585194591433,\n",
       " 1969.5634528718656,\n",
       " 1969.7680595964193,\n",
       " 1969.9723403669195,\n",
       " 1970.1762964898953,\n",
       " 1970.379928776063,\n",
       " 1970.5832380219363,\n",
       " 1970.786225703312,\n",
       " 1970.988892091089,\n",
       " 1971.191238106927,\n",
       " 1971.3932654064847,\n",
       " 1971.5949748533312,\n",
       " 1971.7963670179015,\n",
       " 1971.9974432571325,\n",
       " 1972.1982040114235,\n",
       " 1972.3986507501686,\n",
       " 1972.5987842121394,\n",
       " 1972.7986053312197,\n",
       " 1972.9981150430394,\n",
       " 1973.19731451408,\n",
       " 1973.3962043595966,\n",
       " 1973.5947856333805,\n",
       " 1973.7930593824713,\n",
       " 1973.991026116535,\n",
       " 1974.1886872958858,\n",
       " 1974.3860433049267,\n",
       " 1974.583094759495,\n",
       " 1974.7798433220014,\n",
       " 1974.9762895560125,\n",
       " 1975.172434147098,\n",
       " 1975.3682782596443,\n",
       " 1975.563822990749,\n",
       " 1975.7590686705662,\n",
       " 1975.954016404692,\n",
       " 1976.1486672369065,\n",
       " 1976.3430220430018,\n",
       " 1976.5370810104068,\n",
       " 1976.7308458498446,\n",
       " 1976.9243170067202,\n",
       " 1977.1174955901224,\n",
       " 1977.3103823970305,\n",
       " 1977.5029776928714,\n",
       " 1977.695282998262,\n",
       " 1977.8872988156509,\n",
       " 1978.0790261301445,\n",
       " 1978.2704658706207,\n",
       " 1978.4616185419727,\n",
       " 1978.6524851728464,\n",
       " 1978.8430666343775,\n",
       " 1979.033363783965,\n",
       " 1979.223377432325,\n",
       " 1979.413108133711,\n",
       " 1979.60255669849,\n",
       " 1979.7917240452953,\n",
       " 1979.980610783794,\n",
       " 1980.1692180280806,\n",
       " 1980.3575466417242,\n",
       " 1980.5455967643065,\n",
       " 1980.733369860216,\n",
       " 1980.920866364264,\n",
       " 1981.1080877396744,\n",
       " 1981.2950338188093,\n",
       " 1981.4817057827022,\n",
       " 1981.6681041781558,\n",
       " 1981.8542303513968,\n",
       " 1982.0400845590048,\n",
       " 1982.2256674097152,\n",
       " 1982.410980021581,\n",
       " 1982.596023310325,\n",
       " 1982.780797417392,\n",
       " 1982.9653039800469,\n",
       " 1983.1495428897906,\n",
       " 1983.3335152526852,\n",
       " 1983.5172216300853,\n",
       " 1983.7006629419047,\n",
       " 1983.8838399352971,\n",
       " 1984.0667533404194,\n",
       " 1984.2494035331765,\n",
       " 1984.4317917323206,\n",
       " 1984.6139184368076,\n",
       " 1984.7957843941404,\n",
       " 1984.9773903918685,\n",
       " 1985.1587369997287,\n",
       " 1985.3398244025884,\n",
       " 1985.52065442584,\n",
       " 1985.7012271456188,\n",
       " 1985.8815433681011,\n",
       " 1986.0616037076106,\n",
       " 1986.2414087783545,\n",
       " 1986.4209595620632,\n",
       " 1986.600256552687,\n",
       " 1986.7793005411513,\n",
       " 1986.9580923347967,\n",
       " 1987.1366321925307,\n",
       " 1987.3149210319389,\n",
       " 1987.492959583993,\n",
       " 1987.6707479836186,\n",
       " 1987.8482875124319,\n",
       " 1988.0255787196802,\n",
       " 1988.2026225993177,\n",
       " 1988.3794189769542,\n",
       " 1988.5559691890376,\n",
       " 1988.7322736789938,\n",
       " 1988.9083331704605,\n",
       " 1989.0841479207156,\n",
       " 1989.2597189176595,\n",
       " 1989.435047073639,\n",
       " 1989.6101325912168,\n",
       " 1989.7849763134727,\n",
       " 1989.9595785605488,\n",
       " 1990.1339405428153,\n",
       " 1990.3080624071881,\n",
       " 1990.481944881496,\n",
       " 1990.6555888899602,\n",
       " 1990.828994860989,\n",
       " 1991.002163354773,\n",
       " 1991.1750947358087,\n",
       " 1991.347790287342,\n",
       " 1991.520249893074,\n",
       " 1991.6924748477759,\n",
       " 1991.864465337596,\n",
       " 1992.0362220967654,\n",
       " 1992.2077455557883,\n",
       " 1992.3790365689201,\n",
       " 1992.5500958134653,\n",
       " 1992.7209237898933,\n",
       " 1992.8915210490813,\n",
       " 1993.061888147029,\n",
       " 1993.2320259391563,\n",
       " 1993.4019344970584,\n",
       " 1993.5716147833737,\n",
       " 1993.7410675458377,\n",
       " 1993.9102930984227,\n",
       " 1994.079292290262,\n",
       " 1994.2480651398655,\n",
       " 1994.4166131594684,\n",
       " 1994.584935643361,\n",
       " 1994.7530341001693,\n",
       " 1994.9209089649376,\n",
       " 1995.0885606697993,\n",
       " 1995.2559898983454,\n",
       " 1995.4231970170513,\n",
       " 1995.5901826942572,\n",
       " 1995.7569474896882,\n",
       " 1995.9234921921743,\n",
       " 1996.0898170548026,\n",
       " 1996.2559229295002,\n",
       " 1996.4218099561986,\n",
       " 1996.5874786233762,\n",
       " 1996.7529303908814,\n",
       " 1996.9181648420636,\n",
       " 1997.0831832553959,\n",
       " 1997.2479853873374,\n",
       " 1997.4125725812046,\n",
       " 1997.5769446155755,\n",
       " 1997.7411025173496,\n",
       " 1997.905046725995,\n",
       " 1998.068777671433,\n",
       " 1998.232295956579,\n",
       " 1998.3956018345198,\n",
       " 1998.558696401422,\n",
       " 1998.7215797317913,\n",
       " 1998.8842524318025,\n",
       " 1999.046715424396,\n",
       " 1999.2089688377455,\n",
       " 1999.371013155207,\n",
       " 1999.532849170675,\n",
       " 1999.6944768279209,\n",
       " 1999.8558972250903,\n",
       " 2000.0171107373317,\n",
       " 2000.1781178603414,\n",
       " 2000.3389190245653,\n",
       " 2000.499514599156,\n",
       " 2000.6599051933736,\n",
       " 2000.8200915943016,\n",
       " 2000.9800740532228,\n",
       " 2001.1398529451108,\n",
       " 2001.2994288820773,\n",
       " 2001.4588025981793,\n",
       " 2001.6179744584952,\n",
       " 2001.7769446547609,\n",
       " 2001.9357138585183,\n",
       " 2002.0942827372346,\n",
       " 2002.2526514230412,\n",
       " 2002.410820887424,\n",
       " 2002.568791317055,\n",
       " 2002.7265631548944,\n",
       " 2002.884136704728,\n",
       " 2003.0415129371686,\n",
       " 2003.1986919775954,\n",
       " 2003.3556743147783,\n",
       " 2003.5124605624587,\n",
       " 2003.6690512700006,\n",
       " 2003.8254465104546,\n",
       " 2003.9816473781248,\n",
       " 2004.1376539415214,\n",
       " 2004.29346650152,\n",
       " 2004.449085431872,\n",
       " 2004.604511467507,\n",
       " 2004.759745147603]"
      ]
     },
     "execution_count": 34,
     "metadata": {},
     "output_type": "execute_result"
    }
   ],
   "source": [
    "# Practice: Train the model with MSE Loss Function\n",
    "X = torch.arange(-20, 20, 1).view(-1,1).type(torch.FloatTensor)\n",
    "Y = torch.zeros(X.shape[0])\n",
    "Y[(X[:, 0] > -4) & (X[:, 0] < 4)] = 1.0\n",
    "\n",
    "model = Net(1,2,1)\n",
    "optimizer = torch.optim.SGD(model.parameters(), lr=0.1)\n",
    "\n",
    "# Type your code here\n",
    "def mse_criterion(y_hat, y):\n",
    "    return torch.mean((y_hat - y) ** 2)\n",
    "\n",
    "train(Y, X, model, optimizer, criterion_cross,  epochs=1000)"
   ]
  },
  {
   "cell_type": "code",
   "execution_count": 40,
   "metadata": {},
   "outputs": [
    {
     "data": {
      "text/plain": [
       "tensor([[0.0016],\n",
       "        [0.9690],\n",
       "        [0.0016]], grad_fn=<SigmoidBackward>)"
      ]
     },
     "execution_count": 40,
     "metadata": {},
     "output_type": "execute_result"
    }
   ],
   "source": [
    "x = torch.tensor([[10.],[3.],[6.]])\n",
    "model(x)"
   ]
  },
  {
   "cell_type": "markdown",
   "metadata": {},
   "source": [
    "Double-click <b>here</b> for the solution.\n",
    "\n",
    "<!-- \n",
    "learning_rate = 0.1\n",
    "criterion_mse=nn.MSELoss()\n",
    "model=Net(D_in,H,D_out)\n",
    "optimizer=torch.optim.SGD(model.parameters(), lr=learning_rate)\n",
    "cost_mse=train(Y,X,model,optimizer,criterion_mse,epochs=1000)\n",
    "plt.plot(cost_mse)\n",
    "plt.xlabel('epoch')\n",
    "plt.title('MSE loss ')\n",
    "-->"
   ]
  },
  {
   "cell_type": "markdown",
   "metadata": {},
   "source": [
    "<!--Empty Space for separating topics-->"
   ]
  },
  {
   "cell_type": "markdown",
   "metadata": {},
   "source": [
    "<a href=\"http://cocl.us/pytorch_link_bottom\">\n",
    "    <img src=\"https://s3-api.us-geo.objectstorage.softlayer.net/cf-courses-data/CognitiveClass/DL0110EN/notebook_images%20/notebook_bottom%20.png\" width=\"750\" alt=\"PyTorch Bottom\" />\n",
    "</a>"
   ]
  },
  {
   "cell_type": "markdown",
   "metadata": {},
   "source": [
    "<h2>About the Authors:</h2> \n",
    "\n",
    "<a href=\"https://www.linkedin.com/in/joseph-s-50398b136/\">Joseph Santarcangelo</a> has a PhD in Electrical Engineering, his research focused on using machine learning, signal processing, and computer vision to determine how videos impact human cognition. Joseph has been working for IBM since he completed his PhD. "
   ]
  },
  {
   "cell_type": "markdown",
   "metadata": {},
   "source": [
    "Other contributors: <a href=\"https://www.linkedin.com/in/michelleccarey/\">Michelle Carey</a>, <a href=\"www.linkedin.com/in/jiahui-mavis-zhou-a4537814a\">Mavis Zhou</a>"
   ]
  },
  {
   "cell_type": "markdown",
   "metadata": {},
   "source": [
    "<hr>"
   ]
  },
  {
   "cell_type": "markdown",
   "metadata": {},
   "source": [
    "Copyright &copy; 2018 <a href=\"cognitiveclass.ai?utm_source=bducopyrightlink&utm_medium=dswb&utm_campaign=bdu\">cognitiveclass.ai</a>. This notebook and its source code are released under the terms of the <a href=\"https://bigdatauniversity.com/mit-license/\">MIT License</a>."
   ]
  }
 ],
 "metadata": {
  "kernelspec": {
   "display_name": "Python",
   "language": "python",
   "name": "conda-env-python-py"
  },
  "language_info": {
   "codemirror_mode": {
    "name": "ipython",
    "version": 3
   },
   "file_extension": ".py",
   "mimetype": "text/x-python",
   "name": "python",
   "nbconvert_exporter": "python",
   "pygments_lexer": "ipython3",
   "version": "3.6.7"
  }
 },
 "nbformat": 4,
 "nbformat_minor": 4
}
