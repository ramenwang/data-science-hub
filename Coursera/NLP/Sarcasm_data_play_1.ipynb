{
  "nbformat": 4,
  "nbformat_minor": 0,
  "metadata": {
    "colab": {
      "name": "Sarcasm_data_play_1.ipynb",
      "provenance": [],
      "authorship_tag": "ABX9TyNDppo18SWz110MT7nRJKG0",
      "include_colab_link": true
    },
    "kernelspec": {
      "name": "python3",
      "display_name": "Python 3"
    },
    "accelerator": "GPU"
  },
  "cells": [
    {
      "cell_type": "markdown",
      "metadata": {
        "id": "view-in-github",
        "colab_type": "text"
      },
      "source": [
        "<a href=\"https://colab.research.google.com/github/ramenwang/deep_learning_py/blob/master/Coursera/NLP/Sarcasm_data_play_1.ipynb\" target=\"_parent\"><img src=\"https://colab.research.google.com/assets/colab-badge.svg\" alt=\"Open In Colab\"/></a>"
      ]
    },
    {
      "cell_type": "code",
      "metadata": {
        "id": "BWQ_PcTGXKT5",
        "colab_type": "code",
        "colab": {
          "base_uri": "https://localhost:8080/",
          "height": 63
        },
        "outputId": "98729d54-5595-44cf-e9be-24b70385ac19"
      },
      "source": [
        "import json\n",
        "from tensorflow.keras.preprocessing.text import Tokenizer\n",
        "from tensorflow.keras.preprocessing.sequence import pad_sequences"
      ],
      "execution_count": 1,
      "outputs": [
        {
          "output_type": "display_data",
          "data": {
            "text/html": [
              "<p style=\"color: red;\">\n",
              "The default version of TensorFlow in Colab will soon switch to TensorFlow 2.x.<br>\n",
              "We recommend you <a href=\"https://www.tensorflow.org/guide/migrate\" target=\"_blank\">upgrade</a> now \n",
              "or ensure your notebook will continue to use TensorFlow 1.x via the <code>%tensorflow_version 1.x</code> magic:\n",
              "<a href=\"https://colab.research.google.com/notebooks/tensorflow_version.ipynb\" target=\"_blank\">more info</a>.</p>\n"
            ],
            "text/plain": [
              "<IPython.core.display.HTML object>"
            ]
          },
          "metadata": {
            "tags": []
          }
        }
      ]
    },
    {
      "cell_type": "code",
      "metadata": {
        "id": "uBmDghKPYbDi",
        "colab_type": "code",
        "colab": {
          "base_uri": "https://localhost:8080/",
          "height": 272
        },
        "outputId": "87a3a417-3aea-43b3-b54e-a2b4473b1373"
      },
      "source": [
        "# download sarcasm dataset\n",
        "! wget http://storage.googleapis.com/laurencemoroney-blog.appspot.com/sarcasm.json /tmp/sarcasm.json"
      ],
      "execution_count": 2,
      "outputs": [
        {
          "output_type": "stream",
          "text": [
            "--2020-03-11 12:59:53--  http://storage.googleapis.com/laurencemoroney-blog.appspot.com/sarcasm.json\n",
            "Resolving storage.googleapis.com (storage.googleapis.com)... 108.177.125.128, 2404:6800:4008:c01::80\n",
            "Connecting to storage.googleapis.com (storage.googleapis.com)|108.177.125.128|:80... connected.\n",
            "HTTP request sent, awaiting response... 200 OK\n",
            "Length: 5643545 (5.4M) [application/json]\n",
            "Saving to: ‘sarcasm.json’\n",
            "\n",
            "\rsarcasm.json          0%[                    ]       0  --.-KB/s               \rsarcasm.json         74%[=============>      ]   4.01M  15.1MB/s               \rsarcasm.json        100%[===================>]   5.38M  19.6MB/s    in 0.3s    \n",
            "\n",
            "2020-03-11 12:59:54 (19.6 MB/s) - ‘sarcasm.json’ saved [5643545/5643545]\n",
            "\n",
            "/tmp/sarcasm.json: Scheme missing.\n",
            "FINISHED --2020-03-11 12:59:54--\n",
            "Total wall clock time: 0.7s\n",
            "Downloaded: 1 files, 5.4M in 0.3s (19.6 MB/s)\n"
          ],
          "name": "stdout"
        }
      ]
    },
    {
      "cell_type": "code",
      "metadata": {
        "id": "w7vHetz4ZoJU",
        "colab_type": "code",
        "colab": {}
      },
      "source": [
        "# load data\n",
        "\n",
        "urls, headers, targets = [], [], []\n",
        "with open('sarcasm.json', 'r') as jsonfile:\n",
        "    js_reader = json.load(jsonfile)\n",
        "    for rows in js_reader:\n",
        "        urls.append(rows['article_link'])\n",
        "        headers.append(rows['headline'])\n",
        "        targets.append(rows['is_sarcastic'])"
      ],
      "execution_count": 0,
      "outputs": []
    },
    {
      "cell_type": "code",
      "metadata": {
        "id": "Nc-9rWK9XoVX",
        "colab_type": "code",
        "colab": {}
      },
      "source": [
        "# set up hyperparamters\n",
        "vec_size = 1000\n",
        "embedding_dim = 16\n",
        "seq_len = 32\n",
        "oov_word = '<OOV>'\n",
        "training_rate = 0.7"
      ],
      "execution_count": 0,
      "outputs": []
    },
    {
      "cell_type": "code",
      "metadata": {
        "id": "4371mx82cIbj",
        "colab_type": "code",
        "colab": {}
      },
      "source": [
        "# build a token\n",
        "tokenizer = Tokenizer(num_words=vec_size, oov_token=oov_word)"
      ],
      "execution_count": 0,
      "outputs": []
    },
    {
      "cell_type": "code",
      "metadata": {
        "id": "_6hL2SUQcvaY",
        "colab_type": "code",
        "colab": {}
      },
      "source": [
        "# fit a tokenizer\n",
        "tokenizer.fit_on_texts(headers)\n",
        "word_index = tokenizer.word_index"
      ],
      "execution_count": 0,
      "outputs": []
    },
    {
      "cell_type": "code",
      "metadata": {
        "id": "rpNQGhbQcaay",
        "colab_type": "code",
        "colab": {
          "base_uri": "https://localhost:8080/",
          "height": 68
        },
        "outputId": "f5e2c9e5-0e7b-4130-ada9-7ec1f6739848"
      },
      "source": [
        "# get sequences\n",
        "sequences = tokenizer.texts_to_sequences(headers)\n",
        "padded = pad_sequences(sequences, maxlen=seq_len, padding='post', truncating='post')\n",
        "padded[0]"
      ],
      "execution_count": 7,
      "outputs": [
        {
          "output_type": "execute_result",
          "data": {
            "text/plain": [
              "array([308,   1, 679,   1,   1,  48, 382,   1,   1,   6,   1,   1,   0,\n",
              "         0,   0,   0,   0,   0,   0,   0,   0,   0,   0,   0,   0,   0,\n",
              "         0,   0,   0,   0,   0,   0], dtype=int32)"
            ]
          },
          "metadata": {
            "tags": []
          },
          "execution_count": 7
        }
      ]
    },
    {
      "cell_type": "code",
      "metadata": {
        "id": "rrz7Fvx1gDE-",
        "colab_type": "code",
        "colab": {}
      },
      "source": [
        "# split training and testing dataset\n",
        "import numpy as np\n",
        "\n",
        "sampler = np.random.uniform(size=len(padded))\n",
        "X_train, y_train = padded[sampler < training_rate], np.array(targets)[sampler < training_rate]\n",
        "X_test, y_test = padded[sampler > training_rate], np.array(targets)[sampler > training_rate]"
      ],
      "execution_count": 0,
      "outputs": []
    },
    {
      "cell_type": "code",
      "metadata": {
        "id": "mdUsJnOUgsF0",
        "colab_type": "code",
        "colab": {
          "base_uri": "https://localhost:8080/",
          "height": 51
        },
        "outputId": "49c0df0a-3cec-4bc3-a620-067f23c67f60"
      },
      "source": [
        "# create a function for inverse the tokenizer\n",
        "inverse_index = {value: key for key, value in word_index.items()}\n",
        "\n",
        "def inverse_token(tokenized):\n",
        "    return inverse_index.get(tokenized, '?')\n",
        "\n",
        "def inverse_sequence(sequences):\n",
        "    return ' '.join([inverse_token(i) for i in sequences])\n",
        "\n",
        "print(sequences[0])\n",
        "print(inverse_sequence(sequences[0]))"
      ],
      "execution_count": 9,
      "outputs": [
        {
          "output_type": "stream",
          "text": [
            "[308, 1, 679, 1, 1, 48, 382, 1, 1, 6, 1, 1]\n",
            "former <OOV> store <OOV> <OOV> over secret <OOV> <OOV> for <OOV> <OOV>\n"
          ],
          "name": "stdout"
        }
      ]
    },
    {
      "cell_type": "code",
      "metadata": {
        "id": "8KEtJOCmleoX",
        "colab_type": "code",
        "colab": {}
      },
      "source": [
        "import tensorflow as tf"
      ],
      "execution_count": 0,
      "outputs": []
    },
    {
      "cell_type": "code",
      "metadata": {
        "id": "WrWKWf4Vlf-E",
        "colab_type": "code",
        "colab": {
          "base_uri": "https://localhost:8080/",
          "height": 190
        },
        "outputId": "0bc6df2b-1f9c-4cc4-c057-626e9d74454a"
      },
      "source": [
        "model = tf.keras.Sequential([\n",
        "    tf.keras.layers.Embedding(input_dim=vec_size, output_dim=embedding_dim, input_length=seq_len),\n",
        "    tf.keras.layers.GlobalMaxPooling1D(),\n",
        "    tf.keras.layers.BatchNormalization(),\n",
        "    tf.keras.layers.Dropout(0.2),\n",
        "    tf.keras.layers.Dense(24, activation='relu'),\n",
        "    tf.keras.layers.Dense(1, activation='sigmoid')\n",
        "])\n",
        "\n",
        "model.compile(loss='binary_crossentropy', optimizer='adam', metrics=['accuracy'])"
      ],
      "execution_count": 11,
      "outputs": [
        {
          "output_type": "stream",
          "text": [
            "WARNING:tensorflow:From /usr/local/lib/python3.6/dist-packages/tensorflow_core/python/keras/initializers.py:119: calling RandomUniform.__init__ (from tensorflow.python.ops.init_ops) with dtype is deprecated and will be removed in a future version.\n",
            "Instructions for updating:\n",
            "Call initializer instance with the dtype argument instead of passing it to the constructor\n",
            "WARNING:tensorflow:From /usr/local/lib/python3.6/dist-packages/tensorflow_core/python/ops/resource_variable_ops.py:1630: calling BaseResourceVariable.__init__ (from tensorflow.python.ops.resource_variable_ops) with constraint is deprecated and will be removed in a future version.\n",
            "Instructions for updating:\n",
            "If using Keras pass *_constraint arguments to layers.\n",
            "WARNING:tensorflow:From /usr/local/lib/python3.6/dist-packages/tensorflow_core/python/ops/nn_impl.py:183: where (from tensorflow.python.ops.array_ops) is deprecated and will be removed in a future version.\n",
            "Instructions for updating:\n",
            "Use tf.where in 2.0, which has the same broadcast rule as np.where\n"
          ],
          "name": "stdout"
        }
      ]
    },
    {
      "cell_type": "code",
      "metadata": {
        "id": "IKivKNhknBMp",
        "colab_type": "code",
        "colab": {
          "base_uri": "https://localhost:8080/",
          "height": 357
        },
        "outputId": "1425b2f0-c09e-47fc-9e53-5cf53da4f0a6"
      },
      "source": [
        "model.summary()"
      ],
      "execution_count": 12,
      "outputs": [
        {
          "output_type": "stream",
          "text": [
            "Model: \"sequential\"\n",
            "_________________________________________________________________\n",
            "Layer (type)                 Output Shape              Param #   \n",
            "=================================================================\n",
            "embedding (Embedding)        (None, 32, 16)            16000     \n",
            "_________________________________________________________________\n",
            "global_max_pooling1d (Global (None, 16)                0         \n",
            "_________________________________________________________________\n",
            "batch_normalization (BatchNo (None, 16)                64        \n",
            "_________________________________________________________________\n",
            "dropout (Dropout)            (None, 16)                0         \n",
            "_________________________________________________________________\n",
            "dense (Dense)                (None, 24)                408       \n",
            "_________________________________________________________________\n",
            "dense_1 (Dense)              (None, 1)                 25        \n",
            "=================================================================\n",
            "Total params: 16,497\n",
            "Trainable params: 16,465\n",
            "Non-trainable params: 32\n",
            "_________________________________________________________________\n"
          ],
          "name": "stdout"
        }
      ]
    },
    {
      "cell_type": "code",
      "metadata": {
        "id": "WUiUJfOCnHNx",
        "colab_type": "code",
        "colab": {
          "base_uri": "https://localhost:8080/",
          "height": 1000
        },
        "outputId": "528ac5a6-f1cb-4a84-8d97-42c5ca1338ae"
      },
      "source": [
        "fit_history = model.fit(x=X_train, y=y_train, batch_size=40, epochs=50,\n",
        "                        validation_data=(X_test, y_test))"
      ],
      "execution_count": 14,
      "outputs": [
        {
          "output_type": "stream",
          "text": [
            "Train on 18655 samples, validate on 8054 samples\n",
            "Epoch 1/50\n",
            "18655/18655 [==============================] - 3s 177us/sample - loss: 0.5563 - acc: 0.7003 - val_loss: 0.5284 - val_acc: 0.7640\n",
            "Epoch 2/50\n",
            "18655/18655 [==============================] - 3s 160us/sample - loss: 0.4797 - acc: 0.7671 - val_loss: 0.4490 - val_acc: 0.7837\n",
            "Epoch 3/50\n",
            "18655/18655 [==============================] - 3s 157us/sample - loss: 0.4480 - acc: 0.7846 - val_loss: 0.4283 - val_acc: 0.8012\n",
            "Epoch 4/50\n",
            "18655/18655 [==============================] - 3s 160us/sample - loss: 0.4271 - acc: 0.8026 - val_loss: 0.4250 - val_acc: 0.8013\n",
            "Epoch 5/50\n",
            "18655/18655 [==============================] - 3s 159us/sample - loss: 0.4192 - acc: 0.8009 - val_loss: 0.4219 - val_acc: 0.8006\n",
            "Epoch 6/50\n",
            "18655/18655 [==============================] - 3s 160us/sample - loss: 0.4132 - acc: 0.8078 - val_loss: 0.4194 - val_acc: 0.8042\n",
            "Epoch 7/50\n",
            "18655/18655 [==============================] - 3s 161us/sample - loss: 0.4045 - acc: 0.8149 - val_loss: 0.4113 - val_acc: 0.8107\n",
            "Epoch 8/50\n",
            "18655/18655 [==============================] - 3s 162us/sample - loss: 0.3974 - acc: 0.8167 - val_loss: 0.4101 - val_acc: 0.8083\n",
            "Epoch 9/50\n",
            "18655/18655 [==============================] - 3s 160us/sample - loss: 0.3953 - acc: 0.8212 - val_loss: 0.4102 - val_acc: 0.8090\n",
            "Epoch 10/50\n",
            "18655/18655 [==============================] - 3s 160us/sample - loss: 0.3883 - acc: 0.8232 - val_loss: 0.4103 - val_acc: 0.8073\n",
            "Epoch 11/50\n",
            "18655/18655 [==============================] - 3s 158us/sample - loss: 0.3823 - acc: 0.8279 - val_loss: 0.4102 - val_acc: 0.8135\n",
            "Epoch 12/50\n",
            "18655/18655 [==============================] - 3s 158us/sample - loss: 0.3812 - acc: 0.8294 - val_loss: 0.4063 - val_acc: 0.8116\n",
            "Epoch 13/50\n",
            "18655/18655 [==============================] - 3s 157us/sample - loss: 0.3759 - acc: 0.8285 - val_loss: 0.4053 - val_acc: 0.8155\n",
            "Epoch 14/50\n",
            "18655/18655 [==============================] - 3s 156us/sample - loss: 0.3714 - acc: 0.8345 - val_loss: 0.4085 - val_acc: 0.8123\n",
            "Epoch 15/50\n",
            "18655/18655 [==============================] - 3s 159us/sample - loss: 0.3686 - acc: 0.8346 - val_loss: 0.4069 - val_acc: 0.8124\n",
            "Epoch 16/50\n",
            "18655/18655 [==============================] - 3s 157us/sample - loss: 0.3653 - acc: 0.8402 - val_loss: 0.4116 - val_acc: 0.8114\n",
            "Epoch 17/50\n",
            "18655/18655 [==============================] - 3s 158us/sample - loss: 0.3576 - acc: 0.8401 - val_loss: 0.4108 - val_acc: 0.8113\n",
            "Epoch 18/50\n",
            "18655/18655 [==============================] - 3s 165us/sample - loss: 0.3529 - acc: 0.8436 - val_loss: 0.4139 - val_acc: 0.8110\n",
            "Epoch 19/50\n",
            "18655/18655 [==============================] - 3s 158us/sample - loss: 0.3524 - acc: 0.8457 - val_loss: 0.4115 - val_acc: 0.8121\n",
            "Epoch 20/50\n",
            "18655/18655 [==============================] - 3s 159us/sample - loss: 0.3462 - acc: 0.8483 - val_loss: 0.4160 - val_acc: 0.8133\n",
            "Epoch 21/50\n",
            "18655/18655 [==============================] - 3s 162us/sample - loss: 0.3474 - acc: 0.8460 - val_loss: 0.4175 - val_acc: 0.8104\n",
            "Epoch 22/50\n",
            "18655/18655 [==============================] - 3s 158us/sample - loss: 0.3420 - acc: 0.8486 - val_loss: 0.4172 - val_acc: 0.8118\n",
            "Epoch 23/50\n",
            "18655/18655 [==============================] - 3s 156us/sample - loss: 0.3432 - acc: 0.8507 - val_loss: 0.4165 - val_acc: 0.8143\n",
            "Epoch 24/50\n",
            "18655/18655 [==============================] - 3s 157us/sample - loss: 0.3371 - acc: 0.8534 - val_loss: 0.4200 - val_acc: 0.8056\n",
            "Epoch 25/50\n",
            "18655/18655 [==============================] - 3s 155us/sample - loss: 0.3397 - acc: 0.8502 - val_loss: 0.4216 - val_acc: 0.8108\n",
            "Epoch 26/50\n",
            "18655/18655 [==============================] - 3s 158us/sample - loss: 0.3325 - acc: 0.8550 - val_loss: 0.4185 - val_acc: 0.8097\n",
            "Epoch 27/50\n",
            "18655/18655 [==============================] - 3s 157us/sample - loss: 0.3267 - acc: 0.8582 - val_loss: 0.4292 - val_acc: 0.8074\n",
            "Epoch 28/50\n",
            "18655/18655 [==============================] - 3s 157us/sample - loss: 0.3281 - acc: 0.8554 - val_loss: 0.4218 - val_acc: 0.8079\n",
            "Epoch 29/50\n",
            "18655/18655 [==============================] - 3s 160us/sample - loss: 0.3246 - acc: 0.8609 - val_loss: 0.4277 - val_acc: 0.8095\n",
            "Epoch 30/50\n",
            "18655/18655 [==============================] - 3s 155us/sample - loss: 0.3200 - acc: 0.8615 - val_loss: 0.4313 - val_acc: 0.8026\n",
            "Epoch 31/50\n",
            "18655/18655 [==============================] - 3s 156us/sample - loss: 0.3189 - acc: 0.8622 - val_loss: 0.4335 - val_acc: 0.8094\n",
            "Epoch 32/50\n",
            "18655/18655 [==============================] - 3s 159us/sample - loss: 0.3178 - acc: 0.8613 - val_loss: 0.4334 - val_acc: 0.8114\n",
            "Epoch 33/50\n",
            "18655/18655 [==============================] - 3s 156us/sample - loss: 0.3137 - acc: 0.8649 - val_loss: 0.4414 - val_acc: 0.8043\n",
            "Epoch 34/50\n",
            "18655/18655 [==============================] - 3s 159us/sample - loss: 0.3121 - acc: 0.8638 - val_loss: 0.4402 - val_acc: 0.8052\n",
            "Epoch 35/50\n",
            "18655/18655 [==============================] - 3s 158us/sample - loss: 0.3143 - acc: 0.8654 - val_loss: 0.4401 - val_acc: 0.8020\n",
            "Epoch 36/50\n",
            "18655/18655 [==============================] - 3s 159us/sample - loss: 0.3061 - acc: 0.8687 - val_loss: 0.4436 - val_acc: 0.8037\n",
            "Epoch 37/50\n",
            "18655/18655 [==============================] - 3s 158us/sample - loss: 0.3124 - acc: 0.8665 - val_loss: 0.4443 - val_acc: 0.8022\n",
            "Epoch 38/50\n",
            "18655/18655 [==============================] - 3s 158us/sample - loss: 0.3065 - acc: 0.8674 - val_loss: 0.4425 - val_acc: 0.8054\n",
            "Epoch 39/50\n",
            "18655/18655 [==============================] - 3s 155us/sample - loss: 0.3062 - acc: 0.8697 - val_loss: 0.4424 - val_acc: 0.8036\n",
            "Epoch 40/50\n",
            "18655/18655 [==============================] - 3s 159us/sample - loss: 0.3002 - acc: 0.8686 - val_loss: 0.4484 - val_acc: 0.8027\n",
            "Epoch 41/50\n",
            "18655/18655 [==============================] - 3s 159us/sample - loss: 0.3029 - acc: 0.8704 - val_loss: 0.4472 - val_acc: 0.7990\n",
            "Epoch 42/50\n",
            "18655/18655 [==============================] - 3s 159us/sample - loss: 0.3037 - acc: 0.8686 - val_loss: 0.4506 - val_acc: 0.7992\n",
            "Epoch 43/50\n",
            "18655/18655 [==============================] - 3s 155us/sample - loss: 0.2987 - acc: 0.8710 - val_loss: 0.4479 - val_acc: 0.8015\n",
            "Epoch 44/50\n",
            "18655/18655 [==============================] - 3s 158us/sample - loss: 0.2967 - acc: 0.8740 - val_loss: 0.4528 - val_acc: 0.7972\n",
            "Epoch 45/50\n",
            "18655/18655 [==============================] - 3s 155us/sample - loss: 0.2968 - acc: 0.8717 - val_loss: 0.4529 - val_acc: 0.7996\n",
            "Epoch 46/50\n",
            "18655/18655 [==============================] - 3s 154us/sample - loss: 0.2980 - acc: 0.8716 - val_loss: 0.4574 - val_acc: 0.7995\n",
            "Epoch 47/50\n",
            "18655/18655 [==============================] - 3s 159us/sample - loss: 0.2930 - acc: 0.8730 - val_loss: 0.4563 - val_acc: 0.8042\n",
            "Epoch 48/50\n",
            "18655/18655 [==============================] - 3s 156us/sample - loss: 0.2957 - acc: 0.8747 - val_loss: 0.4570 - val_acc: 0.8008\n",
            "Epoch 49/50\n",
            "18655/18655 [==============================] - 3s 159us/sample - loss: 0.2929 - acc: 0.8736 - val_loss: 0.4624 - val_acc: 0.8005\n",
            "Epoch 50/50\n",
            "18655/18655 [==============================] - 3s 158us/sample - loss: 0.2868 - acc: 0.8794 - val_loss: 0.4678 - val_acc: 0.7986\n"
          ],
          "name": "stdout"
        }
      ]
    },
    {
      "cell_type": "code",
      "metadata": {
        "id": "ELCBeLDGsvik",
        "colab_type": "code",
        "colab": {
          "base_uri": "https://localhost:8080/",
          "height": 541
        },
        "outputId": "5627a67e-f58b-46a3-8f93-f8c6cde266f6"
      },
      "source": [
        "import matplotlib.pyplot as plt\n",
        "\n",
        "def plot_fit_hist(fit_history, name_space):\n",
        "    plt.plot(fit_history.history[name_space])\n",
        "    plt.plot(fit_history.history['val_'+name_space])\n",
        "    plt.xlabel('Epochs')\n",
        "    plt.ylabel(name_space)\n",
        "    plt.legend([name_space, 'val_'+name_space])\n",
        "    plt.show()\n",
        "\n",
        "plot_fit_hist(fit_history, 'acc')\n",
        "plot_fit_hist(fit_history, 'loss')"
      ],
      "execution_count": 16,
      "outputs": [
        {
          "output_type": "display_data",
          "data": {
            "image/png": "[encoded data removed]",
            "text/plain": [
              "<Figure size 432x288 with 1 Axes>"
            ]
          },
          "metadata": {
            "tags": []
          }
        },
        {
          "output_type": "display_data",
          "data": {
            "image/png": "[encoded data removed]",
            "text/plain": [
              "<Figure size 432x288 with 1 Axes>"
            ]
          },
          "metadata": {
            "tags": []
          }
        }
      ]
    },
    {
      "cell_type": "code",
      "metadata": {
        "id": "yUJMS9aHnl3t",
        "colab_type": "code",
        "colab": {}
      },
      "source": [
        "embedding_lyr = model.layers[0]"
      ],
      "execution_count": 0,
      "outputs": []
    },
    {
      "cell_type": "code",
      "metadata": {
        "id": "LRQNx0ScrXod",
        "colab_type": "code",
        "colab": {
          "base_uri": "https://localhost:8080/",
          "height": 34
        },
        "outputId": "3f060101-2ef2-434e-abb4-a0323decdc77"
      },
      "source": [
        "embedding_w = embedding_lyr.get_weights()[0]\n",
        "embedding_w.shape"
      ],
      "execution_count": 48,
      "outputs": [
        {
          "output_type": "execute_result",
          "data": {
            "text/plain": [
              "(10000, 16)"
            ]
          },
          "metadata": {
            "tags": []
          },
          "execution_count": 48
        }
      ]
    },
    {
      "cell_type": "code",
      "metadata": {
        "id": "1QOOBDn3rpFz",
        "colab_type": "code",
        "colab": {}
      },
      "source": [
        "# get embedding vectors\n",
        "import io\n",
        "\n",
        "out_v = io.open('vecs.tsv', 'w', encoding='utf-8')\n",
        "out_m = io.open('meta.tsv', 'w', encoding='utf-8')\n",
        "for word_num in range(1, vec_size):\n",
        "  word = inverse_token(word_num)\n",
        "  embeddings = embedding_w[word_num]\n",
        "  out_m.write(word + \"\\n\")\n",
        "  out_v.write('\\t'.join([str(x) for x in embeddings]) + \"\\n\")\n",
        "out_v.close()\n",
        "out_m.close()"
      ],
      "execution_count": 0,
      "outputs": []
    },
    {
      "cell_type": "code",
      "metadata": {
        "id": "bfATz-V3r06S",
        "colab_type": "code",
        "colab": {}
      },
      "source": [
        "# download\n",
        "try:\n",
        "  from google.colab import files\n",
        "except ImportError:\n",
        "  pass\n",
        "else:\n",
        "  files.download('vecs.tsv')\n",
        "  files.download('meta.tsv')"
      ],
      "execution_count": 0,
      "outputs": []
    },
    {
      "cell_type": "code",
      "metadata": {
        "id": "d0qCsfxftFFp",
        "colab_type": "code",
        "colab": {}
      },
      "source": [
        ""
      ],
      "execution_count": 0,
      "outputs": []
    }
  ]
}