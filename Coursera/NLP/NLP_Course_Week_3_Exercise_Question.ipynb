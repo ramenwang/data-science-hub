{
  "nbformat": 4,
  "nbformat_minor": 0,
  "metadata": {
    "colab": {
      "name": "NLP Course - Week 3 Exercise Question.ipynb",
      "provenance": []
    },
    "kernelspec": {
      "name": "python3",
      "display_name": "Python 3"
    },
    "accelerator": "GPU"
  },
  "cells": [
    {
      "cell_type": "code",
      "metadata": {
        "id": "hmA6EzkQJ5jt",
        "colab_type": "code",
        "colab": {
          "base_uri": "https://localhost:8080/",
          "height": 63
        },
        "outputId": "3f107e74-acba-49a6-bf7b-284696766f65"
      },
      "source": [
        "import json\n",
        "import tensorflow as tf\n",
        "import csv\n",
        "import random\n",
        "import numpy as np\n",
        "\n",
        "from tensorflow.keras.preprocessing.text import Tokenizer\n",
        "from tensorflow.keras.preprocessing.sequence import pad_sequences\n",
        "from tensorflow.keras.utils import to_categorical\n",
        "from tensorflow.keras import regularizers\n",
        "\n",
        "\n",
        "embedding_dim = 100\n",
        "max_length = 16\n",
        "trunc_type='post'\n",
        "padding_type='post'\n",
        "oov_tok = \"<OOV>\"\n",
        "training_size=16000 #Your dataset size here. Experiment using smaller values (i.e. 16000), but don't forget to train on at least 160000 to see the best effects\n",
        "test_portion=.1\n",
        "\n",
        "corpus = []\n"
      ],
      "execution_count": 1,
      "outputs": [
        {
          "output_type": "display_data",
          "data": {
            "text/html": [
              "<p style=\"color: red;\">\n",
              "The default version of TensorFlow in Colab will soon switch to TensorFlow 2.x.<br>\n",
              "We recommend you <a href=\"https://www.tensorflow.org/guide/migrate\" target=\"_blank\">upgrade</a> now \n",
              "or ensure your notebook will continue to use TensorFlow 1.x via the <code>%tensorflow_version 1.x</code> magic:\n",
              "<a href=\"https://colab.research.google.com/notebooks/tensorflow_version.ipynb\" target=\"_blank\">more info</a>.</p>\n"
            ],
            "text/plain": [
              "<IPython.core.display.HTML object>"
            ]
          },
          "metadata": {
            "tags": []
          }
        }
      ]
    },
    {
      "cell_type": "code",
      "metadata": {
        "colab_type": "code",
        "outputId": "77b68972-6c74-4db3-f8d4-d9f9d35d5511",
        "id": "lmO5RzVi2K4O",
        "colab": {
          "base_uri": "https://localhost:8080/",
          "height": 204
        }
      },
      "source": [
        "# Note that I cleaned the Stanford dataset to remove LATIN1 encoding to make it easier for Python CSV reader\n",
        "# You can do that yourself with:\n",
        "# iconv -f LATIN1 -t UTF8 training.1600000.processed.noemoticon.csv -o training_cleaned.csv\n",
        "# I then hosted it on my site to make it easier to use in this notebook\n",
        "\n",
        "!wget --no-check-certificate \\\n",
        "    https://storage.googleapis.com/laurencemoroney-blog.appspot.com/training_cleaned.csv \\\n",
        "    -O /tmp/training_cleaned.csv\n"
      ],
      "execution_count": 2,
      "outputs": [
        {
          "output_type": "stream",
          "text": [
            "--2020-03-15 21:20:50--  https://storage.googleapis.com/laurencemoroney-blog.appspot.com/training_cleaned.csv\n",
            "Resolving storage.googleapis.com (storage.googleapis.com)... 108.177.127.128, 2a00:1450:4013:c03::80\n",
            "Connecting to storage.googleapis.com (storage.googleapis.com)|108.177.127.128|:443... connected.\n",
            "HTTP request sent, awaiting response... 200 OK\n",
            "Length: 238942690 (228M) [application/octet-stream]\n",
            "Saving to: ‘/tmp/training_cleaned.csv’\n",
            "\n",
            "/tmp/training_clean 100%[===================>] 227.87M  70.6MB/s    in 3.2s    \n",
            "\n",
            "2020-03-15 21:20:55 (70.6 MB/s) - ‘/tmp/training_cleaned.csv’ saved [238942690/238942690]\n",
            "\n"
          ],
          "name": "stdout"
        }
      ]
    },
    {
      "cell_type": "code",
      "metadata": {
        "id": "MpN5xSRM2PRL",
        "colab_type": "code",
        "colab": {}
      },
      "source": [
        "num_sentences = 0\n",
        "corpus = []\n",
        "\n",
        "with open(\"/tmp/training_cleaned.csv\") as csvfile:\n",
        "    reader = csv.reader(csvfile, delimiter=',')\n",
        "    for row in reader:\n",
        "      # Your Code here. Create list items where the first item is the text, found in row[5], and the second is the label. Note that the label is a '0' or a '4' in the text. When it's the former, make\n",
        "      # your label to be 0, otherwise 1. Keep a count of the number of sentences in num_sentences\n",
        "        list_item=[]\n",
        "        # YOUR CODE HERE\n",
        "        num_sentences = num_sentences + 1\n",
        "        ilabel = 0 if row[0] == '0' else 1\n",
        "        list_item=[row[5], ilabel]\n",
        "        corpus.append(list_item)"
      ],
      "execution_count": 0,
      "outputs": []
    },
    {
      "cell_type": "code",
      "metadata": {
        "id": "3kxblBUjEUX-",
        "colab_type": "code",
        "outputId": "3b6890f4-1f51-4546-ec8b-c580018ee349",
        "colab": {
          "base_uri": "https://localhost:8080/",
          "height": 68
        }
      },
      "source": [
        "print(num_sentences)\n",
        "print(len(corpus))\n",
        "print(corpus[1])\n",
        "\n",
        "# Expected Output:\n",
        "# 1600000\n",
        "# 1600000\n",
        "# [\"is upset that he can't update his Facebook by texting it... and might cry as a result  School today also. Blah!\", 0]"
      ],
      "execution_count": 4,
      "outputs": [
        {
          "output_type": "stream",
          "text": [
            "1600000\n",
            "1600000\n",
            "[\"is upset that he can't update his Facebook by texting it... and might cry as a result  School today also. Blah!\", 0]\n"
          ],
          "name": "stdout"
        }
      ]
    },
    {
      "cell_type": "code",
      "metadata": {
        "id": "ohOGz24lsNAD",
        "colab_type": "code",
        "colab": {
          "base_uri": "https://localhost:8080/",
          "height": 34
        },
        "outputId": "d5ed4375-8b53-40b5-94c4-ad13d0da3f68"
      },
      "source": [
        "sentences=[]\n",
        "labels=[]\n",
        "random.shuffle(corpus)\n",
        "for x in range(training_size):\n",
        "    sentences.append(corpus[x][0])\n",
        "    labels.append(corpus[x][1])\n",
        "\n",
        "print(sentences[0])\n",
        "\n",
        "\n",
        "tokenizer = Tokenizer()\n",
        "tokenizer.fit_on_texts(sentences)\n",
        "\n",
        "word_index = tokenizer.word_index\n",
        "vocab_size=len(word_index)\n",
        "\n",
        "sequences = tokenizer.texts_to_sequences(sentences)\n",
        "padded = pad_sequences(sequences, padding=padding_type, truncating=trunc_type, maxlen=max_length)\n",
        "\n",
        "split = int(test_portion * training_size)\n",
        "\n",
        "test_sequences = padded[:split]\n",
        "training_sequences = padded[split:]\n",
        "test_labels = labels[:split]\n",
        "training_labels = labels[split:]"
      ],
      "execution_count": 15,
      "outputs": [
        {
          "output_type": "stream",
          "text": [
            "taking my sick kitty to the vet today \n"
          ],
          "name": "stdout"
        }
      ]
    },
    {
      "cell_type": "code",
      "metadata": {
        "id": "gIrtRem1En3N",
        "colab_type": "code",
        "outputId": "c5ab9273-9ebd-4765-eb8a-ff5a599edeca",
        "colab": {
          "base_uri": "https://localhost:8080/",
          "height": 51
        }
      },
      "source": [
        "print(vocab_size)\n",
        "print(word_index['i'])\n",
        "# Expected Output\n",
        "# 138858\n",
        "# 1"
      ],
      "execution_count": 16,
      "outputs": [
        {
          "output_type": "stream",
          "text": [
            "26586\n",
            "1\n"
          ],
          "name": "stdout"
        }
      ]
    },
    {
      "cell_type": "code",
      "metadata": {
        "id": "C1zdgJkusRh0",
        "colab_type": "code",
        "outputId": "782798bd-56aa-4b54-b322-686a549c6978",
        "colab": {
          "base_uri": "https://localhost:8080/",
          "height": 204
        }
      },
      "source": [
        "# Note this is the 100 dimension version of GloVe from Stanford\n",
        "# I unzipped and hosted it on my site to make this notebook easier\n",
        "!wget --no-check-certificate \\\n",
        "    https://storage.googleapis.com/laurencemoroney-blog.appspot.com/glove.6B.100d.txt \\\n",
        "    -O /tmp/glove.6B.100d.txt\n",
        "embeddings_index = {};\n",
        "with open('/tmp/glove.6B.100d.txt') as f:\n",
        "    for line in f:\n",
        "        values = line.split();\n",
        "        word = values[0];\n",
        "        coefs = np.asarray(values[1:], dtype='float32');\n",
        "        embeddings_index[word] = coefs;\n"
      ],
      "execution_count": 11,
      "outputs": [
        {
          "output_type": "stream",
          "text": [
            "--2020-03-15 21:26:38--  https://storage.googleapis.com/laurencemoroney-blog.appspot.com/glove.6B.100d.txt\n",
            "Resolving storage.googleapis.com (storage.googleapis.com)... 173.194.79.128, 2a00:1450:4013:c07::80\n",
            "Connecting to storage.googleapis.com (storage.googleapis.com)|173.194.79.128|:443... connected.\n",
            "HTTP request sent, awaiting response... 200 OK\n",
            "Length: 347116733 (331M) [text/plain]\n",
            "Saving to: ‘/tmp/glove.6B.100d.txt’\n",
            "\n",
            "/tmp/glove.6B.100d. 100%[===================>] 331.04M  64.4MB/s    in 5.1s    \n",
            "\n",
            "2020-03-15 21:26:43 (64.4 MB/s) - ‘/tmp/glove.6B.100d.txt’ saved [347116733/347116733]\n",
            "\n"
          ],
          "name": "stdout"
        }
      ]
    },
    {
      "cell_type": "code",
      "metadata": {
        "id": "DKQkZpSEJMB7",
        "colab_type": "code",
        "colab": {}
      },
      "source": [
        "embeddings_matrix = np.zeros((vocab_size+1, embedding_dim));\n",
        "for word, i in word_index.items():\n",
        "    embedding_vector = embeddings_index.get(word);\n",
        "    if embedding_vector is not None:\n",
        "        embeddings_matrix[i] = embedding_vector;"
      ],
      "execution_count": 0,
      "outputs": []
    },
    {
      "cell_type": "code",
      "metadata": {
        "id": "71NLk_lpFLNt",
        "colab_type": "code",
        "outputId": "7e7c8917-3bce-4cda-dc8b-c4c99457d316",
        "colab": {
          "base_uri": "https://localhost:8080/",
          "height": 34
        }
      },
      "source": [
        "print(len(embeddings_matrix))\n",
        "# Expected Output\n",
        "# 138859"
      ],
      "execution_count": 18,
      "outputs": [
        {
          "output_type": "stream",
          "text": [
            "26587\n"
          ],
          "name": "stdout"
        }
      ]
    },
    {
      "cell_type": "code",
      "metadata": {
        "colab_type": "code",
        "id": "iKKvbuEBOGFz",
        "colab": {
          "base_uri": "https://localhost:8080/",
          "height": 1000
        },
        "outputId": "1b1a4677-d500-462c-c81f-ff284adb8c20"
      },
      "source": [
        "model = tf.keras.Sequential([\n",
        "    tf.keras.layers.Embedding(vocab_size+1, embedding_dim, input_length=max_length, weights=[embeddings_matrix], trainable=False),\n",
        "    # YOUR CODE HERE - experiment with combining different types, such as convolutions and LSTMs\n",
        "    tf.keras.layers.Bidirectional(tf.keras.layers.LSTM(24, dropout=0.2)),\n",
        "    tf.keras.layers.Dense(16, activation='relu'),\n",
        "    tf.keras.layers.Dense(1, activation='sigmoid')\n",
        "])\n",
        "model.compile(loss='binary_crossentropy', optimizer='adam', metrics=['accuracy'])\n",
        "model.summary()\n",
        "\n",
        "num_epochs = 50\n",
        "history = model.fit(training_sequences, training_labels, epochs=num_epochs, \n",
        "                    validation_data=(test_sequences, test_labels), verbose=2)\n",
        "\n",
        "print(\"Training Complete\")\n"
      ],
      "execution_count": 21,
      "outputs": [
        {
          "output_type": "stream",
          "text": [
            "Model: \"sequential_3\"\n",
            "_________________________________________________________________\n",
            "Layer (type)                 Output Shape              Param #   \n",
            "=================================================================\n",
            "embedding_4 (Embedding)      (None, 16, 100)           2658700   \n",
            "_________________________________________________________________\n",
            "bidirectional_8 (Bidirection (None, 48)                24000     \n",
            "_________________________________________________________________\n",
            "dense_6 (Dense)              (None, 16)                784       \n",
            "_________________________________________________________________\n",
            "dense_7 (Dense)              (None, 1)                 17        \n",
            "=================================================================\n",
            "Total params: 2,683,501\n",
            "Trainable params: 24,801\n",
            "Non-trainable params: 2,658,700\n",
            "_________________________________________________________________\n",
            "Train on 14400 samples, validate on 1600 samples\n",
            "Epoch 1/50\n",
            "14400/14400 - 20s - loss: 0.6370 - acc: 0.6306 - val_loss: 0.5937 - val_acc: 0.6856\n",
            "Epoch 2/50\n",
            "14400/14400 - 19s - loss: 0.5712 - acc: 0.7019 - val_loss: 0.5438 - val_acc: 0.7362\n",
            "Epoch 3/50\n",
            "14400/14400 - 19s - loss: 0.5478 - acc: 0.7182 - val_loss: 0.5330 - val_acc: 0.7369\n",
            "Epoch 4/50\n",
            "14400/14400 - 19s - loss: 0.5337 - acc: 0.7274 - val_loss: 0.5265 - val_acc: 0.7381\n",
            "Epoch 5/50\n",
            "14400/14400 - 19s - loss: 0.5185 - acc: 0.7385 - val_loss: 0.5317 - val_acc: 0.7325\n",
            "Epoch 6/50\n",
            "14400/14400 - 19s - loss: 0.5100 - acc: 0.7458 - val_loss: 0.5180 - val_acc: 0.7394\n",
            "Epoch 7/50\n",
            "14400/14400 - 19s - loss: 0.4971 - acc: 0.7555 - val_loss: 0.5327 - val_acc: 0.7287\n",
            "Epoch 8/50\n",
            "14400/14400 - 19s - loss: 0.4860 - acc: 0.7618 - val_loss: 0.5180 - val_acc: 0.7406\n",
            "Epoch 9/50\n",
            "14400/14400 - 19s - loss: 0.4754 - acc: 0.7683 - val_loss: 0.5207 - val_acc: 0.7394\n",
            "Epoch 10/50\n",
            "14400/14400 - 18s - loss: 0.4681 - acc: 0.7740 - val_loss: 0.5470 - val_acc: 0.7325\n",
            "Epoch 11/50\n",
            "14400/14400 - 19s - loss: 0.4578 - acc: 0.7793 - val_loss: 0.5226 - val_acc: 0.7456\n",
            "Epoch 12/50\n",
            "14400/14400 - 19s - loss: 0.4511 - acc: 0.7798 - val_loss: 0.5444 - val_acc: 0.7287\n",
            "Epoch 13/50\n",
            "14400/14400 - 19s - loss: 0.4440 - acc: 0.7860 - val_loss: 0.5341 - val_acc: 0.7375\n",
            "Epoch 14/50\n",
            "14400/14400 - 19s - loss: 0.4352 - acc: 0.7943 - val_loss: 0.5254 - val_acc: 0.7469\n",
            "Epoch 15/50\n",
            "14400/14400 - 19s - loss: 0.4278 - acc: 0.7988 - val_loss: 0.5473 - val_acc: 0.7200\n",
            "Epoch 16/50\n",
            "14400/14400 - 19s - loss: 0.4164 - acc: 0.7998 - val_loss: 0.5263 - val_acc: 0.7462\n",
            "Epoch 17/50\n",
            "14400/14400 - 19s - loss: 0.4116 - acc: 0.8035 - val_loss: 0.5549 - val_acc: 0.7444\n",
            "Epoch 18/50\n",
            "14400/14400 - 19s - loss: 0.4030 - acc: 0.8120 - val_loss: 0.5422 - val_acc: 0.7519\n",
            "Epoch 19/50\n",
            "14400/14400 - 19s - loss: 0.3972 - acc: 0.8127 - val_loss: 0.5488 - val_acc: 0.7456\n",
            "Epoch 20/50\n",
            "14400/14400 - 19s - loss: 0.3932 - acc: 0.8164 - val_loss: 0.5413 - val_acc: 0.7450\n",
            "Epoch 21/50\n",
            "14400/14400 - 19s - loss: 0.3824 - acc: 0.8225 - val_loss: 0.5580 - val_acc: 0.7425\n",
            "Epoch 22/50\n",
            "14400/14400 - 19s - loss: 0.3779 - acc: 0.8268 - val_loss: 0.5604 - val_acc: 0.7469\n",
            "Epoch 23/50\n",
            "14400/14400 - 19s - loss: 0.3695 - acc: 0.8296 - val_loss: 0.5830 - val_acc: 0.7450\n",
            "Epoch 24/50\n",
            "14400/14400 - 19s - loss: 0.3673 - acc: 0.8305 - val_loss: 0.5802 - val_acc: 0.7437\n",
            "Epoch 25/50\n",
            "14400/14400 - 19s - loss: 0.3581 - acc: 0.8361 - val_loss: 0.5763 - val_acc: 0.7419\n",
            "Epoch 26/50\n",
            "14400/14400 - 19s - loss: 0.3531 - acc: 0.8383 - val_loss: 0.6246 - val_acc: 0.7369\n",
            "Epoch 27/50\n",
            "14400/14400 - 19s - loss: 0.3463 - acc: 0.8431 - val_loss: 0.6178 - val_acc: 0.7412\n",
            "Epoch 28/50\n",
            "14400/14400 - 19s - loss: 0.3412 - acc: 0.8440 - val_loss: 0.6049 - val_acc: 0.7437\n",
            "Epoch 29/50\n",
            "14400/14400 - 19s - loss: 0.3374 - acc: 0.8498 - val_loss: 0.6192 - val_acc: 0.7356\n",
            "Epoch 30/50\n",
            "14400/14400 - 19s - loss: 0.3316 - acc: 0.8476 - val_loss: 0.6253 - val_acc: 0.7344\n",
            "Epoch 31/50\n",
            "14400/14400 - 19s - loss: 0.3345 - acc: 0.8479 - val_loss: 0.6146 - val_acc: 0.7325\n",
            "Epoch 32/50\n",
            "14400/14400 - 19s - loss: 0.3243 - acc: 0.8515 - val_loss: 0.6113 - val_acc: 0.7337\n",
            "Epoch 33/50\n",
            "14400/14400 - 19s - loss: 0.3215 - acc: 0.8547 - val_loss: 0.6224 - val_acc: 0.7312\n",
            "Epoch 34/50\n",
            "14400/14400 - 19s - loss: 0.3181 - acc: 0.8560 - val_loss: 0.6217 - val_acc: 0.7331\n",
            "Epoch 35/50\n",
            "14400/14400 - 19s - loss: 0.3151 - acc: 0.8604 - val_loss: 0.6154 - val_acc: 0.7275\n",
            "Epoch 36/50\n",
            "14400/14400 - 19s - loss: 0.3120 - acc: 0.8612 - val_loss: 0.6124 - val_acc: 0.7419\n",
            "Epoch 37/50\n",
            "14400/14400 - 19s - loss: 0.3100 - acc: 0.8624 - val_loss: 0.6578 - val_acc: 0.7325\n",
            "Epoch 38/50\n",
            "14400/14400 - 19s - loss: 0.3038 - acc: 0.8662 - val_loss: 0.6633 - val_acc: 0.7350\n",
            "Epoch 39/50\n",
            "14400/14400 - 19s - loss: 0.3014 - acc: 0.8631 - val_loss: 0.6548 - val_acc: 0.7431\n",
            "Epoch 40/50\n",
            "14400/14400 - 19s - loss: 0.2960 - acc: 0.8708 - val_loss: 0.6674 - val_acc: 0.7337\n",
            "Epoch 41/50\n",
            "14400/14400 - 19s - loss: 0.2983 - acc: 0.8662 - val_loss: 0.6552 - val_acc: 0.7250\n",
            "Epoch 42/50\n",
            "14400/14400 - 19s - loss: 0.2949 - acc: 0.8690 - val_loss: 0.6650 - val_acc: 0.7337\n",
            "Epoch 43/50\n",
            "14400/14400 - 19s - loss: 0.2845 - acc: 0.8746 - val_loss: 0.7275 - val_acc: 0.7212\n",
            "Epoch 44/50\n",
            "14400/14400 - 18s - loss: 0.2906 - acc: 0.8694 - val_loss: 0.6803 - val_acc: 0.7344\n",
            "Epoch 45/50\n",
            "14400/14400 - 19s - loss: 0.2802 - acc: 0.8804 - val_loss: 0.7032 - val_acc: 0.7375\n",
            "Epoch 46/50\n",
            "14400/14400 - 19s - loss: 0.2815 - acc: 0.8742 - val_loss: 0.6790 - val_acc: 0.7337\n",
            "Epoch 47/50\n",
            "14400/14400 - 19s - loss: 0.2769 - acc: 0.8778 - val_loss: 0.7032 - val_acc: 0.7319\n",
            "Epoch 48/50\n",
            "14400/14400 - 19s - loss: 0.2718 - acc: 0.8814 - val_loss: 0.7105 - val_acc: 0.7362\n",
            "Epoch 49/50\n",
            "14400/14400 - 19s - loss: 0.2696 - acc: 0.8830 - val_loss: 0.6790 - val_acc: 0.7337\n",
            "Epoch 50/50\n",
            "14400/14400 - 19s - loss: 0.2725 - acc: 0.8822 - val_loss: 0.7060 - val_acc: 0.7319\n",
            "Training Complete\n"
          ],
          "name": "stdout"
        }
      ]
    },
    {
      "cell_type": "code",
      "metadata": {
        "id": "wZ0jSJtDUkOe",
        "colab_type": "code",
        "colab": {
          "base_uri": "https://localhost:8080/",
          "height": 1000
        },
        "outputId": "7ce954c3-7975-4c10-c7a2-bb6da079615b"
      },
      "source": [
        "model = tf.keras.Sequential([\n",
        "    tf.keras.layers.Embedding(vocab_size+1, embedding_dim, input_length=max_length, weights=[embeddings_matrix], trainable=False),\n",
        "    # YOUR CODE HERE - experiment with combining different types, such as convolutions and LSTMs\n",
        "    tf.keras.layers.Conv1D(128, kernel_size=5),\n",
        "    tf.keras.layers.Flatten(),\n",
        "    tf.keras.layers.Dense(16, activation='relu'),\n",
        "    tf.keras.layers.Dense(1, activation='sigmoid')\n",
        "])\n",
        "model.compile(loss='binary_crossentropy', optimizer='adam', metrics=['accuracy'])\n",
        "model.summary()\n",
        "\n",
        "num_epochs = 50\n",
        "history = model.fit(training_sequences, training_labels, epochs=num_epochs, \n",
        "                    validation_data=(test_sequences, test_labels), verbose=2)\n",
        "\n",
        "print(\"Training Complete\")\n"
      ],
      "execution_count": 28,
      "outputs": [
        {
          "output_type": "stream",
          "text": [
            "Model: \"sequential_7\"\n",
            "_________________________________________________________________\n",
            "Layer (type)                 Output Shape              Param #   \n",
            "=================================================================\n",
            "embedding_8 (Embedding)      (None, 16, 100)           2658700   \n",
            "_________________________________________________________________\n",
            "conv1d_3 (Conv1D)            (None, 12, 128)           64128     \n",
            "_________________________________________________________________\n",
            "flatten_1 (Flatten)          (None, 1536)              0         \n",
            "_________________________________________________________________\n",
            "dense_14 (Dense)             (None, 16)                24592     \n",
            "_________________________________________________________________\n",
            "dense_15 (Dense)             (None, 1)                 17        \n",
            "=================================================================\n",
            "Total params: 2,747,437\n",
            "Trainable params: 88,737\n",
            "Non-trainable params: 2,658,700\n",
            "_________________________________________________________________\n",
            "Train on 14400 samples, validate on 1600 samples\n",
            "Epoch 1/50\n",
            "14400/14400 - 6s - loss: 0.6397 - acc: 0.6231 - val_loss: 0.6155 - val_acc: 0.6606\n",
            "Epoch 2/50\n",
            "14400/14400 - 1s - loss: 0.5772 - acc: 0.6894 - val_loss: 0.6039 - val_acc: 0.6888\n",
            "Epoch 3/50\n",
            "14400/14400 - 1s - loss: 0.5463 - acc: 0.7128 - val_loss: 0.6060 - val_acc: 0.6900\n",
            "Epoch 4/50\n",
            "14400/14400 - 1s - loss: 0.5212 - acc: 0.7288 - val_loss: 0.6148 - val_acc: 0.6831\n",
            "Epoch 5/50\n",
            "14400/14400 - 1s - loss: 0.4932 - acc: 0.7480 - val_loss: 0.6437 - val_acc: 0.6681\n",
            "Epoch 6/50\n",
            "14400/14400 - 1s - loss: 0.4605 - acc: 0.7711 - val_loss: 0.6282 - val_acc: 0.6769\n",
            "Epoch 7/50\n",
            "14400/14400 - 1s - loss: 0.4249 - acc: 0.7895 - val_loss: 0.7371 - val_acc: 0.6650\n",
            "Epoch 8/50\n",
            "14400/14400 - 1s - loss: 0.3900 - acc: 0.8108 - val_loss: 0.7135 - val_acc: 0.6519\n",
            "Epoch 9/50\n",
            "14400/14400 - 1s - loss: 0.3595 - acc: 0.8258 - val_loss: 0.7774 - val_acc: 0.6550\n",
            "Epoch 10/50\n",
            "14400/14400 - 1s - loss: 0.3267 - acc: 0.8421 - val_loss: 0.8285 - val_acc: 0.6656\n",
            "Epoch 11/50\n",
            "14400/14400 - 1s - loss: 0.2947 - acc: 0.8586 - val_loss: 0.9120 - val_acc: 0.6550\n",
            "Epoch 12/50\n",
            "14400/14400 - 1s - loss: 0.2665 - acc: 0.8737 - val_loss: 0.9291 - val_acc: 0.6606\n",
            "Epoch 13/50\n",
            "14400/14400 - 1s - loss: 0.2446 - acc: 0.8856 - val_loss: 1.1307 - val_acc: 0.6506\n",
            "Epoch 14/50\n",
            "14400/14400 - 1s - loss: 0.2279 - acc: 0.8939 - val_loss: 1.1781 - val_acc: 0.6469\n",
            "Epoch 15/50\n",
            "14400/14400 - 1s - loss: 0.2072 - acc: 0.9016 - val_loss: 1.2304 - val_acc: 0.6425\n",
            "Epoch 16/50\n",
            "14400/14400 - 1s - loss: 0.1881 - acc: 0.9098 - val_loss: 1.2948 - val_acc: 0.6488\n",
            "Epoch 17/50\n",
            "14400/14400 - 1s - loss: 0.1804 - acc: 0.9131 - val_loss: 1.3353 - val_acc: 0.6381\n",
            "Epoch 18/50\n",
            "14400/14400 - 1s - loss: 0.1664 - acc: 0.9191 - val_loss: 1.5735 - val_acc: 0.6494\n",
            "Epoch 19/50\n",
            "14400/14400 - 1s - loss: 0.1535 - acc: 0.9240 - val_loss: 1.5911 - val_acc: 0.6394\n",
            "Epoch 20/50\n",
            "14400/14400 - 1s - loss: 0.1568 - acc: 0.9283 - val_loss: 1.6298 - val_acc: 0.6356\n",
            "Epoch 21/50\n",
            "14400/14400 - 1s - loss: 0.1312 - acc: 0.9383 - val_loss: 1.7283 - val_acc: 0.6375\n",
            "Epoch 22/50\n",
            "14400/14400 - 1s - loss: 0.1367 - acc: 0.9375 - val_loss: 1.8116 - val_acc: 0.6369\n",
            "Epoch 23/50\n",
            "14400/14400 - 1s - loss: 0.1321 - acc: 0.9415 - val_loss: 1.7459 - val_acc: 0.6331\n",
            "Epoch 24/50\n",
            "14400/14400 - 1s - loss: 0.1213 - acc: 0.9451 - val_loss: 2.0168 - val_acc: 0.6463\n",
            "Epoch 25/50\n",
            "14400/14400 - 1s - loss: 0.1056 - acc: 0.9514 - val_loss: 1.9280 - val_acc: 0.6288\n",
            "Epoch 26/50\n",
            "14400/14400 - 1s - loss: 0.1146 - acc: 0.9465 - val_loss: 2.2746 - val_acc: 0.6494\n",
            "Epoch 27/50\n",
            "14400/14400 - 1s - loss: 0.1230 - acc: 0.9438 - val_loss: 2.1712 - val_acc: 0.6488\n",
            "Epoch 28/50\n",
            "14400/14400 - 1s - loss: 0.1198 - acc: 0.9456 - val_loss: 2.1481 - val_acc: 0.6237\n",
            "Epoch 29/50\n",
            "14400/14400 - 1s - loss: 0.1089 - acc: 0.9508 - val_loss: 2.1040 - val_acc: 0.6325\n",
            "Epoch 30/50\n",
            "14400/14400 - 1s - loss: 0.0964 - acc: 0.9566 - val_loss: 2.2926 - val_acc: 0.6562\n",
            "Epoch 31/50\n",
            "14400/14400 - 1s - loss: 0.0919 - acc: 0.9567 - val_loss: 2.3574 - val_acc: 0.6344\n",
            "Epoch 32/50\n",
            "14400/14400 - 1s - loss: 0.0971 - acc: 0.9553 - val_loss: 2.3878 - val_acc: 0.6413\n",
            "Epoch 33/50\n",
            "14400/14400 - 1s - loss: 0.0860 - acc: 0.9610 - val_loss: 2.5835 - val_acc: 0.6306\n",
            "Epoch 34/50\n",
            "14400/14400 - 1s - loss: 0.1034 - acc: 0.9546 - val_loss: 2.5834 - val_acc: 0.6413\n",
            "Epoch 35/50\n",
            "14400/14400 - 1s - loss: 0.0930 - acc: 0.9588 - val_loss: 2.5853 - val_acc: 0.6256\n",
            "Epoch 36/50\n",
            "14400/14400 - 1s - loss: 0.0887 - acc: 0.9599 - val_loss: 2.5257 - val_acc: 0.6413\n",
            "Epoch 37/50\n",
            "14400/14400 - 1s - loss: 0.0972 - acc: 0.9580 - val_loss: 2.6499 - val_acc: 0.6450\n",
            "Epoch 38/50\n",
            "14400/14400 - 1s - loss: 0.0834 - acc: 0.9620 - val_loss: 2.7657 - val_acc: 0.6325\n",
            "Epoch 39/50\n",
            "14400/14400 - 1s - loss: 0.0711 - acc: 0.9681 - val_loss: 2.7308 - val_acc: 0.6519\n",
            "Epoch 40/50\n",
            "14400/14400 - 1s - loss: 0.0792 - acc: 0.9629 - val_loss: 2.9818 - val_acc: 0.6500\n",
            "Epoch 41/50\n",
            "14400/14400 - 1s - loss: 0.0915 - acc: 0.9608 - val_loss: 2.9361 - val_acc: 0.6438\n",
            "Epoch 42/50\n",
            "14400/14400 - 1s - loss: 0.0966 - acc: 0.9583 - val_loss: 2.8174 - val_acc: 0.6469\n",
            "Epoch 43/50\n",
            "14400/14400 - 1s - loss: 0.0831 - acc: 0.9647 - val_loss: 3.0743 - val_acc: 0.6419\n",
            "Epoch 44/50\n",
            "14400/14400 - 1s - loss: 0.0702 - acc: 0.9695 - val_loss: 3.0516 - val_acc: 0.6494\n",
            "Epoch 45/50\n",
            "14400/14400 - 1s - loss: 0.0685 - acc: 0.9689 - val_loss: 2.9331 - val_acc: 0.6431\n",
            "Epoch 46/50\n",
            "14400/14400 - 1s - loss: 0.0760 - acc: 0.9671 - val_loss: 3.4634 - val_acc: 0.6500\n",
            "Epoch 47/50\n",
            "14400/14400 - 1s - loss: 0.0736 - acc: 0.9685 - val_loss: 3.1078 - val_acc: 0.6319\n",
            "Epoch 48/50\n",
            "14400/14400 - 1s - loss: 0.0769 - acc: 0.9674 - val_loss: 3.3119 - val_acc: 0.6369\n",
            "Epoch 49/50\n",
            "14400/14400 - 1s - loss: 0.0865 - acc: 0.9648 - val_loss: 3.2713 - val_acc: 0.6444\n",
            "Epoch 50/50\n",
            "14400/14400 - 1s - loss: 0.0743 - acc: 0.9699 - val_loss: 3.3110 - val_acc: 0.6356\n",
            "Training Complete\n"
          ],
          "name": "stdout"
        }
      ]
    },
    {
      "cell_type": "code",
      "metadata": {
        "id": "qxju4ItJKO8F",
        "colab_type": "code",
        "colab": {
          "base_uri": "https://localhost:8080/",
          "height": 607
        },
        "outputId": "d1589196-94d1-4bc9-c318-4c940e47e467"
      },
      "source": [
        "import matplotlib.image  as mpimg\n",
        "import matplotlib.pyplot as plt\n",
        "\n",
        "#-----------------------------------------------------------\n",
        "# Retrieve a list of list results on training and test data\n",
        "# sets for each training epoch\n",
        "#-----------------------------------------------------------\n",
        "acc=history.history['acc']\n",
        "val_acc=history.history['val_acc']\n",
        "loss=history.history['loss']\n",
        "val_loss=history.history['val_loss']\n",
        "\n",
        "epochs=range(len(acc)) # Get number of epochs\n",
        "\n",
        "#------------------------------------------------\n",
        "# Plot training and validation accuracy per epoch\n",
        "#------------------------------------------------\n",
        "plt.plot(epochs, acc, 'r')\n",
        "plt.plot(epochs, val_acc, 'b')\n",
        "plt.title('Training and validation accuracy')\n",
        "plt.xlabel(\"Epochs\")\n",
        "plt.ylabel(\"Accuracy\")\n",
        "plt.legend([\"Accuracy\", \"Validation Accuracy\"])\n",
        "\n",
        "plt.figure()\n",
        "\n",
        "#------------------------------------------------\n",
        "# Plot training and validation loss per epoch\n",
        "#------------------------------------------------\n",
        "plt.plot(epochs, loss, 'r')\n",
        "plt.plot(epochs, val_loss, 'b')\n",
        "plt.title('Training and validation loss')\n",
        "plt.xlabel(\"Epochs\")\n",
        "plt.ylabel(\"Loss\")\n",
        "plt.legend([\"Loss\", \"Validation Loss\"])\n",
        "\n",
        "plt.figure()\n",
        "\n",
        "\n",
        "# Expected Output\n",
        "# A chart where the validation loss does not increase sharply!"
      ],
      "execution_count": 29,
      "outputs": [
        {
          "output_type": "execute_result",
          "data": {
            "text/plain": [
              "<Figure size 432x288 with 0 Axes>"
            ]
          },
          "metadata": {
            "tags": []
          },
          "execution_count": 29
        },
        {
          "output_type": "display_data",
          "data": {
            "image/png": "[encoded data removed]",
            "text/plain": [
              "<Figure size 432x288 with 1 Axes>"
            ]
          },
          "metadata": {
            "tags": []
          }
        },
        {
          "output_type": "display_data",
          "data": {
            "image/png": "[encoded data removed]",
            "text/plain": [
              "<Figure size 432x288 with 1 Axes>"
            ]
          },
          "metadata": {
            "tags": []
          }
        },
        {
          "output_type": "display_data",
          "data": {
            "text/plain": [
              "<Figure size 432x288 with 0 Axes>"
            ]
          },
          "metadata": {
            "tags": []
          }
        }
      ]
    },
    {
      "cell_type": "code",
      "metadata": {
        "id": "cuuGg-neQ-GB",
        "colab_type": "code",
        "colab": {}
      },
      "source": [
        "model.save('lstm-1-layer-24.h5')"
      ],
      "execution_count": 0,
      "outputs": []
    },
    {
      "cell_type": "code",
      "metadata": {
        "id": "j8RHCJhbPkDB",
        "colab_type": "code",
        "colab": {}
      },
      "source": [
        ""
      ],
      "execution_count": 0,
      "outputs": []
    }
  ]
}