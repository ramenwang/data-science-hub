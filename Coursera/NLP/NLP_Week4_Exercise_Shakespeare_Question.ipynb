{
  "nbformat": 4,
  "nbformat_minor": 0,
  "metadata": {
    "colab": {
      "name": "NLP-Week4-Exercise-Shakespeare-Question.ipynb",
      "provenance": []
    },
    "kernelspec": {
      "name": "python3",
      "display_name": "Python 3"
    },
    "accelerator": "GPU"
  },
  "cells": [
    {
      "cell_type": "code",
      "metadata": {
        "id": "BOwsuGQQY9OL",
        "colab_type": "code",
        "colab": {}
      },
      "source": [
        "from tensorflow.keras.preprocessing.sequence import pad_sequences\n",
        "from tensorflow.keras.layers import Embedding, LSTM, Dense, Dropout, Bidirectional\n",
        "from tensorflow.keras.preprocessing.text import Tokenizer\n",
        "from tensorflow.keras.models import Sequential\n",
        "from tensorflow.keras.optimizers import Adam\n",
        "### YOUR CODE HERE\n",
        "# Figure out how to import regularizers\n",
        "from tensorflow.keras.regularizers import l1, l2\n",
        "\n",
        "###\n",
        "import tensorflow.keras.utils as ku \n",
        "import numpy as np "
      ],
      "execution_count": 0,
      "outputs": []
    },
    {
      "cell_type": "code",
      "metadata": {
        "colab_type": "code",
        "id": "PRnDnCW-Z7qv",
        "colab": {
          "base_uri": "https://localhost:8080/",
          "height": 204
        },
        "outputId": "d3fb4c75-0288-4d3e-a1f1-e5978ce45471"
      },
      "source": [
        "tokenizer = Tokenizer()\n",
        "!wget --no-check-certificate \\\n",
        "    https://storage.googleapis.com/laurencemoroney-blog.appspot.com/sonnets.txt \\\n",
        "    -O /tmp/sonnets.txt\n",
        "data = open('/tmp/sonnets.txt').read()\n",
        "\n",
        "corpus = data.lower().split(\"\\n\")\n",
        "\n",
        "\n",
        "tokenizer.fit_on_texts(corpus)\n",
        "total_words = len(tokenizer.word_index) + 1\n",
        "\n",
        "# create input sequences using list of tokens\n",
        "input_sequences = []\n",
        "for line in corpus:\n",
        "\ttoken_list = tokenizer.texts_to_sequences([line])[0]\n",
        "\tfor i in range(1, len(token_list)):\n",
        "\t\tn_gram_sequence = token_list[:i+1]\n",
        "\t\tinput_sequences.append(n_gram_sequence)\n",
        "\n",
        "\n",
        "# pad sequences \n",
        "max_sequence_len = max([len(x) for x in input_sequences])\n",
        "input_sequences = np.array(pad_sequences(input_sequences, maxlen=max_sequence_len, padding='pre'))\n",
        "\n",
        "# create predictors and label\n",
        "predictors, label = input_sequences[:,:-1],input_sequences[:,-1]\n",
        "\n",
        "label = ku.to_categorical(label, num_classes=total_words)"
      ],
      "execution_count": 2,
      "outputs": [
        {
          "output_type": "stream",
          "text": [
            "--2020-03-16 03:00:41--  https://storage.googleapis.com/laurencemoroney-blog.appspot.com/sonnets.txt\n",
            "Resolving storage.googleapis.com (storage.googleapis.com)... 172.217.14.112, 2607:f8b0:4026:800::2010\n",
            "Connecting to storage.googleapis.com (storage.googleapis.com)|172.217.14.112|:443... connected.\n",
            "HTTP request sent, awaiting response... 200 OK\n",
            "Length: 93578 (91K) [text/plain]\n",
            "Saving to: ‘/tmp/sonnets.txt’\n",
            "\n",
            "\r/tmp/sonnets.txt      0%[                    ]       0  --.-KB/s               \r/tmp/sonnets.txt    100%[===================>]  91.38K  --.-KB/s    in 0.001s  \n",
            "\n",
            "2020-03-16 03:00:41 (166 MB/s) - ‘/tmp/sonnets.txt’ saved [93578/93578]\n",
            "\n"
          ],
          "name": "stdout"
        }
      ]
    },
    {
      "cell_type": "code",
      "metadata": {
        "id": "OA7NsA2UShDz",
        "colab_type": "code",
        "colab": {
          "base_uri": "https://localhost:8080/",
          "height": 85
        },
        "outputId": "1a176675-cea3-41c2-8e4e-d69759c16abd"
      },
      "source": [
        "inverse_word_index = {value: key for key, value in tokenizer.word_index.items()}\n",
        "\n",
        "def inverse_seq(seq):\n",
        "    return ' '.join([inverse_word_index[i] for i in seq if i != 0])\n",
        "\n",
        "print(corpus[0])\n",
        "print(input_sequences[3])\n",
        "print(inverse_seq(predictors[3]))\n",
        "print(inverse_seq(label[3]))"
      ],
      "execution_count": 10,
      "outputs": [
        {
          "output_type": "stream",
          "text": [
            "from fairest creatures we desire increase,\n",
            "[  0   0   0   0   0   0  34 417 877 166 213]\n",
            "from fairest creatures we\n",
            "and\n"
          ],
          "name": "stdout"
        }
      ]
    },
    {
      "cell_type": "code",
      "metadata": {
        "id": "xq9DNyxfWBgb",
        "colab_type": "code",
        "colab": {
          "base_uri": "https://localhost:8080/",
          "height": 34
        },
        "outputId": "0bf76b24-37c4-4f00-f2f6-aaa556a6ae71"
      },
      "source": [
        "label.shape[1]"
      ],
      "execution_count": 15,
      "outputs": [
        {
          "output_type": "execute_result",
          "data": {
            "text/plain": [
              "3211"
            ]
          },
          "metadata": {
            "tags": []
          },
          "execution_count": 15
        }
      ]
    },
    {
      "cell_type": "code",
      "metadata": {
        "id": "w9vH8Y59ajYL",
        "colab_type": "code",
        "colab": {
          "base_uri": "https://localhost:8080/",
          "height": 374
        },
        "outputId": "25cb1e43-e386-47c9-9642-99f8766c551e"
      },
      "source": [
        "model = Sequential()\n",
        "model.add(Embedding(input_dim=total_words, output_dim=100, input_length=max_sequence_len-1))\n",
        "model.add(LSTM(64, return_sequences=True))\n",
        "model.add(Dropout(rate=0.2))\n",
        "model.add(LSTM(32))\n",
        "regularizer=Regularizer()\n",
        "model.add(Dense(1000, activation='relu', kernel_regularizer=l2(0.01),\n",
        "                bias_regularizer=l1(0.01)))\n",
        "model.add(Dense(label.shape[1], activation='sigmoid'))\n",
        "# Pick an optimizer\n",
        "adam = Adam(learning_rate=0.01)\n",
        "model.compile(loss='categorical_crossentropy', optimizer=adam, metrics=['accuracy'])\n",
        "print(model.summary())\n"
      ],
      "execution_count": 20,
      "outputs": [
        {
          "output_type": "stream",
          "text": [
            "Model: \"sequential_3\"\n",
            "_________________________________________________________________\n",
            "Layer (type)                 Output Shape              Param #   \n",
            "=================================================================\n",
            "embedding_3 (Embedding)      (None, 10, 100)           321100    \n",
            "_________________________________________________________________\n",
            "lstm_6 (LSTM)                (None, 10, 64)            42240     \n",
            "_________________________________________________________________\n",
            "dropout_3 (Dropout)          (None, 10, 64)            0         \n",
            "_________________________________________________________________\n",
            "lstm_7 (LSTM)                (None, 32)                12416     \n",
            "_________________________________________________________________\n",
            "dense_2 (Dense)              (None, 1000)              33000     \n",
            "_________________________________________________________________\n",
            "dense_3 (Dense)              (None, 3211)              3214211   \n",
            "=================================================================\n",
            "Total params: 3,622,967\n",
            "Trainable params: 3,622,967\n",
            "Non-trainable params: 0\n",
            "_________________________________________________________________\n",
            "None\n"
          ],
          "name": "stdout"
        }
      ]
    },
    {
      "cell_type": "code",
      "metadata": {
        "id": "AIg2f1HBxqof",
        "colab_type": "code",
        "colab": {
          "base_uri": "https://localhost:8080/",
          "height": 1000
        },
        "outputId": "5010b771-3242-4228-8508-5244e2de90ef"
      },
      "source": [
        " history = model.fit(predictors, label, epochs=100, verbose=1)"
      ],
      "execution_count": 21,
      "outputs": [
        {
          "output_type": "stream",
          "text": [
            "WARNING:tensorflow:From /usr/local/lib/python3.6/dist-packages/tensorflow_core/python/ops/math_grad.py:1424: where (from tensorflow.python.ops.array_ops) is deprecated and will be removed in a future version.\n",
            "Instructions for updating:\n",
            "Use tf.where in 2.0, which has the same broadcast rule as np.where\n",
            "Train on 15462 samples\n",
            "Epoch 1/100\n",
            "15462/15462 [==============================] - 16s 1ms/sample - loss: 6.9518 - acc: 0.0219\n",
            "Epoch 2/100\n",
            "15462/15462 [==============================] - 14s 875us/sample - loss: 6.7845 - acc: 0.0219\n",
            "Epoch 3/100\n",
            "15462/15462 [==============================] - 14s 923us/sample - loss: 6.8289 - acc: 0.0224\n",
            "Epoch 4/100\n",
            "15462/15462 [==============================] - 15s 944us/sample - loss: 6.8102 - acc: 0.0227\n",
            "Epoch 5/100\n",
            "15462/15462 [==============================] - 14s 907us/sample - loss: 6.8194 - acc: 0.0228\n",
            "Epoch 6/100\n",
            "15462/15462 [==============================] - 14s 937us/sample - loss: 6.7972 - acc: 0.0233\n",
            "Epoch 7/100\n",
            "15462/15462 [==============================] - 14s 924us/sample - loss: 6.7840 - acc: 0.0228\n",
            "Epoch 8/100\n",
            "15462/15462 [==============================] - 14s 906us/sample - loss: 6.7644 - acc: 0.0237\n",
            "Epoch 9/100\n",
            "15462/15462 [==============================] - 15s 942us/sample - loss: 6.7664 - acc: 0.0211\n",
            "Epoch 10/100\n",
            "15462/15462 [==============================] - 14s 907us/sample - loss: 6.7449 - acc: 0.0213\n",
            "Epoch 11/100\n",
            "15462/15462 [==============================] - 14s 879us/sample - loss: 6.7211 - acc: 0.0215\n",
            "Epoch 12/100\n",
            "15462/15462 [==============================] - 14s 925us/sample - loss: 6.7317 - acc: 0.0220\n",
            "Epoch 13/100\n",
            "15462/15462 [==============================] - 14s 911us/sample - loss: 6.7127 - acc: 0.0225\n",
            "Epoch 14/100\n",
            "15462/15462 [==============================] - 15s 949us/sample - loss: 6.7119 - acc: 0.0218\n",
            "Epoch 15/100\n",
            "15462/15462 [==============================] - 14s 894us/sample - loss: 6.7585 - acc: 0.0208\n",
            "Epoch 16/100\n",
            "15462/15462 [==============================] - 14s 896us/sample - loss: 6.7449 - acc: 0.0215\n",
            "Epoch 17/100\n",
            "15462/15462 [==============================] - 14s 889us/sample - loss: 6.7305 - acc: 0.0222\n",
            "Epoch 18/100\n",
            "15462/15462 [==============================] - 14s 920us/sample - loss: 6.7286 - acc: 0.0225\n",
            "Epoch 19/100\n",
            "15462/15462 [==============================] - 14s 903us/sample - loss: 6.7532 - acc: 0.0232\n",
            "Epoch 20/100\n",
            "15462/15462 [==============================] - 14s 897us/sample - loss: 6.7385 - acc: 0.0219\n",
            "Epoch 21/100\n",
            "15462/15462 [==============================] - 14s 899us/sample - loss: 6.7216 - acc: 0.0253\n",
            "Epoch 22/100\n",
            "15462/15462 [==============================] - 14s 887us/sample - loss: 6.7472 - acc: 0.0274\n",
            "Epoch 23/100\n",
            "15462/15462 [==============================] - 14s 883us/sample - loss: 6.7481 - acc: 0.0272\n",
            "Epoch 24/100\n",
            "15462/15462 [==============================] - 13s 871us/sample - loss: 6.7332 - acc: 0.0291\n",
            "Epoch 25/100\n",
            "15462/15462 [==============================] - 14s 889us/sample - loss: 6.7281 - acc: 0.0274\n",
            "Epoch 26/100\n",
            "15462/15462 [==============================] - 14s 902us/sample - loss: 6.7228 - acc: 0.0283\n",
            "Epoch 27/100\n",
            "15462/15462 [==============================] - 13s 870us/sample - loss: 6.7574 - acc: 0.0286\n",
            "Epoch 28/100\n",
            "15462/15462 [==============================] - 14s 921us/sample - loss: 6.7396 - acc: 0.0275\n",
            "Epoch 29/100\n",
            "15462/15462 [==============================] - 13s 873us/sample - loss: 6.7467 - acc: 0.0284\n",
            "Epoch 30/100\n",
            "15462/15462 [==============================] - 14s 884us/sample - loss: 6.7676 - acc: 0.0282\n",
            "Epoch 31/100\n",
            "15462/15462 [==============================] - 14s 917us/sample - loss: 6.7645 - acc: 0.0277\n",
            "Epoch 32/100\n",
            "15462/15462 [==============================] - 14s 923us/sample - loss: 6.7499 - acc: 0.0290\n",
            "Epoch 33/100\n",
            "15462/15462 [==============================] - 14s 935us/sample - loss: 6.7635 - acc: 0.0287\n",
            "Epoch 34/100\n",
            "15462/15462 [==============================] - 14s 897us/sample - loss: 6.7638 - acc: 0.0291\n",
            "Epoch 35/100\n",
            "15462/15462 [==============================] - 14s 919us/sample - loss: 6.7805 - acc: 0.0306\n",
            "Epoch 36/100\n",
            "15462/15462 [==============================] - 14s 908us/sample - loss: 6.7795 - acc: 0.0303\n",
            "Epoch 37/100\n",
            "15462/15462 [==============================] - 14s 932us/sample - loss: 6.7704 - acc: 0.0296\n",
            "Epoch 38/100\n",
            "15462/15462 [==============================] - 14s 874us/sample - loss: 6.7676 - acc: 0.0290\n",
            "Epoch 39/100\n",
            "15462/15462 [==============================] - 14s 885us/sample - loss: 6.7679 - acc: 0.0287\n",
            "Epoch 40/100\n",
            "15462/15462 [==============================] - 14s 919us/sample - loss: 6.7873 - acc: 0.0310\n",
            "Epoch 41/100\n",
            "15462/15462 [==============================] - 14s 916us/sample - loss: 6.7556 - acc: 0.0312\n",
            "Epoch 42/100\n",
            "15462/15462 [==============================] - 15s 945us/sample - loss: 6.7875 - acc: 0.0323\n",
            "Epoch 43/100\n",
            "15462/15462 [==============================] - 14s 914us/sample - loss: 6.7752 - acc: 0.0296\n",
            "Epoch 44/100\n",
            "15462/15462 [==============================] - 14s 895us/sample - loss: 6.7788 - acc: 0.0324\n",
            "Epoch 45/100\n",
            "15462/15462 [==============================] - 14s 873us/sample - loss: 6.7720 - acc: 0.0320\n",
            "Epoch 46/100\n",
            "15462/15462 [==============================] - 15s 940us/sample - loss: 6.7648 - acc: 0.0293\n",
            "Epoch 47/100\n",
            "15462/15462 [==============================] - 14s 882us/sample - loss: 6.7528 - acc: 0.0299\n",
            "Epoch 48/100\n",
            "15462/15462 [==============================] - 14s 906us/sample - loss: 6.7711 - acc: 0.0321\n",
            "Epoch 49/100\n",
            "15462/15462 [==============================] - 14s 936us/sample - loss: 6.7860 - acc: 0.0327\n",
            "Epoch 50/100\n",
            "15462/15462 [==============================] - 14s 929us/sample - loss: 6.7639 - acc: 0.0319\n",
            "Epoch 51/100\n",
            "15462/15462 [==============================] - 13s 865us/sample - loss: 6.7796 - acc: 0.0318\n",
            "Epoch 52/100\n",
            "15462/15462 [==============================] - 14s 892us/sample - loss: 6.7827 - acc: 0.0314\n",
            "Epoch 53/100\n",
            "15462/15462 [==============================] - 14s 887us/sample - loss: 6.7745 - acc: 0.0338\n",
            "Epoch 54/100\n",
            "15462/15462 [==============================] - 14s 914us/sample - loss: 6.7889 - acc: 0.0319\n",
            "Epoch 55/100\n",
            "15462/15462 [==============================] - 13s 866us/sample - loss: 6.7505 - acc: 0.0322\n",
            "Epoch 56/100\n",
            "15462/15462 [==============================] - 14s 909us/sample - loss: 6.8065 - acc: 0.0327\n",
            "Epoch 57/100\n",
            "15462/15462 [==============================] - 14s 918us/sample - loss: 6.8056 - acc: 0.0315\n",
            "Epoch 58/100\n",
            "15462/15462 [==============================] - 15s 949us/sample - loss: 6.7878 - acc: 0.0308\n",
            "Epoch 59/100\n",
            "15462/15462 [==============================] - 14s 910us/sample - loss: 6.7907 - acc: 0.0325\n",
            "Epoch 60/100\n",
            "15462/15462 [==============================] - 14s 913us/sample - loss: 6.7629 - acc: 0.0327\n",
            "Epoch 61/100\n",
            "15462/15462 [==============================] - 14s 901us/sample - loss: 6.8152 - acc: 0.0330\n",
            "Epoch 62/100\n",
            "15462/15462 [==============================] - 14s 919us/sample - loss: 6.8213 - acc: 0.0323\n",
            "Epoch 63/100\n",
            "15462/15462 [==============================] - 14s 885us/sample - loss: 6.8333 - acc: 0.0339\n",
            "Epoch 64/100\n",
            "15462/15462 [==============================] - 14s 929us/sample - loss: 6.7873 - acc: 0.0343\n",
            "Epoch 65/100\n",
            "15462/15462 [==============================] - 15s 942us/sample - loss: 6.8097 - acc: 0.0332\n",
            "Epoch 66/100\n",
            "15462/15462 [==============================] - 15s 979us/sample - loss: 6.8190 - acc: 0.0325\n",
            "Epoch 67/100\n",
            "15462/15462 [==============================] - 14s 924us/sample - loss: 6.7692 - acc: 0.0330\n",
            "Epoch 68/100\n",
            "15462/15462 [==============================] - 15s 947us/sample - loss: 6.7911 - acc: 0.0318\n",
            "Epoch 69/100\n",
            "15462/15462 [==============================] - 14s 875us/sample - loss: 6.8060 - acc: 0.0346\n",
            "Epoch 70/100\n",
            "15462/15462 [==============================] - 14s 892us/sample - loss: 6.8600 - acc: 0.0334\n",
            "Epoch 71/100\n",
            "15462/15462 [==============================] - 14s 912us/sample - loss: 6.7973 - acc: 0.0339\n",
            "Epoch 72/100\n",
            "15462/15462 [==============================] - 14s 907us/sample - loss: 6.8313 - acc: 0.0330\n",
            "Epoch 73/100\n",
            "15462/15462 [==============================] - 14s 906us/sample - loss: 6.7933 - acc: 0.0316\n",
            "Epoch 74/100\n",
            "15462/15462 [==============================] - 15s 943us/sample - loss: 6.8244 - acc: 0.0340\n",
            "Epoch 75/100\n",
            "15462/15462 [==============================] - 14s 903us/sample - loss: 6.7965 - acc: 0.0354\n",
            "Epoch 76/100\n",
            "15462/15462 [==============================] - 14s 908us/sample - loss: 6.8300 - acc: 0.0338\n",
            "Epoch 77/100\n",
            "15462/15462 [==============================] - 15s 944us/sample - loss: 6.8231 - acc: 0.0347\n",
            "Epoch 78/100\n",
            "15462/15462 [==============================] - 14s 936us/sample - loss: 6.8110 - acc: 0.0357\n",
            "Epoch 79/100\n",
            "15462/15462 [==============================] - 14s 877us/sample - loss: 6.8189 - acc: 0.0347\n",
            "Epoch 80/100\n",
            "15462/15462 [==============================] - 15s 961us/sample - loss: 6.8273 - acc: 0.0352\n",
            "Epoch 81/100\n",
            "15462/15462 [==============================] - 15s 948us/sample - loss: 6.8242 - acc: 0.0356\n",
            "Epoch 82/100\n",
            "15462/15462 [==============================] - 15s 951us/sample - loss: 6.8378 - acc: 0.0341\n",
            "Epoch 83/100\n",
            "15462/15462 [==============================] - 14s 909us/sample - loss: 6.8272 - acc: 0.0346\n",
            "Epoch 84/100\n",
            "15462/15462 [==============================] - 14s 893us/sample - loss: 6.8229 - acc: 0.0337\n",
            "Epoch 85/100\n",
            "15462/15462 [==============================] - 14s 906us/sample - loss: 6.8389 - acc: 0.0351\n",
            "Epoch 86/100\n",
            "15462/15462 [==============================] - 14s 936us/sample - loss: 6.8405 - acc: 0.0340\n",
            "Epoch 87/100\n",
            "15462/15462 [==============================] - 15s 950us/sample - loss: 6.8903 - acc: 0.0338\n",
            "Epoch 88/100\n",
            "15462/15462 [==============================] - 15s 948us/sample - loss: 6.8587 - acc: 0.0338\n",
            "Epoch 89/100\n",
            "15462/15462 [==============================] - 14s 909us/sample - loss: 6.8337 - acc: 0.0340\n",
            "Epoch 90/100\n",
            "15462/15462 [==============================] - 14s 923us/sample - loss: 6.8211 - acc: 0.0329\n",
            "Epoch 91/100\n",
            "15462/15462 [==============================] - 15s 987us/sample - loss: 6.8448 - acc: 0.0332\n",
            "Epoch 92/100\n",
            "15462/15462 [==============================] - 14s 916us/sample - loss: 6.8392 - acc: 0.0359\n",
            "Epoch 93/100\n",
            "15462/15462 [==============================] - 15s 972us/sample - loss: 6.8526 - acc: 0.0334\n",
            "Epoch 94/100\n",
            "15462/15462 [==============================] - 14s 920us/sample - loss: 6.8498 - acc: 0.0346\n",
            "Epoch 95/100\n",
            "15462/15462 [==============================] - 15s 941us/sample - loss: 6.8348 - acc: 0.0343\n",
            "Epoch 96/100\n",
            "15462/15462 [==============================] - 15s 943us/sample - loss: nan - acc: 0.0245\n",
            "Epoch 97/100\n",
            "15462/15462 [==============================] - 14s 907us/sample - loss: nan - acc: 0.0000e+00\n",
            "Epoch 98/100\n",
            "15462/15462 [==============================] - 14s 899us/sample - loss: nan - acc: 0.0000e+00\n",
            "Epoch 99/100\n",
            "15462/15462 [==============================] - 15s 948us/sample - loss: nan - acc: 0.0000e+00\n",
            "Epoch 100/100\n",
            "15462/15462 [==============================] - 14s 903us/sample - loss: nan - acc: 0.0000e+00\n"
          ],
          "name": "stdout"
        }
      ]
    },
    {
      "cell_type": "code",
      "metadata": {
        "id": "1fXTEO3GJ282",
        "colab_type": "code",
        "colab": {}
      },
      "source": [
        "import matplotlib.pyplot as plt\n",
        "acc = history.history['acc']\n",
        "loss = history.history['loss']\n",
        "\n",
        "epochs = range(len(acc))\n",
        "\n",
        "plt.plot(epochs, acc, 'b', label='Training accuracy')\n",
        "plt.title('Training accuracy')\n",
        "\n",
        "plt.figure()\n",
        "\n",
        "plt.plot(epochs, loss, 'b', label='Training Loss')\n",
        "plt.title('Training loss')\n",
        "plt.legend()\n",
        "\n",
        "plt.show()"
      ],
      "execution_count": 0,
      "outputs": []
    },
    {
      "cell_type": "code",
      "metadata": {
        "id": "6Vc6PHgxa6Hm",
        "colab_type": "code",
        "colab": {}
      },
      "source": [
        "seed_text = \"Help me Obi Wan Kenobi, you're my only hope\"\n",
        "next_words = 100\n",
        "  \n",
        "for _ in range(next_words):\n",
        "\ttoken_list = tokenizer.texts_to_sequences([seed_text])[0]\n",
        "\ttoken_list = pad_sequences([token_list], maxlen=max_sequence_len-1, padding='pre')\n",
        "\tpredicted = model.predict_classes(token_list, verbose=0)\n",
        "\toutput_word = \"\"\n",
        "\tfor word, index in tokenizer.word_index.items():\n",
        "\t\tif index == predicted:\n",
        "\t\t\toutput_word = word\n",
        "\t\t\tbreak\n",
        "\tseed_text += \" \" + output_word\n",
        "print(seed_text)"
      ],
      "execution_count": 0,
      "outputs": []
    }
  ]
}