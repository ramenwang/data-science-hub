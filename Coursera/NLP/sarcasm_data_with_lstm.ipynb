{
  "nbformat": 4,
  "nbformat_minor": 0,
  "metadata": {
    "colab": {
      "name": "sarcasm_data_with_lstm.ipynb",
      "provenance": [],
      "authorship_tag": "ABX9TyMJFFw9qY9Gi1lsiMaPXJ21",
      "include_colab_link": true
    },
    "kernelspec": {
      "name": "python3",
      "display_name": "Python 3"
    },
    "accelerator": "GPU"
  },
  "cells": [
    {
      "cell_type": "markdown",
      "metadata": {
        "id": "view-in-github",
        "colab_type": "text"
      },
      "source": [
        "<a href=\"https://colab.research.google.com/github/ramenwang/deep_learning_py/blob/master/Coursera/NLP/sarcasm_data_with_lstm.ipynb\" target=\"_parent\"><img src=\"https://colab.research.google.com/assets/colab-badge.svg\" alt=\"Open In Colab\"/></a>"
      ]
    },
    {
      "cell_type": "code",
      "metadata": {
        "id": "7HwOnUtiC0yg",
        "colab_type": "code",
        "colab": {
          "base_uri": "https://localhost:8080/",
          "height": 80
        },
        "outputId": "44254cce-f2ea-4dd4-aa68-13988ed4b779"
      },
      "source": [
        "import json\n",
        "import tensorflow as tf\n",
        "import matplotlib.pyplot as plt\n",
        "\n",
        "print(tf.__version__)"
      ],
      "execution_count": 1,
      "outputs": [
        {
          "output_type": "display_data",
          "data": {
            "text/html": [
              "<p style=\"color: red;\">\n",
              "The default version of TensorFlow in Colab will soon switch to TensorFlow 2.x.<br>\n",
              "We recommend you <a href=\"https://www.tensorflow.org/guide/migrate\" target=\"_blank\">upgrade</a> now \n",
              "or ensure your notebook will continue to use TensorFlow 1.x via the <code>%tensorflow_version 1.x</code> magic:\n",
              "<a href=\"https://colab.research.google.com/notebooks/tensorflow_version.ipynb\" target=\"_blank\">more info</a>.</p>\n"
            ],
            "text/plain": [
              "<IPython.core.display.HTML object>"
            ]
          },
          "metadata": {
            "tags": []
          }
        },
        {
          "output_type": "stream",
          "text": [
            "1.15.0\n"
          ],
          "name": "stdout"
        }
      ]
    },
    {
      "cell_type": "code",
      "metadata": {
        "id": "_JspByUCDGcD",
        "colab_type": "code",
        "colab": {
          "base_uri": "https://localhost:8080/",
          "height": 204
        },
        "outputId": "ed0ec574-8632-4ab2-c0e5-513f2efce407"
      },
      "source": [
        "# get data\n",
        "!wget --no-check-certificate \\\n",
        "    https://storage.googleapis.com/laurencemoroney-blog.appspot.com/sarcasm.json \\\n",
        "    -O /tmp/sarcasm.json\n"
      ],
      "execution_count": 2,
      "outputs": [
        {
          "output_type": "stream",
          "text": [
            "--2020-03-14 21:57:45--  https://storage.googleapis.com/laurencemoroney-blog.appspot.com/sarcasm.json\n",
            "Resolving storage.googleapis.com (storage.googleapis.com)... 172.217.212.128, 2607:f8b0:4001:c1f::80\n",
            "Connecting to storage.googleapis.com (storage.googleapis.com)|172.217.212.128|:443... connected.\n",
            "HTTP request sent, awaiting response... 200 OK\n",
            "Length: 5643545 (5.4M) [application/json]\n",
            "Saving to: ‘/tmp/sarcasm.json’\n",
            "\n",
            "/tmp/sarcasm.json   100%[===================>]   5.38M  --.-KB/s    in 0.06s   \n",
            "\n",
            "2020-03-14 21:57:50 (89.3 MB/s) - ‘/tmp/sarcasm.json’ saved [5643545/5643545]\n",
            "\n"
          ],
          "name": "stdout"
        }
      ]
    },
    {
      "cell_type": "code",
      "metadata": {
        "id": "yaB0UOE0DZJt",
        "colab_type": "code",
        "colab": {
          "base_uri": "https://localhost:8080/",
          "height": 68
        },
        "outputId": "c143303a-8006-40fe-a09d-403f906d1aaa"
      },
      "source": [
        "urls, headlines, is_sarcastic = [], [], []\n",
        "with open('/tmp/sarcasm.json', 'r') as jsonfile:\n",
        "    reader = json.load(jsonfile)\n",
        "    for row in reader:\n",
        "        urls.append(row.get('article_link'))\n",
        "        headlines.append(row.get('headline'))\n",
        "        is_sarcastic.append(row.get('is_sarcastic'))\n",
        "\n",
        "print(urls[0])\n",
        "print(headlines[0])\n",
        "print(is_sarcastic[0])"
      ],
      "execution_count": 5,
      "outputs": [
        {
          "output_type": "stream",
          "text": [
            "https://www.huffingtonpost.com/entry/versace-black-code_us_5861fbefe4b0de3a08f600d5\n",
            "former versace store clerk sues over secret 'black code' for minority shoppers\n",
            "0\n"
          ],
          "name": "stdout"
        }
      ]
    },
    {
      "cell_type": "code",
      "metadata": {
        "id": "SVI0y3ElDq0j",
        "colab_type": "code",
        "colab": {}
      },
      "source": [
        "voc_size = 10000\n",
        "seq_len = 20\n",
        "embedding_size = 16\n",
        "oov_token = '<OOV>'\n",
        "\n",
        "from tensorflow.keras.preprocessing.sequence import pad_sequences\n",
        "from tensorflow.keras.preprocessing.text import Tokenizer"
      ],
      "execution_count": 0,
      "outputs": []
    },
    {
      "cell_type": "code",
      "metadata": {
        "id": "ycGjMNseFlLS",
        "colab_type": "code",
        "colab": {}
      },
      "source": [
        "tokenizer = Tokenizer(num_words=voc_size)"
      ],
      "execution_count": 0,
      "outputs": []
    },
    {
      "cell_type": "code",
      "metadata": {
        "id": "ltPfT9QvFvUV",
        "colab_type": "code",
        "colab": {}
      },
      "source": [
        "train_size = 20000\n",
        "train_dat, test_dat = headlines[:train_size], headlines[train_size:]\n",
        "train_label, test_label = is_sarcastic[:train_size], is_sarcastic[train_size:]\n",
        "\n",
        "# preprocessing\n",
        "tokenizer.fit_on_texts(train_dat)\n",
        "word_index = tokenizer.word_index\n",
        "train_seq = tokenizer.texts_to_sequences(train_dat)\n",
        "test_seq = tokenizer.texts_to_sequences(test_dat)\n",
        "train_padded = pad_sequences(train_seq, maxlen=seq_len, padding='post', truncating='post')\n",
        "test_padded = pad_sequences(test_seq, maxlen=seq_len, padding='post', truncating='post')"
      ],
      "execution_count": 0,
      "outputs": []
    },
    {
      "cell_type": "code",
      "metadata": {
        "id": "nkGK0P9eHs64",
        "colab_type": "code",
        "colab": {
          "base_uri": "https://localhost:8080/",
          "height": 360
        },
        "outputId": "f34c662d-d8c1-40a2-97e9-a8595dcb4671"
      },
      "source": [
        "# build up model graph\n",
        "model = tf.keras.models.Sequential([\n",
        "    tf.keras.layers.Embedding(input_dim=voc_size, output_dim=16, input_length=seq_len),\n",
        "    tf.keras.layers.Bidirectional(tf.keras.layers.LSTM(units=32)),\n",
        "    tf.keras.layers.Dense(24, activation='relu'),\n",
        "    tf.keras.layers.Dense(1, activation='sigmoid')\n",
        "])\n",
        "model.compile(optimizer='adam', loss='binary_crossentropy', metrics=['accuracy'])\n",
        "model.summary()"
      ],
      "execution_count": 12,
      "outputs": [
        {
          "output_type": "stream",
          "text": [
            "WARNING:tensorflow:From /usr/local/lib/python3.6/dist-packages/tensorflow_core/python/ops/nn_impl.py:183: where (from tensorflow.python.ops.array_ops) is deprecated and will be removed in a future version.\n",
            "Instructions for updating:\n",
            "Use tf.where in 2.0, which has the same broadcast rule as np.where\n",
            "Model: \"sequential_1\"\n",
            "_________________________________________________________________\n",
            "Layer (type)                 Output Shape              Param #   \n",
            "=================================================================\n",
            "embedding_1 (Embedding)      (None, 20, 16)            160000    \n",
            "_________________________________________________________________\n",
            "bidirectional_1 (Bidirection (None, 64)                12544     \n",
            "_________________________________________________________________\n",
            "dense_2 (Dense)              (None, 24)                1560      \n",
            "_________________________________________________________________\n",
            "dense_3 (Dense)              (None, 1)                 25        \n",
            "=================================================================\n",
            "Total params: 174,129\n",
            "Trainable params: 174,129\n",
            "Non-trainable params: 0\n",
            "_________________________________________________________________\n"
          ],
          "name": "stdout"
        }
      ]
    },
    {
      "cell_type": "code",
      "metadata": {
        "id": "P60hngEBJCHZ",
        "colab_type": "code",
        "colab": {
          "base_uri": "https://localhost:8080/",
          "height": 1000
        },
        "outputId": "b5a86c80-a3d8-47c9-b22a-afcd17c17487"
      },
      "source": [
        "run_time = model.fit(x = train_padded,\n",
        "                     y = train_label,\n",
        "                     epochs = 50,\n",
        "                     validation_data = (test_padded, test_label))"
      ],
      "execution_count": 13,
      "outputs": [
        {
          "output_type": "stream",
          "text": [
            "Train on 20000 samples, validate on 6709 samples\n",
            "Epoch 1/50\n",
            "20000/20000 [==============================] - 51s 3ms/sample - loss: 0.4080 - acc: 0.7977 - val_loss: 0.3601 - val_acc: 0.8398\n",
            "Epoch 2/50\n",
            "20000/20000 [==============================] - 50s 2ms/sample - loss: 0.2242 - acc: 0.9094 - val_loss: 0.3529 - val_acc: 0.8517\n",
            "Epoch 3/50\n",
            "20000/20000 [==============================] - 50s 2ms/sample - loss: 0.1574 - acc: 0.9386 - val_loss: 0.3957 - val_acc: 0.8489\n",
            "Epoch 4/50\n",
            "20000/20000 [==============================] - 50s 2ms/sample - loss: 0.1107 - acc: 0.9597 - val_loss: 0.4895 - val_acc: 0.8414\n",
            "Epoch 5/50\n",
            "20000/20000 [==============================] - 49s 2ms/sample - loss: 0.0774 - acc: 0.9720 - val_loss: 0.5525 - val_acc: 0.8390\n",
            "Epoch 6/50\n",
            "20000/20000 [==============================] - 49s 2ms/sample - loss: 0.0475 - acc: 0.9844 - val_loss: 0.5915 - val_acc: 0.8386\n",
            "Epoch 7/50\n",
            "20000/20000 [==============================] - 49s 2ms/sample - loss: 0.0304 - acc: 0.9905 - val_loss: 0.8575 - val_acc: 0.8296\n",
            "Epoch 8/50\n",
            "20000/20000 [==============================] - 48s 2ms/sample - loss: 0.0218 - acc: 0.9932 - val_loss: 0.8780 - val_acc: 0.8316\n",
            "Epoch 9/50\n",
            "20000/20000 [==============================] - 49s 2ms/sample - loss: 0.0162 - acc: 0.9948 - val_loss: 1.0096 - val_acc: 0.8284\n",
            "Epoch 10/50\n",
            "20000/20000 [==============================] - 49s 2ms/sample - loss: 0.0097 - acc: 0.9967 - val_loss: 1.2361 - val_acc: 0.8280\n",
            "Epoch 11/50\n",
            "20000/20000 [==============================] - 50s 2ms/sample - loss: 0.0100 - acc: 0.9969 - val_loss: 1.1664 - val_acc: 0.8278\n",
            "Epoch 12/50\n",
            "20000/20000 [==============================] - 49s 2ms/sample - loss: 0.0106 - acc: 0.9962 - val_loss: 1.2162 - val_acc: 0.8311\n",
            "Epoch 13/50\n",
            "20000/20000 [==============================] - 49s 2ms/sample - loss: 0.0106 - acc: 0.9966 - val_loss: 1.5077 - val_acc: 0.8183\n",
            "Epoch 14/50\n",
            "20000/20000 [==============================] - 48s 2ms/sample - loss: 0.0094 - acc: 0.9970 - val_loss: 1.2935 - val_acc: 0.8293\n",
            "Epoch 15/50\n",
            "20000/20000 [==============================] - 49s 2ms/sample - loss: 0.0035 - acc: 0.9990 - val_loss: 1.3345 - val_acc: 0.8305\n",
            "Epoch 16/50\n",
            "20000/20000 [==============================] - 50s 2ms/sample - loss: 0.0028 - acc: 0.9992 - val_loss: 1.5024 - val_acc: 0.8328\n",
            "Epoch 17/50\n",
            "20000/20000 [==============================] - 48s 2ms/sample - loss: 0.0027 - acc: 0.9992 - val_loss: 1.4829 - val_acc: 0.8290\n",
            "Epoch 18/50\n",
            "20000/20000 [==============================] - 48s 2ms/sample - loss: 0.0089 - acc: 0.9974 - val_loss: 1.2665 - val_acc: 0.8286\n",
            "Epoch 19/50\n",
            "20000/20000 [==============================] - 49s 2ms/sample - loss: 0.0063 - acc: 0.9977 - val_loss: 1.4236 - val_acc: 0.8252\n",
            "Epoch 20/50\n",
            "20000/20000 [==============================] - 48s 2ms/sample - loss: 0.0063 - acc: 0.9979 - val_loss: 1.3197 - val_acc: 0.8213\n",
            "Epoch 21/50\n",
            "20000/20000 [==============================] - 48s 2ms/sample - loss: 0.0033 - acc: 0.9989 - val_loss: 1.4810 - val_acc: 0.8241\n",
            "Epoch 22/50\n",
            "20000/20000 [==============================] - 49s 2ms/sample - loss: 0.0018 - acc: 0.9994 - val_loss: 1.5326 - val_acc: 0.8247\n",
            "Epoch 23/50\n",
            "20000/20000 [==============================] - 50s 2ms/sample - loss: 0.0012 - acc: 0.9996 - val_loss: 1.6919 - val_acc: 0.8231\n",
            "Epoch 24/50\n",
            "20000/20000 [==============================] - 49s 2ms/sample - loss: 9.0111e-04 - acc: 0.9995 - val_loss: 1.7353 - val_acc: 0.8240\n",
            "Epoch 25/50\n",
            "20000/20000 [==============================] - 50s 2ms/sample - loss: 0.0049 - acc: 0.9987 - val_loss: 1.6893 - val_acc: 0.8173\n",
            "Epoch 26/50\n",
            "20000/20000 [==============================] - 50s 2ms/sample - loss: 0.0057 - acc: 0.9977 - val_loss: 1.5116 - val_acc: 0.8223\n",
            "Epoch 27/50\n",
            "20000/20000 [==============================] - 49s 2ms/sample - loss: 0.0037 - acc: 0.9985 - val_loss: 1.5394 - val_acc: 0.8210\n",
            "Epoch 28/50\n",
            "20000/20000 [==============================] - 48s 2ms/sample - loss: 0.0016 - acc: 0.9995 - val_loss: 1.6683 - val_acc: 0.8228\n",
            "Epoch 29/50\n",
            "20000/20000 [==============================] - 48s 2ms/sample - loss: 5.6521e-04 - acc: 0.9998 - val_loss: 1.7816 - val_acc: 0.8213\n",
            "Epoch 30/50\n",
            "20000/20000 [==============================] - 48s 2ms/sample - loss: 7.4126e-04 - acc: 0.9997 - val_loss: 1.8737 - val_acc: 0.8183\n",
            "Epoch 31/50\n",
            "20000/20000 [==============================] - 48s 2ms/sample - loss: 6.8168e-04 - acc: 0.9995 - val_loss: 1.8540 - val_acc: 0.8198\n",
            "Epoch 32/50\n",
            "20000/20000 [==============================] - 48s 2ms/sample - loss: 4.7760e-04 - acc: 0.9997 - val_loss: 1.9419 - val_acc: 0.8182\n",
            "Epoch 33/50\n",
            "20000/20000 [==============================] - 48s 2ms/sample - loss: 6.1459e-04 - acc: 0.9998 - val_loss: 1.9447 - val_acc: 0.8165\n",
            "Epoch 34/50\n",
            "20000/20000 [==============================] - 48s 2ms/sample - loss: 0.0019 - acc: 0.9994 - val_loss: 1.7350 - val_acc: 0.8207\n",
            "Epoch 35/50\n",
            "20000/20000 [==============================] - 48s 2ms/sample - loss: 0.0054 - acc: 0.9981 - val_loss: 1.4026 - val_acc: 0.8189\n",
            "Epoch 36/50\n",
            "20000/20000 [==============================] - 48s 2ms/sample - loss: 0.0037 - acc: 0.9985 - val_loss: 1.3677 - val_acc: 0.8183\n",
            "Epoch 37/50\n",
            "20000/20000 [==============================] - 47s 2ms/sample - loss: 0.0012 - acc: 0.9997 - val_loss: 1.7056 - val_acc: 0.8186\n",
            "Epoch 38/50\n",
            "20000/20000 [==============================] - 48s 2ms/sample - loss: 8.1529e-04 - acc: 0.9995 - val_loss: 1.6556 - val_acc: 0.8183\n",
            "Epoch 39/50\n",
            "20000/20000 [==============================] - 47s 2ms/sample - loss: 5.9648e-04 - acc: 0.9998 - val_loss: 1.7510 - val_acc: 0.8156\n",
            "Epoch 40/50\n",
            "20000/20000 [==============================] - 48s 2ms/sample - loss: 5.1699e-04 - acc: 0.9998 - val_loss: 1.7762 - val_acc: 0.8189\n",
            "Epoch 41/50\n",
            "20000/20000 [==============================] - 48s 2ms/sample - loss: 5.4122e-04 - acc: 0.9996 - val_loss: 1.8151 - val_acc: 0.8180\n",
            "Epoch 42/50\n",
            "20000/20000 [==============================] - 48s 2ms/sample - loss: 5.4243e-04 - acc: 0.9998 - val_loss: 1.7972 - val_acc: 0.8156\n",
            "Epoch 43/50\n",
            "20000/20000 [==============================] - 48s 2ms/sample - loss: 7.0455e-04 - acc: 0.9996 - val_loss: 1.9400 - val_acc: 0.8149\n",
            "Epoch 44/50\n",
            "20000/20000 [==============================] - 48s 2ms/sample - loss: 5.3915e-04 - acc: 0.9998 - val_loss: 1.8749 - val_acc: 0.8140\n",
            "Epoch 45/50\n",
            "20000/20000 [==============================] - 48s 2ms/sample - loss: 5.7531e-04 - acc: 0.9998 - val_loss: 1.9360 - val_acc: 0.8176\n",
            "Epoch 46/50\n",
            "20000/20000 [==============================] - 48s 2ms/sample - loss: 4.9772e-04 - acc: 0.9996 - val_loss: 2.0443 - val_acc: 0.8149\n",
            "Epoch 47/50\n",
            "20000/20000 [==============================] - 49s 2ms/sample - loss: 0.0025 - acc: 0.9992 - val_loss: 1.5046 - val_acc: 0.8238\n",
            "Epoch 48/50\n",
            "20000/20000 [==============================] - 48s 2ms/sample - loss: 0.0046 - acc: 0.9987 - val_loss: 1.4509 - val_acc: 0.8213\n",
            "Epoch 49/50\n",
            "20000/20000 [==============================] - 49s 2ms/sample - loss: 0.0021 - acc: 0.9991 - val_loss: 1.5242 - val_acc: 0.8156\n",
            "Epoch 50/50\n",
            "20000/20000 [==============================] - 48s 2ms/sample - loss: 5.8110e-04 - acc: 0.9997 - val_loss: 1.6017 - val_acc: 0.8170\n"
          ],
          "name": "stdout"
        }
      ]
    },
    {
      "cell_type": "code",
      "metadata": {
        "id": "5sFxMlYnKtmB",
        "colab_type": "code",
        "colab": {}
      },
      "source": [
        ""
      ],
      "execution_count": 0,
      "outputs": []
    }
  ]
}