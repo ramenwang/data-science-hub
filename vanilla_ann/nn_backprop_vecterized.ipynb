{
 "cells": [
  {
   "cell_type": "markdown",
   "metadata": {},
   "source": [
    "# Building fully vectorized ANN with backpropagation tested with MNIST data\n",
    "The MNIST database of handwritten digits, available from this page, has a training set of 60,000 examples, and a test set of 10,000 examples. It is a subset of a larger set available from NIST. The digits have been size-normalized and centered in a fixed-size image.\n",
    "\n",
    "It is a good database for people who want to try learning techniques and pattern recognition methods on real-world data while spending minimal efforts on preprocessing and formatting.\n",
    "\n",
    "More detail, please check: http://yann.lecun.com/exdb/mnist/\n",
    "\n",
    "It has also been integrated into sklean package, so it can be directly imported."
   ]
  },
  {
   "cell_type": "code",
   "execution_count": 204,
   "metadata": {},
   "outputs": [
    {
     "name": "stdout",
     "output_type": "stream",
     "text": [
      "(1797, 8, 8)\n",
      "(1797, 64)\n"
     ]
    },
    {
     "data": {
      "image/png": "[encoded data removed]",
      "text/plain": [
       "<Figure size 432x288 with 64 Axes>"
      ]
     },
     "metadata": {},
     "output_type": "display_data"
    }
   ],
   "source": [
    "# loading MNIST data\n",
    "from sklearn.datasets import load_digits\n",
    "digits = load_digits()\n",
    "# digits image data which has been converted into three dimensional array\n",
    "print(digits.images.shape)\n",
    "# data has been concantenated into a vector by order\n",
    "print(digits.data.shape)\n",
    "\n",
    "import numpy as np\n",
    "import matplotlib.pyplot as plt\n",
    "_, axs = plt.subplots(8,8)\n",
    "ran_img = np.random.choice(range(digits.images.shape[0]), 64)\n",
    "plt.gray()\n",
    "for i in range(8):\n",
    "    for j in range(8):\n",
    "        axs[i,j].axis('off')\n",
    "        axs[i,j].matshow(digits.images[ran_img[i*8+j]])\n",
    "plt.show()"
   ]
  },
  {
   "cell_type": "markdown",
   "metadata": {},
   "source": [
    "### Preprocessing data\n",
    "* Standardize x\n",
    "* Split training and testing set\n",
    "* Create dummy output for classification"
   ]
  },
  {
   "cell_type": "code",
   "execution_count": 205,
   "metadata": {},
   "outputs": [
    {
     "name": "stdout",
     "output_type": "stream",
     "text": [
      "(1078, 64)\n",
      "(1078, 10)\n"
     ]
    }
   ],
   "source": [
    "# standardize data into zscore\n",
    "from sklearn.preprocessing import StandardScaler\n",
    "X_scale = StandardScaler()\n",
    "X = X_scale.fit_transform(digits.data)\n",
    "\n",
    "# create training and testing set\n",
    "from sklearn.model_selection import train_test_split\n",
    "y = digits.target\n",
    "X_train, X_test, y_train, y_test = train_test_split(X, y, test_size = 0.4)\n",
    "\n",
    "# convert y value into vector of zeros and one, dummy variable\n",
    "import numpy as np\n",
    "def vectorize_y(y):\n",
    "    y_vec = np.zeros((len(y), 10))\n",
    "    for i in range(len(y)):\n",
    "        y_vec[i,y[i]] = 1\n",
    "    return y_vec\n",
    "y_train = vectorize_y(y_train)\n",
    "y_test  = vectorize_y(y_test)\n",
    "print(X_train.shape)\n",
    "print(y_train.shape)"
   ]
  },
  {
   "cell_type": "markdown",
   "metadata": {},
   "source": [
    "### Define ANN functions\n",
    "\n",
    "#### Weights, $w_i$, between input layer $l_{i-1}$ and output layer $l_{i}$ has size of $n_{i}\\times n_{i-1} $\n",
    "#### Bias, $b_i$, betwen input layer $l_{i-1}$ and output layer $l_{i}$ has size of $n_{i}\\times 1 $"
   ]
  },
  {
   "cell_type": "code",
   "execution_count": 235,
   "metadata": {},
   "outputs": [],
   "source": [
    "# define NN structure\n",
    "def sigmoid_activation(X, w, b):\n",
    "    X_theta = X @ w.T + b.T\n",
    "    f_X = 1/(1 + np.exp(-X_theta))\n",
    "    f_deriv = f_X * (1 - f_X)\n",
    "    return f_X, f_deriv\n",
    "\n",
    "# define function for calculate derivatives\n",
    "def sigmoid_deriv(X, w, b):\n",
    "    f_X, X_theta = sigmoid_activation(X, w, b)\n",
    "    return f_X * (1 - f_X), X_theta\n",
    "\n",
    "# define function for initializing weights and bias\n",
    "def weight_initialization(nn_structure):\n",
    "    W = {}\n",
    "    b = {}\n",
    "    for sl in range(1, len(nn_structure)):\n",
    "        W[sl] = np.random.random_sample((nn_structure[sl], nn_structure[sl - 1]))\n",
    "        b[sl] = np.random.random_sample((nn_structure[sl],))\n",
    "    return W, b\n",
    "\n",
    "# define function for creating weight and bias updates\n",
    "def delta_initialization(nn_structure):\n",
    "    delta_W = {}\n",
    "    delta_b = {}\n",
    "    for sl in range(1, len(nn_structure)):\n",
    "        delta_W[sl] = np.zeros((nn_structure[sl], nn_structure[sl - 1]))\n",
    "        delta_b[sl] = np.zeros((nn_structure[sl],))\n",
    "    return delta_W, delta_b\n",
    "\n",
    "# define function for feedforward\n",
    "def feed_forward(X, W, b):\n",
    "    h = {1:X}\n",
    "    f_deriv = {}\n",
    "    for sl in range(1, len(W)+1):\n",
    "        if sl == 1:\n",
    "            node_in = X\n",
    "        else:\n",
    "            node_in = h[sl]\n",
    "        h[sl+1], f_deriv[sl+1] = sigmoid_activation(node_in, W[sl], b[sl])\n",
    "    return h, f_deriv\n",
    "\n",
    "# calculate gradient at output layer\n",
    "def calculate_gradient_last_layer(y, h_out, f_deriv):\n",
    "    return -(y - h_out) * f_deriv\n",
    "\n",
    "# calculate gradient at hidden layers\n",
    "def calculate_gradient_hidden_layer(delta_plus_1, w_sl, f_deriv_sl):\n",
    "    return np.dot(delta_plus_1, w_sl) * f_deriv_sl\n",
    "\n",
    "def train_nn(nn_structure, X, y, iter_num = 3000, alpha = 0.25, lamda = 0.8, penalty_type = None):\n",
    "    W, b = weight_initialization(nn_structure)\n",
    "    cnt = 0\n",
    "    m = len(y)\n",
    "    mean_residual = []\n",
    "    J = []\n",
    "    print(\"Gradient decent stated for {} iteration\".format(iter_num))\n",
    "    \n",
    "    while cnt <= iter_num:\n",
    "        cnt += 1\n",
    "        if cnt % 1000 == 0:\n",
    "            print(\"Finshed {} out of {}\".format(cnt, iter_num))\n",
    "        delta_W, delta_b = delta_initialization(nn_structure)\n",
    "        delta = {}\n",
    "        h, f_deriv = feed_forward(X, W, b)\n",
    "\n",
    "        for sl in range(len(nn_structure), 0, -1):\n",
    "            if sl == len(nn_structure):\n",
    "                delta[sl] = calculate_gradient_last_layer(y, h[sl], f_deriv[sl])\n",
    "                J.append(sum(delta[sl])/m)\n",
    "                mean_residual.append(np.linalg.norm(y-h[sl])/m)\n",
    "            else:\n",
    "                if sl > 1:\n",
    "                    delta[sl] = calculate_gradient_hidden_layer(delta[sl+1], W[sl], f_deriv[sl])\n",
    "                # delta updates\n",
    "                if penalty_type == \"L1\":\n",
    "                    r = sum(abs(W[sl]))\n",
    "                elif penalty_type == \"L2\":\n",
    "                    r = sum(np.square(W[sl]))\n",
    "                elif penalty_type == None:\n",
    "                    r = 0\n",
    "                delta_W[sl] += np.dot(delta[sl+1].T, h[sl]) + lamda/m*r\n",
    "                delta_b[sl] += np.sum(delta[sl+1].T)\n",
    "\n",
    "        for sl in range(len(nn_structure)-1,0,-1):\n",
    "            # weights updates\n",
    "            W[sl] += -alpha * (1.0/2/m * delta_W[sl])\n",
    "            b[sl] += -alpha * (1.0/2/m * delta_b[sl])\n",
    "            \n",
    "    return W, b, mean_residual, J\n",
    "\n",
    "def predict_nn(W, b, X, nn_structure):\n",
    "    m = X.shape[0]\n",
    "    y_hat = np.zeros((m,))\n",
    "    n_layers = len(nn_structure)\n",
    "    for i in range(m):\n",
    "        h, z = feed_forward(X[i,:], W, b)\n",
    "        y_hat[i] = np.argmax(h[n_layers]) \n",
    "    return y_hat"
   ]
  },
  {
   "cell_type": "code",
   "execution_count": 236,
   "metadata": {},
   "outputs": [
    {
     "name": "stdout",
     "output_type": "stream",
     "text": [
      "Gradient decent stated for 30000 iteration\n",
      "Finshed 1000 out of 30000\n",
      "Finshed 2000 out of 30000\n",
      "Finshed 3000 out of 30000\n",
      "Finshed 4000 out of 30000\n",
      "Finshed 5000 out of 30000\n",
      "Finshed 6000 out of 30000\n",
      "Finshed 7000 out of 30000\n",
      "Finshed 8000 out of 30000\n",
      "Finshed 9000 out of 30000\n",
      "Finshed 10000 out of 30000\n",
      "Finshed 11000 out of 30000\n",
      "Finshed 12000 out of 30000\n",
      "Finshed 13000 out of 30000\n",
      "Finshed 14000 out of 30000\n",
      "Finshed 15000 out of 30000\n",
      "Finshed 16000 out of 30000\n",
      "Finshed 17000 out of 30000\n",
      "Finshed 18000 out of 30000\n",
      "Finshed 19000 out of 30000\n",
      "Finshed 20000 out of 30000\n",
      "Finshed 21000 out of 30000\n",
      "Finshed 22000 out of 30000\n",
      "Finshed 23000 out of 30000\n",
      "Finshed 24000 out of 30000\n",
      "Finshed 25000 out of 30000\n",
      "Finshed 26000 out of 30000\n",
      "Finshed 27000 out of 30000\n",
      "Finshed 28000 out of 30000\n",
      "Finshed 29000 out of 30000\n",
      "Finshed 30000 out of 30000\n"
     ]
    }
   ],
   "source": [
    "nn_structure = [64, 30, 10]\n",
    "W, b, residual, cost = train_nn(nn_structure, X=X_train, y=y_train, \n",
    "                               iter_num = 30000, alpha = 0.25, penalty_type = None, lamda = 0.1)"
   ]
  },
  {
   "cell_type": "code",
   "execution_count": 237,
   "metadata": {},
   "outputs": [
    {
     "data": {
      "image/png": "[encoded data removed]",
      "text/plain": [
       "<Figure size 432x288 with 1 Axes>"
      ]
     },
     "metadata": {},
     "output_type": "display_data"
    }
   ],
   "source": [
    "# plt.plot(residual)\n",
    "plt.plot(cost)\n",
    "plt.ylabel('Average cost')\n",
    "plt.xlabel('Iteration')\n",
    "plt.show()"
   ]
  },
  {
   "cell_type": "code",
   "execution_count": 238,
   "metadata": {},
   "outputs": [
    {
     "data": {
      "image/png": "[encoded data removed]",
      "text/plain": [
       "<Figure size 432x288 with 9 Axes>"
      ]
     },
     "metadata": {},
     "output_type": "display_data"
    }
   ],
   "source": [
    "y_hat = predict_nn(W, b, X_test, nn_structure)\n",
    "_, axs = plt.subplots(3, 3)\n",
    "# plt.rcParams[\"figure.figsize\"] = (10,20)If \n",
    "plt.subplots_adjust(wspace=0.1, hspace=None)\n",
    "for i in range(3):\n",
    "    for j in range(3):\n",
    "        imatrix = np.reshape(X_test[i*3 + j], newshape=[8,8])\n",
    "        # axs[i,j].gray()\n",
    "        axs[i,j].matshow(imatrix)\n",
    "        axs[i,j].axis('off')\n",
    "        axs[i,j].set_title('Prediction is {}'.format(y_hat[i*3 + j]))\n"
   ]
  },
  {
   "cell_type": "code",
   "execution_count": null,
   "metadata": {},
   "outputs": [],
   "source": []
  },
  {
   "cell_type": "code",
   "execution_count": null,
   "metadata": {},
   "outputs": [],
   "source": []
  }
 ],
 "metadata": {
  "kernelspec": {
   "display_name": "Python 3",
   "language": "python",
   "name": "python3"
  },
  "language_info": {
   "codemirror_mode": {
    "name": "ipython",
    "version": 3
   },
   "file_extension": ".py",
   "mimetype": "text/x-python",
   "name": "python",
   "nbconvert_exporter": "python",
   "pygments_lexer": "ipython3",
   "version": "3.6.5"
  }
 },
 "nbformat": 4,
 "nbformat_minor": 2
}
